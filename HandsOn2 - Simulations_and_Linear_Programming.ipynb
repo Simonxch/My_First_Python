{
 "cells": [
  {
   "cell_type": "markdown",
   "metadata": {
    "id": "MCX4PY5hL9qA"
   },
   "source": [
    "#  <center><font color = 'black'> Simulations and Linear Programming</font></center>"
   ]
  },
  {
   "cell_type": "markdown",
   "metadata": {},
   "source": [
    "## <font color = 'Green'> Section 1 : Introduction</font>"
   ]
  },
  {
   "cell_type": "markdown",
   "metadata": {
    "id": "1ZNF4UgpL9qD"
   },
   "source": [
    "### Overview of this document"
   ]
  },
  {
   "cell_type": "markdown",
   "metadata": {
    "id": "YWh_o33jL9qD"
   },
   "source": [
    "The purpose of this jupyter notebook document is to deliver the hands-on sections of the Computational Modeling and Analytics course. It consists of a mix of tutorial style and self-learning sections. \n",
    "\n",
    "By the end of working through this document, students should have an understanding of the following: \n",
    "\n",
    "1. Solving a linear programming problem using packages such as lpsolve\n",
    "2. Developing optimisation models using different algorithms (e.g. Simplex)"
   ]
  },
  {
   "cell_type": "markdown",
   "metadata": {
    "id": "TQ57OloNL9qD"
   },
   "source": [
    "### Jupyter shortcuts to help along\n",
    "\n",
    "Tip: Keep Practising! "
   ]
  },
  {
   "cell_type": "markdown",
   "metadata": {
    "id": "xtLD3mzWL9qE"
   },
   "source": [
    "## First things first"
   ]
  },
  {
   "cell_type": "markdown",
   "metadata": {
    "id": "YBcQ1bvtL9qE"
   },
   "source": [
    "Let's try the classic Hello world first (true to coding tradition)"
   ]
  },
  {
   "cell_type": "code",
   "execution_count": 7,
   "metadata": {
    "id": "naqNmDOsL9qF"
   },
   "outputs": [
    {
     "name": "stdout",
     "output_type": "stream",
     "text": [
      "Dajia hao\n"
     ]
    }
   ],
   "source": [
    "print(\"Dajia hao\")"
   ]
  },
  {
   "cell_type": "markdown",
   "metadata": {
    "id": "S3jxP_LXL9qF"
   },
   "source": [
    "## Python libraries for data analysis"
   ]
  },
  {
   "cell_type": "markdown",
   "metadata": {
    "id": "vW6efSkPL9qF"
   },
   "source": [
    "There is a robust set of libraries supporting data engineering and analysis in Python"
   ]
  },
  {
   "cell_type": "code",
   "execution_count": 8,
   "metadata": {
    "id": "F52rfwfPL9qF"
   },
   "outputs": [],
   "source": [
    "import pandas as pd # Data processing library\n",
    "import numpy as np # Numeric and math functions\n",
    "import matplotlib # Chart and Graph Library\n",
    "import sklearn # Machine learning library"
   ]
  },
  {
   "cell_type": "markdown",
   "metadata": {
    "id": "ax_qbFCsL9qG"
   },
   "source": [
    "## <font color = 'Green'> Section 2 : Introduction to Simulation in Python </font>"
   ]
  },
  {
   "cell_type": "markdown",
   "metadata": {
    "id": "p9in3RLtL9qG"
   },
   "source": [
    "### 2.1 An example of deterministic simulation"
   ]
  },
  {
   "cell_type": "markdown",
   "metadata": {
    "id": "xqTbXRcBL9qG"
   },
   "source": [
    "<b>Financial simulations</b>"
   ]
  },
  {
   "cell_type": "markdown",
   "metadata": {
    "id": "E56ZCnPvL9qG"
   },
   "source": [
    "Try this: \n",
    "    \n",
    "Calculate the final depreciated value of an initially $10,000 car which declines in value by 3% per year for 10 years:\n",
    "\n",
    "$10,000∗(1+−0.03)10=$7,374.24"
   ]
  },
  {
   "cell_type": "markdown",
   "metadata": {
    "id": "EvIabnXBL9qG"
   },
   "source": [
    "Or simply use numpy's fv function"
   ]
  },
  {
   "cell_type": "code",
   "execution_count": 9,
   "metadata": {
    "id": "JPmJUKCwL9qH"
   },
   "outputs": [
    {
     "data": {
      "text/plain": [
       "7374.241268949281"
      ]
     },
     "execution_count": 9,
     "metadata": {},
     "output_type": "execute_result"
    }
   ],
   "source": [
    "import numpy as np\n",
    "import numpy_financial as npf\n",
    "npf.fv(rate=-0.03, nper=10, pmt=0, pv=-10000)"
   ]
  },
  {
   "cell_type": "code",
   "execution_count": 10,
   "metadata": {
    "id": "iFG1ztDqL9qH"
   },
   "outputs": [],
   "source": [
    "?npf.fv"
   ]
  },
  {
   "cell_type": "markdown",
   "metadata": {
    "id": "AE2pYcyVL9qH"
   },
   "source": [
    "### 2.2 Introduction to probabilistic simulation "
   ]
  },
  {
   "cell_type": "markdown",
   "metadata": {
    "id": "V25lvHuTL9qH"
   },
   "source": [
    "An informal introduction to Monte Carlo simulations: \n",
    "\n",
    "The key underlying idea is to use emperical observations (with a high enough number of trials) to solve an otherwise deterministic problem. Let us use understand this concept via simulation of a random walk. "
   ]
  },
  {
   "cell_type": "markdown",
   "metadata": {
    "id": "VCctXNh0L9qH"
   },
   "source": [
    "<b>Objective:</b> If someone takes a hundred steps, how far are they likely to be from the starting point?"
   ]
  },
  {
   "cell_type": "markdown",
   "metadata": {
    "id": "W5vlzt9mL9qH"
   },
   "source": [
    "<b>Function: <font color = red>random.choice() </font></b>"
   ]
  },
  {
   "cell_type": "code",
   "execution_count": 11,
   "metadata": {
    "id": "4uFdudviL9qI"
   },
   "outputs": [],
   "source": [
    "import random"
   ]
  },
  {
   "cell_type": "markdown",
   "metadata": {
    "id": "HIK6W5r4L9qI"
   },
   "source": [
    "Simulating a walk where a step can be taken in either of 8 directions : N, S, E, W, NE, NW, SE, SW"
   ]
  },
  {
   "cell_type": "code",
   "execution_count": 12,
   "metadata": {
    "id": "lMKe8sHFL9qI"
   },
   "outputs": [],
   "source": [
    "def random_walk(n):    #name of our new function - n is argument, i.e what we give to the function\n",
    "    x, y = 0, 0        #x and y are variables and we are assigning values to them\n",
    "    for i in range(n): # for loop, that says - do this n times\n",
    "        \n",
    "        step = random.choice(['N', 'S', 'E', 'W', 'NE', 'NW', 'SE', 'SW']) #select a choice at random\n",
    "        if step == 'N':\n",
    "            y+=1\n",
    "        elif step == 'S':\n",
    "            y-=1\n",
    "        elif step == 'E':\n",
    "            x+=1\n",
    "        elif step == 'W':\n",
    "            x-=1\n",
    "        elif step == 'NE':\n",
    "            x+=1\n",
    "            y+=1\n",
    "        elif step == 'NW':\n",
    "            x-=1\n",
    "            y+=1\n",
    "        elif step == 'SE':\n",
    "            x+=1\n",
    "            y-=1\n",
    "        elif step == 'SW':\n",
    "            x-=1\n",
    "            y-=1\n",
    "            \n",
    "    return (x,y)"
   ]
  },
  {
   "cell_type": "code",
   "execution_count": 13,
   "metadata": {
    "id": "M3AKOlclL9qI"
   },
   "outputs": [],
   "source": [
    "import numpy as np\n",
    "number_of_runs = 20000\n",
    "dist_away = np.array([])\n",
    "\n",
    "for i in range(number_of_runs):\n",
    "    x, y = random_walk(100)\n",
    "    manh_dis = np.sqrt(x**2 + y**2)\n",
    "    dist_away = np.append(dist_away, [manh_dis])"
   ]
  },
  {
   "cell_type": "code",
   "execution_count": 14,
   "metadata": {
    "id": "4j4U1C5eL9qI"
   },
   "outputs": [
    {
     "name": "stdout",
     "output_type": "stream",
     "text": [
      "[11.18033989 13.45362405  1.41421356 ... 11.04536102 27.31300057\n",
      "  7.07106781]\n"
     ]
    }
   ],
   "source": [
    "print(dist_away)"
   ]
  },
  {
   "cell_type": "code",
   "execution_count": 15,
   "metadata": {
    "id": "Rv1VZ0HjL9qJ",
    "scrolled": true
   },
   "outputs": [
    {
     "data": {
      "text/plain": [
       "(array([1943, 5287, 5391, 3912, 2206,  897,  286,   65,   12,    1],\n",
       "       dtype=int64),\n",
       " array([ 0.        ,  4.0607881 ,  8.1215762 , 12.1823643 , 16.2431524 ,\n",
       "        20.3039405 , 24.36472861, 28.42551671, 32.48630481, 36.54709291,\n",
       "        40.60788101]))"
      ]
     },
     "execution_count": 15,
     "metadata": {},
     "output_type": "execute_result"
    }
   ],
   "source": [
    "np.histogram(dist_away)"
   ]
  },
  {
   "cell_type": "code",
   "execution_count": 16,
   "metadata": {},
   "outputs": [],
   "source": [
    "?np.histogram"
   ]
  },
  {
   "cell_type": "code",
   "execution_count": 17,
   "metadata": {
    "id": "xMj_YbttL9qJ"
   },
   "outputs": [
    {
     "data": {
      "image/png": "[encoded data removed]",
      "text/plain": [
       "<Figure size 432x288 with 1 Axes>"
      ]
     },
     "metadata": {
      "needs_background": "light"
     },
     "output_type": "display_data"
    }
   ],
   "source": [
    "# print number_of_runs = 20000\n",
    "from matplotlib import pyplot as plt \n",
    "plt.hist(dist_away)\n",
    "plt.show()"
   ]
  },
  {
   "cell_type": "code",
   "execution_count": 18,
   "metadata": {},
   "outputs": [
    {
     "data": {
      "image/png": "[encoded data removed]",
      "text/plain": [
       "<Figure size 432x288 with 1 Axes>"
      ]
     },
     "metadata": {
      "needs_background": "light"
     },
     "output_type": "display_data"
    }
   ],
   "source": [
    "# print number_of_runs = 10000\n",
    "\n",
    "from matplotlib import pyplot as plt \n",
    "plt.hist(dist_away)\n",
    "plt.show()"
   ]
  },
  {
   "cell_type": "code",
   "execution_count": 19,
   "metadata": {},
   "outputs": [
    {
     "data": {
      "text/plain": [
       "array([11, 13,  1, ..., 11, 27,  7])"
      ]
     },
     "execution_count": 19,
     "metadata": {},
     "output_type": "execute_result"
    }
   ],
   "source": [
    "dist_away.astype(int)"
   ]
  },
  {
   "cell_type": "code",
   "execution_count": 20,
   "metadata": {},
   "outputs": [
    {
     "data": {
      "image/png": "[encoded data removed]",
      "text/plain": [
       "<Figure size 432x288 with 1 Axes>"
      ]
     },
     "metadata": {
      "needs_background": "light"
     },
     "output_type": "display_data"
    }
   ],
   "source": [
    "plt.scatter(range(0,len(dist_away)),dist_away)\n",
    "plt.show()"
   ]
  },
  {
   "cell_type": "code",
   "execution_count": 21,
   "metadata": {},
   "outputs": [],
   "source": [
    "?plt.scatter"
   ]
  },
  {
   "cell_type": "markdown",
   "metadata": {
    "id": "Pryx3CBhL9qJ"
   },
   "source": [
    "<b>Real world application:</b> crowd control, movement of people "
   ]
  },
  {
   "cell_type": "markdown",
   "metadata": {
    "id": "UNrARTxCL9qJ"
   },
   "source": [
    "<b>AnyLogic Video</b>"
   ]
  },
  {
   "cell_type": "markdown",
   "metadata": {
    "id": "UsCRWk_CL9qJ"
   },
   "source": [
    "AnyLogic is a simulation software that supports simulations for different industries/domains\n",
    "\n",
    "https://www.anylogic.com/resources/educational-videos/introduction-to-anylogic-software/"
   ]
  },
  {
   "cell_type": "markdown",
   "metadata": {
    "id": "Rlh1jQAmL9qJ"
   },
   "source": [
    "## <font color = 'Green'> Section 3 : Optimisation and linear programming in python </font>"
   ]
  },
  {
   "cell_type": "markdown",
   "metadata": {
    "id": "aDf38IKRL9qJ"
   },
   "source": [
    "### The Problem - Profit Maximization\n"
   ]
  },
  {
   "cell_type": "markdown",
   "metadata": {
    "id": "Eh7ysdi0L9qJ"
   },
   "source": [
    "A pharmaceutical company can produce two types of drug by three different processes. Each process requires the use of a chemical catalyst X which is in very limited supply. which products should the chemical catalyst be focusing on?"
   ]
  },
  {
   "cell_type": "markdown",
   "metadata": {
    "id": "ZhKyQLIwL9qK"
   },
   "source": [
    "<i> This can be solved as a linear programming problem! </i>"
   ]
  },
  {
   "cell_type": "markdown",
   "metadata": {
    "id": "Zasqjxw9L9qK"
   },
   "source": [
    "### Linear Programming in Excel"
   ]
  },
  {
   "cell_type": "markdown",
   "metadata": {
    "id": "46T5JROJL9qK"
   },
   "source": [
    "Excel's solver can be used to solve linear programming problems. Additionally, there are add-ons which make it simpler to solve. There are built-in solver in Excel or open source. To understand more about open source solvers, have a look at the below:\n",
    "\n",
    "<i>For your reading, if you're curious: </i> https://sourceforge.net/projects/opensolver/ "
   ]
  },
  {
   "cell_type": "markdown",
   "metadata": {
    "id": "2_0LWnO8L9qK"
   },
   "source": [
    "### Linear Programming in Python"
   ]
  },
  {
   "cell_type": "markdown",
   "metadata": {
    "id": "JAQtU5Y4L9qK"
   },
   "source": [
    "<b><font color = red>PuLP Package for Linear Programming</b>"
   ]
  },
  {
   "cell_type": "markdown",
   "metadata": {
    "id": "eOOgaX6UL9qK"
   },
   "source": [
    "Pulp is an open source package which can be used for linear programming and integer programming\n",
    "\n",
    "There are some standard steps that can be followed to define and solve a linear programming problem - let's try to solve the problem above and learn these steps along the way"
   ]
  },
  {
   "cell_type": "markdown",
   "metadata": {
    "id": "9s1y4qA1L9qL"
   },
   "source": [
    "<b> Step 1: Import the package"
   ]
  },
  {
   "cell_type": "markdown",
   "metadata": {
    "id": "qt11TjUQL9qL"
   },
   "source": [
    "Go to Start and search for Anaconda Powershell Prompt (Anaconda3). Once you see the black command prompt screen, type the following:\n",
    "\n",
    "pip install --trusted-host pypi.org --trusted-host files.pythonhosted.org pulp"
   ]
  },
  {
   "cell_type": "markdown",
   "metadata": {
    "id": "uS3RHh-mL9qL"
   },
   "source": [
    "Once you see the success message, come back to Jupyter Notebook and run the following code:"
   ]
  },
  {
   "cell_type": "markdown",
   "metadata": {},
   "source": [
    "**conda install -c conda-forge pulp** <- use this to import the package at Anaconda Prompt (Anaconda3), the method is different with the above mentioned"
   ]
  },
  {
   "cell_type": "code",
   "execution_count": 31,
   "metadata": {
    "id": "CgJ3V-shL9qL"
   },
   "outputs": [],
   "source": [
    "from pulp import * "
   ]
  },
  {
   "cell_type": "markdown",
   "metadata": {
    "id": "e1BDo4WyL9qL"
   },
   "source": [
    "<b> Step 2: Define the linear programming problem </b>"
   ]
  },
  {
   "cell_type": "markdown",
   "metadata": {
    "id": "HrnQOYvnL9qL"
   },
   "source": [
    "<b>Function: LpProblem (<i> name, sense </i>)</b>\n",
    "\n",
    "Used to assign a name to an optimisation problem (argument : name) and specify whether it is going to be a minimisation or maximisation problem (argument : sense, can take values - LpMinimize (default) or LpMaximise)\n"
   ]
  },
  {
   "cell_type": "code",
   "execution_count": 23,
   "metadata": {
    "id": "FN8NBP1UL9qL"
   },
   "outputs": [],
   "source": [
    "?LpProblem"
   ]
  },
  {
   "cell_type": "code",
   "execution_count": 32,
   "metadata": {
    "id": "5z-AYaJ5L9qM"
   },
   "outputs": [],
   "source": [
    "optProblem = LpProblem(\"Project_Pharmaceutical\", LpMaximize)"
   ]
  },
  {
   "cell_type": "markdown",
   "metadata": {
    "id": "aKINF9-_L9qM"
   },
   "source": [
    "<b>Step 3: Define the decision variables</b>"
   ]
  },
  {
   "cell_type": "markdown",
   "metadata": {
    "id": "ZhW07qO9L9qM"
   },
   "source": [
    "The decision variables here are the quantities of drugs that should be produced for each drug type. So we define those now"
   ]
  },
  {
   "cell_type": "markdown",
   "metadata": {
    "id": "8Nm3m9IcL9qM"
   },
   "source": [
    "<b>Function: LpVariable (<i> name, lowBound = None, upBound = None, cat = 'Continuous', e = None </i>) </b>\n",
    "\n",
    "name – The name of the variable\n",
    "\n",
    "lowbound – The lower bound on this variable’s range (bound value is included in range). Default is negative infinity\n",
    "\n",
    "upBound – The upper bound on this variable’s range (bound value is included in range). Default is positive infinity\n",
    "\n",
    "cat – The category this variable is in, Integer, Binary or Continuous(default)\n",
    "\n",
    "e – Used for column based modelling: relates to the variable’s existence in the objective function and constraints"
   ]
  },
  {
   "cell_type": "code",
   "execution_count": 27,
   "metadata": {
    "id": "J-7O3FDhL9qM"
   },
   "outputs": [],
   "source": [
    "?LpInteger"
   ]
  },
  {
   "cell_type": "code",
   "execution_count": 33,
   "metadata": {
    "id": "UObAlvwjL9qN"
   },
   "outputs": [],
   "source": [
    "D1 = LpVariable(\"Drug 1\",0,None,LpInteger)                  #Hours cannot be negative\n",
    "D2 = LpVariable(\"Drug 2\", 0, None, LpInteger) "
   ]
  },
  {
   "cell_type": "markdown",
   "metadata": {
    "id": "trYeMKP8L9qN"
   },
   "source": [
    "<b>Step 4: Define the objective function</b>"
   ]
  },
  {
   "cell_type": "markdown",
   "metadata": {
    "id": "EXxsJ9KNL9qN"
   },
   "source": [
    "In our problem, our objective is to minimise the budget. For that, we need to define the budget as a function of the decision variables \n",
    "(i.e, the total number of hours that are required for each grade of developer)"
   ]
  },
  {
   "cell_type": "code",
   "execution_count": 34,
   "metadata": {
    "id": "Awz1nnVJL9qN"
   },
   "outputs": [],
   "source": [
    "optProblem+= 3*D1 + 5*D2  # += means adding to the function"
   ]
  },
  {
   "cell_type": "markdown",
   "metadata": {
    "id": "CWBDAR1WL9qN"
   },
   "source": [
    "<b>Step 5: Define the constraints"
   ]
  },
  {
   "cell_type": "code",
   "execution_count": 35,
   "metadata": {
    "id": "N-Cj315iL9qN"
   },
   "outputs": [],
   "source": [
    "optProblem+= D1*1 <= 4 # Process 1 Constraint\n",
    "optProblem+= D1*3 + D2*2 <= 18 # Process 2 Constraint\n",
    "optProblem+= D2*2 <= 12 # Process 3 Constraint"
   ]
  },
  {
   "cell_type": "markdown",
   "metadata": {
    "id": "fIZL9s9PL9qN"
   },
   "source": [
    "<b>Step 6: Solve in one line</b>"
   ]
  },
  {
   "cell_type": "code",
   "execution_count": 36,
   "metadata": {
    "id": "PXz2--hDL9qO"
   },
   "outputs": [
    {
     "data": {
      "text/plain": [
       "1"
      ]
     },
     "execution_count": 36,
     "metadata": {},
     "output_type": "execute_result"
    }
   ],
   "source": [
    "optProblem.solve()"
   ]
  },
  {
   "cell_type": "markdown",
   "metadata": {
    "id": "uWY3HjIiL9qO"
   },
   "source": [
    "<b>Step 7: Study the output"
   ]
  },
  {
   "cell_type": "code",
   "execution_count": 39,
   "metadata": {
    "id": "Sud2kHzbL9qO"
   },
   "outputs": [
    {
     "name": "stdout",
     "output_type": "stream",
     "text": [
      "Status: Optimal\n"
     ]
    }
   ],
   "source": [
    "print(\"Status:\", LpStatus[optProblem.status])"
   ]
  },
  {
   "cell_type": "code",
   "execution_count": 41,
   "metadata": {
    "id": "XIGQC9mdL9qO"
   },
   "outputs": [
    {
     "name": "stdout",
     "output_type": "stream",
     "text": [
      "Drug_1 = 2\n",
      "Drug_2 = 6\n"
     ]
    }
   ],
   "source": [
    "for v in optProblem.variables():\n",
    "    print(v.name, \"=\", v.varValue)"
   ]
  },
  {
   "cell_type": "code",
   "execution_count": 42,
   "metadata": {
    "id": "YrrPLQMeL9qO"
   },
   "outputs": [
    {
     "name": "stdout",
     "output_type": "stream",
     "text": [
      "Maximum Profit =  36\n"
     ]
    }
   ],
   "source": [
    "print(\"Maximum Profit = \", value(optProblem.objective))"
   ]
  },
  {
   "cell_type": "markdown",
   "metadata": {},
   "source": [
    "# Going back to the original question: which products should the chemical catalyst be focusing on?\n",
    "# We should focus on to develop 2 Drug_1 and 6 Drug_2 which can bring the maximum profit at 36."
   ]
  }
 ],
 "metadata": {
  "colab": {
   "name": "Day 2- Simulations and Linear Programming.ipynb",
   "provenance": []
  },
  "kernelspec": {
   "display_name": "Python 3 (ipykernel)",
   "language": "python",
   "name": "python3"
  },
  "language_info": {
   "codemirror_mode": {
    "name": "ipython",
    "version": 3
   },
   "file_extension": ".py",
   "mimetype": "text/x-python",
   "name": "python",
   "nbconvert_exporter": "python",
   "pygments_lexer": "ipython3",
   "version": "3.8.11"
  }
 },
 "nbformat": 4,
 "nbformat_minor": 1
}
