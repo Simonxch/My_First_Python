{
 "cells": [
  {
   "cell_type": "markdown",
   "metadata": {
    "collapsed": true,
    "id": "u5YYQNxc0ZLW"
   },
   "source": [
    "# Day 1 - Introduction to Python"
   ]
  },
  {
   "cell_type": "markdown",
   "metadata": {
    "id": "35cL0iJz2a1A"
   },
   "source": [
    "## What is Python? \n",
    "\n",
    "Python is a computer programming language often used to build websites and software, automate tasks, and conduct data analysis. Python is a general purpose language, meaning it can be used to create a variety of different programs and isn’t specialized for any specific problems. \n",
    "\n",
    "## How old is Python? \n",
    "Python was first released in 1991, so it is 30 years old. However, we have different versions of python that has been released over its lifetime. We are using the current version 3.8."
   ]
  },
  {
   "cell_type": "markdown",
   "metadata": {
    "id": "CL2y8yXC0ZLf"
   },
   "source": [
    "## Why Python for data?\n",
    "\n",
    "Data has evolved from a \"by-product of processes\" to an asset that can inform and drive strategic\n",
    "decisions. This brings data-processing technology into the spotlight, with Python being among the\n",
    "clear front runners.\n",
    "And there's good reason for that!\n",
    "\n",
    "1. Solid standard library; rich set of tools, packages, open source frameworks for statistics, data\n",
    "analysis, AI, NLP.\n",
    "2. Readable and maintainable\n",
    "3. Supports multiple programming paradigms, more global than ever\n",
    "4. Active community, constant development\n",
    "5. Fast becoming the industry standard, in line with R.\n",
    "\n"
   ]
  },
  {
   "cell_type": "markdown",
   "metadata": {
    "id": "2_SsEI800ZLk"
   },
   "source": [
    "## Jupyter notebooks\n",
    "\n",
    "Integrate \"on-click runnable code blocks\" with commentory, insights.\n",
    "\n",
    "We wanted to use a platform today that would help you keep together these learning materials AND\n",
    "the code in one place. You can also take notes right here, as we go along, and retain it all in one\n",
    "clean notebook!\n",
    "(It's definitely cool!)"
   ]
  },
  {
   "cell_type": "markdown",
   "metadata": {
    "id": "Z90Mlp2O0ZLo"
   },
   "source": [
    "## Jupyter Keyboard Shortcuts\n",
    "\n",
    "### The essentials:\n",
    "\n",
    "| Windows | Macbook | Meaning |\n",
    "| --- | --- | --- |\n",
    "| Ctrl + Enter | Cmd + Enter | Run the code cell |\n",
    "| ESC + A | esc + A | Insert Code cell above  |\n",
    "| ESC + B | esc + B | Insert Code cell below  |\n",
    "| Ctrl + S | Command + S | Save Code  |\n",
    "| ESC + DD | esc + DD | Delete Code Cell   |\n",
    "| ESC + Z | esc + Z | Undo Deleted Code Cell  |\n",
    "| ESC + M | esc + M | Turn Code Cell into a Text cell  |\n",
    "| ESC + Y | esc + Y | Turn markdown cell into a code cell |\n",
    "|Ctrl + Shift + P | Command + Shift + P | Opens the command pallette |"
   ]
  },
  {
   "cell_type": "markdown",
   "metadata": {
    "id": "dFMdNtpOcI6R"
   },
   "source": [
    "## Jupyter Markdown essentials:\n",
    "\n",
    "Text cells allow you to write and render Markdown syntax. This is where you can describe and document your workflow or even help you in preparing a full report.\n",
    "\n",
    "Here are the markdown essentials:\n",
    "\n",
    "| Markdown Syntax | Meaning |\n",
    "| --- | --- |\n",
    "| # Abc | Title Header |\n",
    "| ## Abc | Section Header |\n",
    "| ### Abc | Sub-section Header |\n",
    "|__ abc __ OR ** abc ** | **Bold** text|\n",
    "|_ abc _ OR * abc *| *Italic* Text|\n",
    "|A hyphen (-) followed by one space| - Bulleted item|\n",
    "|A number followed by (.) and one space | 1. numbered list item |\n",
    "|< font color ='red'> abc < /font> | <font color ='red'> abc </font>|\n",
    "|< center> center the text < /center>|<center> abc </center>|\n",
    "|< br> | Insert a break line|\n"
   ]
  },
  {
   "cell_type": "markdown",
   "metadata": {
    "id": "79n1aE5U0ZLt"
   },
   "source": [
    "## Key Concepts in Python"
   ]
  },
  {
   "cell_type": "markdown",
   "metadata": {},
   "source": [
    "###  Adding Libraries\n",
    "\n",
    "Python comes with initial codes and functionalities for generic use. However, coding libraries (packages) developed by Developers from around the world has provided python with a unique opportunity to leverage pre-built codes and methods for a variety of workflows such as data analysis, data visualisation, building statistical and machine learning models. \n",
    "The Top 10 most utilised libraries in 2021 according to <a href=\"https://www.kdnuggets.com/2021/03/top-10-python-libraries-2021.html\">Kdnuggets </a> are: \n",
    "\n",
    "1. Pandas\n",
    "2. Numpy\n",
    "3. Scikit-Learn\n",
    "4. Gradio\n",
    "5. Tensorflow\n",
    "6. Keras\n",
    "7. Scipy\n",
    "8. Statsmodels\n",
    "9. Plotly\n",
    "10. Seaborn\n",
    "\n",
    "We add libraries using the <font color ='green'> **import**</font> followed by the name of the library. We also add acronyms by using <font color ='green'> **as**</font> acronyms to call the library using less characters.\n",
    "<br>\n",
    "<font color ='green'> **import**</font> pandas <font color ='green'> **as**</font>  pd"
   ]
  },
  {
   "cell_type": "code",
   "execution_count": 9,
   "metadata": {},
   "outputs": [],
   "source": [
    "# add the library pandas as pd and numpy as np\n",
    "#Insert code here\n",
    "import pandas as pd\n",
    "import numpy as np"
   ]
  },
  {
   "cell_type": "markdown",
   "metadata": {
    "id": "bDZmruFO0ZL0"
   },
   "source": [
    "### 1) Functions"
   ]
  },
  {
   "cell_type": "markdown",
   "metadata": {
    "id": "N5HYCq9L0ZL4"
   },
   "source": [
    "A function is a block of organized, reusable code containing related statements which is created in order to perform a specific task."
   ]
  },
  {
   "cell_type": "markdown",
   "metadata": {
    "id": "-wTJO5eh0ZL-"
   },
   "source": [
    "The following code is defining a function that returns a sum of 2 numbers:"
   ]
  },
  {
   "cell_type": "code",
   "execution_count": 3,
   "metadata": {
    "id": "o6py9ofk0ZMB"
   },
   "outputs": [],
   "source": [
    "def add_2_numbers(a,b):\n",
    "    return a + b"
   ]
  },
  {
   "cell_type": "code",
   "execution_count": 4,
   "metadata": {
    "id": "ePz8Wgzh0ZMC",
    "outputId": "2715193a-5571-4558-e949-5981bace420d"
   },
   "outputs": [],
   "source": [
    "# lets call the function using a = 2, b=3\n",
    "# insert code below"
   ]
  },
  {
   "cell_type": "markdown",
   "metadata": {
    "id": "jaR8-y8c0ZMM"
   },
   "source": [
    "The following code is defining a function that returns a sum of 3 numbers (where the 3rd number may/may not be present):"
   ]
  },
  {
   "cell_type": "code",
   "execution_count": 5,
   "metadata": {
    "id": "ZVlMLvyd0ZMO"
   },
   "outputs": [],
   "source": [
    "def add_3_numbers(a,b,c=None):\n",
    "    if c==None:\n",
    "        return a + b\n",
    "    else:\n",
    "        return a + b + c"
   ]
  },
  {
   "cell_type": "code",
   "execution_count": 6,
   "metadata": {
    "id": "iI1w3lKX0ZMP",
    "outputId": "1632acc3-d06b-4d3b-c293-4b881e7becbb"
   },
   "outputs": [],
   "source": [
    "# lets call the function using a = 2, b=3\n",
    "# insert code below"
   ]
  },
  {
   "cell_type": "code",
   "execution_count": 7,
   "metadata": {
    "id": "T-SNQ8Wv0ZMR",
    "outputId": "8d79457c-0d2a-4103-df64-2e89a83cd0a5"
   },
   "outputs": [],
   "source": [
    "# lets call the function using a = 2, b=3, c = 4\n",
    "# insert code below"
   ]
  },
  {
   "cell_type": "markdown",
   "metadata": {
    "id": "sg6N9_CZ0ZMS"
   },
   "source": [
    "### 2) Lists"
   ]
  },
  {
   "cell_type": "markdown",
   "metadata": {
    "id": "0j0aRejZ0ZMT"
   },
   "source": [
    "Lists are a collection of heterogenous data items which are indexed (ordered) and mutable (changeable). In python, lists are enclosed within square brackets and data items are separated by commas."
   ]
  },
  {
   "cell_type": "markdown",
   "metadata": {
    "id": "XvcoJoou0ZMT"
   },
   "source": [
    "#### 2.1) Defining a List"
   ]
  },
  {
   "cell_type": "code",
   "execution_count": 8,
   "metadata": {
    "id": "XZcUF6kO0ZMU",
    "outputId": "32336d89-2ce7-4822-d3d8-a77fa010848c"
   },
   "outputs": [],
   "source": [
    "List = [1, 'Singapore', 2, 'Malaysia']"
   ]
  },
  {
   "cell_type": "code",
   "execution_count": 9,
   "metadata": {},
   "outputs": [],
   "source": [
    "# print the List\n",
    "#Insert code below\n"
   ]
  },
  {
   "cell_type": "code",
   "execution_count": 10,
   "metadata": {
    "id": "kkca1UEp0ZMV",
    "outputId": "6da49688-b5eb-4497-a5d9-6edd73634427"
   },
   "outputs": [],
   "source": [
    "List1 = list(range(0,6,2))"
   ]
  },
  {
   "cell_type": "code",
   "execution_count": 11,
   "metadata": {},
   "outputs": [],
   "source": [
    "# print the List1\n",
    "#Insert code below\n"
   ]
  },
  {
   "cell_type": "markdown",
   "metadata": {
    "id": "Psv3S5uP0ZMX"
   },
   "source": [
    "#### 2.2) List Length"
   ]
  },
  {
   "cell_type": "code",
   "execution_count": 12,
   "metadata": {
    "id": "V-fyTiAX0ZMY",
    "outputId": "5ddcacfa-4e79-4199-bc87-95f08700efea"
   },
   "outputs": [
    {
     "data": {
      "text/plain": [
       "4"
      ]
     },
     "execution_count": 12,
     "metadata": {},
     "output_type": "execute_result"
    }
   ],
   "source": [
    "len(List)"
   ]
  },
  {
   "cell_type": "markdown",
   "metadata": {
    "id": "WlcGe_UN0ZMZ"
   },
   "source": [
    "#### 2.3) Accessing an item on the list"
   ]
  },
  {
   "cell_type": "markdown",
   "metadata": {
    "id": "PG2oOOaE0ZMb"
   },
   "source": [
    "##### 2.3.1) Zero Indexing"
   ]
  },
  {
   "cell_type": "code",
   "execution_count": 13,
   "metadata": {
    "id": "oqGVvnxX0ZMb",
    "outputId": "1ec85a3f-2948-4379-dc6b-bddb2b8f284f"
   },
   "outputs": [
    {
     "data": {
      "text/plain": [
       "1"
      ]
     },
     "execution_count": 13,
     "metadata": {},
     "output_type": "execute_result"
    }
   ],
   "source": [
    "List[0]"
   ]
  },
  {
   "cell_type": "code",
   "execution_count": 14,
   "metadata": {
    "id": "UA7dc8F50ZMc",
    "outputId": "b05a9b07-5028-4ea0-aa8b-2bc816234a2a"
   },
   "outputs": [
    {
     "data": {
      "text/plain": [
       "'Malaysia'"
      ]
     },
     "execution_count": 14,
     "metadata": {},
     "output_type": "execute_result"
    }
   ],
   "source": [
    "List[3]"
   ]
  },
  {
   "cell_type": "markdown",
   "metadata": {
    "id": "QnbQ4RS70ZMd"
   },
   "source": [
    "##### 2.3.2) Negative Indexing"
   ]
  },
  {
   "cell_type": "code",
   "execution_count": 15,
   "metadata": {
    "id": "Dy5jx1RU0ZMe",
    "outputId": "761d4dbc-f9df-42f5-fa52-5290f6730097"
   },
   "outputs": [
    {
     "data": {
      "text/plain": [
       "'Malaysia'"
      ]
     },
     "execution_count": 15,
     "metadata": {},
     "output_type": "execute_result"
    }
   ],
   "source": [
    "List[-1]"
   ]
  },
  {
   "cell_type": "code",
   "execution_count": 16,
   "metadata": {
    "id": "jx5onCy10ZMg",
    "outputId": "d55c6ca5-1107-4bfb-d58b-191a90ad3a33"
   },
   "outputs": [
    {
     "data": {
      "text/plain": [
       "'Singapore'"
      ]
     },
     "execution_count": 16,
     "metadata": {},
     "output_type": "execute_result"
    }
   ],
   "source": [
    "List[-3]"
   ]
  },
  {
   "cell_type": "markdown",
   "metadata": {
    "id": "Kyw4-eha0ZMh"
   },
   "source": [
    "##### 2.3.3) Range of Indexes"
   ]
  },
  {
   "cell_type": "code",
   "execution_count": 17,
   "metadata": {
    "id": "QdJ1FBar0ZMh",
    "outputId": "565eeed3-2c67-4beb-ddd8-f0e43d132cd8"
   },
   "outputs": [
    {
     "data": {
      "text/plain": [
       "['Singapore', 2, 'Malaysia']"
      ]
     },
     "execution_count": 17,
     "metadata": {},
     "output_type": "execute_result"
    }
   ],
   "source": [
    "List[1:]"
   ]
  },
  {
   "cell_type": "code",
   "execution_count": 18,
   "metadata": {
    "id": "xlPzmnve0ZMi",
    "outputId": "5208820e-f38a-44f8-ba1f-d3db23d1b25d"
   },
   "outputs": [
    {
     "data": {
      "text/plain": [
       "[1, 'Singapore', 2]"
      ]
     },
     "execution_count": 18,
     "metadata": {},
     "output_type": "execute_result"
    }
   ],
   "source": [
    "List[:3]"
   ]
  },
  {
   "cell_type": "code",
   "execution_count": 19,
   "metadata": {
    "id": "s4eKyuLQ0ZMj",
    "outputId": "623d7fff-37f3-469d-f302-5728081917bc"
   },
   "outputs": [
    {
     "data": {
      "text/plain": [
       "['Singapore', 2]"
      ]
     },
     "execution_count": 19,
     "metadata": {},
     "output_type": "execute_result"
    }
   ],
   "source": [
    "List[1:3]"
   ]
  },
  {
   "cell_type": "markdown",
   "metadata": {
    "id": "q2EHdVz90ZMk"
   },
   "source": [
    "##### 2.3.4) Range of Negative Indexes"
   ]
  },
  {
   "cell_type": "code",
   "execution_count": 20,
   "metadata": {
    "id": "ss8c0DG00ZMk",
    "outputId": "4fcf4bde-c7bd-4d1c-a2ae-2d751de2ccef"
   },
   "outputs": [
    {
     "data": {
      "text/plain": [
       "['Singapore', 2, 'Malaysia']"
      ]
     },
     "execution_count": 20,
     "metadata": {},
     "output_type": "execute_result"
    }
   ],
   "source": [
    "List[-3:]"
   ]
  },
  {
   "cell_type": "code",
   "execution_count": 21,
   "metadata": {
    "id": "yLZ3yQuH0ZMl",
    "outputId": "ddd093c5-cd66-4f20-e743-9d8dcf4d965f"
   },
   "outputs": [
    {
     "data": {
      "text/plain": [
       "[1, 'Singapore', 2]"
      ]
     },
     "execution_count": 21,
     "metadata": {},
     "output_type": "execute_result"
    }
   ],
   "source": [
    "List[:-1]"
   ]
  },
  {
   "cell_type": "code",
   "execution_count": 22,
   "metadata": {
    "id": "v-Q2HzCJ0ZMm",
    "outputId": "cb1f2c2c-168a-4887-b74c-09882f428738"
   },
   "outputs": [
    {
     "data": {
      "text/plain": [
       "['Singapore', 2]"
      ]
     },
     "execution_count": 22,
     "metadata": {},
     "output_type": "execute_result"
    }
   ],
   "source": [
    "List[-3:-1]"
   ]
  },
  {
   "cell_type": "markdown",
   "metadata": {
    "id": "kGXmRXSL0ZMn"
   },
   "source": [
    "#### 2.4) Loop through a list"
   ]
  },
  {
   "cell_type": "code",
   "execution_count": 23,
   "metadata": {
    "id": "b4HAXBF10ZMn",
    "outputId": "3a9bcd08-095f-4303-92d9-f30ef4b1060b"
   },
   "outputs": [
    {
     "name": "stdout",
     "output_type": "stream",
     "text": [
      "i = 1\n",
      "i = Singapore\n",
      "i = 2\n",
      "i = Malaysia\n"
     ]
    }
   ],
   "source": [
    "for i in List:\n",
    "    print(\"i = \"+str(i))"
   ]
  },
  {
   "cell_type": "markdown",
   "metadata": {
    "id": "dTCecSHS0ZMo"
   },
   "source": [
    "#### 2.5) Change list item values"
   ]
  },
  {
   "cell_type": "code",
   "execution_count": 24,
   "metadata": {
    "id": "11fTCCG30ZMp",
    "outputId": "3d78e886-4a23-49bd-fa19-184442cbc52e"
   },
   "outputs": [
    {
     "data": {
      "text/plain": [
       "[1, 'Singapore', 2, 'Indonesia']"
      ]
     },
     "execution_count": 24,
     "metadata": {},
     "output_type": "execute_result"
    }
   ],
   "source": [
    "List[3] = 'Indonesia'\n",
    "List"
   ]
  },
  {
   "cell_type": "markdown",
   "metadata": {
    "id": "3263_HJ70ZMp"
   },
   "source": [
    "#### 2.6) Add items on the list"
   ]
  },
  {
   "cell_type": "code",
   "execution_count": 25,
   "metadata": {
    "id": "72sY8ZzS0ZMq",
    "outputId": "893b2af1-7ba8-469d-9857-14e35b94fcda"
   },
   "outputs": [
    {
     "data": {
      "text/plain": [
       "[1, 'Singapore', 2, 'Indonesia', 3.3]"
      ]
     },
     "execution_count": 25,
     "metadata": {},
     "output_type": "execute_result"
    }
   ],
   "source": [
    "List.append(3.3)\n",
    "List"
   ]
  },
  {
   "cell_type": "markdown",
   "metadata": {
    "id": "2KclHDkm0ZMq"
   },
   "source": [
    "#### 2.7) Remove items on the list"
   ]
  },
  {
   "cell_type": "code",
   "execution_count": 26,
   "metadata": {
    "id": "MiegQj8O0ZMr",
    "outputId": "99e8fe24-b034-4c63-b7d1-465c031b3d29"
   },
   "outputs": [
    {
     "data": {
      "text/plain": [
       "[1, 'Singapore', 2, 'Indonesia']"
      ]
     },
     "execution_count": 26,
     "metadata": {},
     "output_type": "execute_result"
    }
   ],
   "source": [
    "List.remove(3.3)\n",
    "List"
   ]
  },
  {
   "cell_type": "markdown",
   "metadata": {
    "id": "gWYQGpgx0ZMr"
   },
   "source": [
    "### 3) Strings"
   ]
  },
  {
   "cell_type": "markdown",
   "metadata": {
    "id": "KWHjbyLo0ZMs"
   },
   "source": [
    "Strings are immutable in nature and hence it cannot be retrospectively updated (unlike lists, which allow addition/ removal/ change to existing data items). Strings are typically enclosed within single or double quotes."
   ]
  },
  {
   "cell_type": "code",
   "execution_count": 27,
   "metadata": {
    "id": "MKlwMJfj0ZMs",
    "outputId": "99c60158-5f64-47c5-fb95-4dc8e13fe88c"
   },
   "outputs": [
    {
     "data": {
      "text/plain": [
       "'Welcome to Analytics and Computational Modelling Day 1.'"
      ]
     },
     "execution_count": 27,
     "metadata": {},
     "output_type": "execute_result"
    }
   ],
   "source": [
    "WelcomeString = 'Welcome to Analytics and Computational Modelling Day 1.'\n",
    "WelcomeString"
   ]
  },
  {
   "cell_type": "markdown",
   "metadata": {
    "id": "pMqwSTXM0ZMt"
   },
   "source": [
    "Similar to lists, you can perform the following functions:\n",
    "\n",
    "a) Accessing individual data items using indexes\n",
    "\n",
    "b) Looping through a string\n",
    "\n",
    "c) Find length of the string"
   ]
  },
  {
   "cell_type": "code",
   "execution_count": 28,
   "metadata": {
    "id": "LQb12cFQ0ZMt",
    "outputId": "013adb9f-6302-4213-9f29-340d887846bd",
    "scrolled": true
   },
   "outputs": [
    {
     "data": {
      "text/plain": [
       "'Welcome'"
      ]
     },
     "execution_count": 28,
     "metadata": {},
     "output_type": "execute_result"
    }
   ],
   "source": [
    "#Accessing individual data items using Indexes\n",
    "\n",
    "##Zero Indexing\n",
    "WelcomeString[:7]"
   ]
  },
  {
   "cell_type": "code",
   "execution_count": 29,
   "metadata": {
    "id": "u-y3E12P0ZMt",
    "outputId": "5235269d-05f9-42a2-f946-07aea22ec98a",
    "scrolled": true
   },
   "outputs": [
    {
     "data": {
      "text/plain": [
       "'Analytics and Computational Modelling'"
      ]
     },
     "execution_count": 29,
     "metadata": {},
     "output_type": "execute_result"
    }
   ],
   "source": [
    "#Accessing individual data items using Indexes\n",
    "\n",
    "##Negative Indexing\n",
    "WelcomeString[-44:-7]"
   ]
  },
  {
   "cell_type": "code",
   "execution_count": 30,
   "metadata": {
    "id": "6IH-FW3G0ZMu",
    "outputId": "8c45400b-20cc-4202-c7b3-b480de76d8ae",
    "scrolled": true
   },
   "outputs": [
    {
     "name": "stdout",
     "output_type": "stream",
     "text": [
      "W\n",
      "e\n",
      "l\n",
      "c\n",
      "o\n",
      "m\n",
      "e\n"
     ]
    }
   ],
   "source": [
    "#Looping through the string\n",
    "for i in WelcomeString[:7]:\n",
    "    print(i)"
   ]
  },
  {
   "cell_type": "code",
   "execution_count": 31,
   "metadata": {
    "id": "yKlGmQtD0ZMv",
    "outputId": "12aaae57-1369-4f82-9348-49cd9ea6c168"
   },
   "outputs": [
    {
     "data": {
      "text/plain": [
       "55"
      ]
     },
     "execution_count": 31,
     "metadata": {},
     "output_type": "execute_result"
    }
   ],
   "source": [
    "#Finding length of the string\n",
    "len(WelcomeString)"
   ]
  },
  {
   "cell_type": "markdown",
   "metadata": {
    "id": "xxLfq3yr0ZMv"
   },
   "source": [
    "However unlike lists, you cannot perform the following functions:\n",
    "\n",
    "a) Changing/ updating data items\n",
    "\n",
    "b) Adding new data items to a string\n",
    "\n",
    "c) Removing new data items to the string\n",
    "\n",
    "The workaround to this is to overwrite the entire string instead of replacing a single data item within the string."
   ]
  },
  {
   "cell_type": "code",
   "execution_count": 32,
   "metadata": {
    "id": "w6dl7i_k0ZMw",
    "outputId": "4ba988c0-0ef0-4329-b468-c15af5e89666"
   },
   "outputs": [
    {
     "data": {
      "text/plain": [
       "'Welcome to Analytics and Computational Modelling'"
      ]
     },
     "execution_count": 32,
     "metadata": {},
     "output_type": "execute_result"
    }
   ],
   "source": [
    "WelcomeString = WelcomeString[:-7]\n",
    "WelcomeString"
   ]
  },
  {
   "cell_type": "markdown",
   "metadata": {
    "id": "IbagFVsd0ZMw"
   },
   "source": [
    "### 4) Data Frame\n",
    "\n",
    "Let's do what many of us do here a lot - \"think Excel\", \"think rows and columns\"! "
   ]
  },
  {
   "cell_type": "markdown",
   "metadata": {
    "id": "_lsZKi4Q0ZMw"
   },
   "source": [
    "Two-dimensional size-mutable, potentially heterogeneous tabular data structure with labeled axes (rows and columns). Arithmetic operations align on both row and column labels. The primary pandas data structure."
   ]
  },
  {
   "cell_type": "markdown",
   "metadata": {
    "id": "T49hsEp20ZMx"
   },
   "source": [
    "Essentially a DataFrame is composed of the following three elements:\n",
    "\n",
    "1) the **index** labels (these are the bold numbers from 0 to 9 on the left hand side of the table)\n",
    "\n",
    "2) the **column names** (these are the bold names on the top of the table)\n",
    "\n",
    "3) the **data** itself (this is everything else inside the actual cells of the table)"
   ]
  },
  {
   "cell_type": "markdown",
   "metadata": {
    "id": "uVYdYu4t0ZMx"
   },
   "source": [
    "#### 4.1) Defining Dataframes"
   ]
  },
  {
   "cell_type": "code",
   "execution_count": 33,
   "metadata": {
    "id": "8UYqt4S60ZMy"
   },
   "outputs": [],
   "source": [
    "column_names = ['OrderID','Product','Price','Quantity']"
   ]
  },
  {
   "cell_type": "code",
   "execution_count": 34,
   "metadata": {
    "id": "ZUYnH-3n0ZMy"
   },
   "outputs": [],
   "source": [
    "data = list([[10000,'Mattresses',500,4],\n",
    "                [10001,'Bedframes',300,4],\n",
    "                [10002,'Sofa',1000,6],\n",
    "                [10003,'Cabinet',150,2]])"
   ]
  },
  {
   "cell_type": "code",
   "execution_count": 39,
   "metadata": {
    "id": "qf31zy5K0ZMy",
    "outputId": "0ff474d0-15f5-4cd7-96c0-1470884c975f"
   },
   "outputs": [
    {
     "data": {
      "text/html": [
       "<div>\n",
       "<style scoped>\n",
       "    .dataframe tbody tr th:only-of-type {\n",
       "        vertical-align: middle;\n",
       "    }\n",
       "\n",
       "    .dataframe tbody tr th {\n",
       "        vertical-align: top;\n",
       "    }\n",
       "\n",
       "    .dataframe thead th {\n",
       "        text-align: right;\n",
       "    }\n",
       "</style>\n",
       "<table border=\"1\" class=\"dataframe\">\n",
       "  <thead>\n",
       "    <tr style=\"text-align: right;\">\n",
       "      <th></th>\n",
       "      <th>OrderID</th>\n",
       "      <th>Product</th>\n",
       "      <th>Price</th>\n",
       "      <th>Quantity</th>\n",
       "    </tr>\n",
       "  </thead>\n",
       "  <tbody>\n",
       "    <tr>\n",
       "      <th>0</th>\n",
       "      <td>10000</td>\n",
       "      <td>Mattresses</td>\n",
       "      <td>500</td>\n",
       "      <td>4</td>\n",
       "    </tr>\n",
       "    <tr>\n",
       "      <th>1</th>\n",
       "      <td>10001</td>\n",
       "      <td>Bedframes</td>\n",
       "      <td>300</td>\n",
       "      <td>4</td>\n",
       "    </tr>\n",
       "    <tr>\n",
       "      <th>2</th>\n",
       "      <td>10002</td>\n",
       "      <td>Sofa</td>\n",
       "      <td>1000</td>\n",
       "      <td>6</td>\n",
       "    </tr>\n",
       "    <tr>\n",
       "      <th>3</th>\n",
       "      <td>10003</td>\n",
       "      <td>Cabinet</td>\n",
       "      <td>150</td>\n",
       "      <td>2</td>\n",
       "    </tr>\n",
       "  </tbody>\n",
       "</table>\n",
       "</div>"
      ],
      "text/plain": [
       "   OrderID     Product  Price  Quantity\n",
       "0    10000  Mattresses    500         4\n",
       "1    10001   Bedframes    300         4\n",
       "2    10002        Sofa   1000         6\n",
       "3    10003     Cabinet    150         2"
      ]
     },
     "execution_count": 39,
     "metadata": {},
     "output_type": "execute_result"
    }
   ],
   "source": [
    "df =     pd.DataFrame(data,columns=column_names)\n",
    "\n",
    "df"
   ]
  },
  {
   "cell_type": "markdown",
   "metadata": {
    "id": "nQNUWqH10ZMz"
   },
   "source": [
    "#### 4.2) Subsetting Dataframes based on row and columns"
   ]
  },
  {
   "cell_type": "markdown",
   "metadata": {
    "id": "iM0EOgTS0ZMz"
   },
   "source": [
    "##### 4.2.1) Subsetting based on column names\n",
    "\n",
    "**Extracting Single column from Dataframe**\n",
    "\n",
    "To select a single column, use square brackets [] with the column name of the column of interest."
   ]
  },
  {
   "cell_type": "code",
   "execution_count": 40,
   "metadata": {
    "id": "mTNgBCHZ0ZMz",
    "outputId": "8cb722a6-e981-4baf-e7f3-73830146aa4f"
   },
   "outputs": [
    {
     "data": {
      "text/plain": [
       "0     500\n",
       "1     300\n",
       "2    1000\n",
       "3     150\n",
       "Name: Price, dtype: int64"
      ]
     },
     "execution_count": 40,
     "metadata": {},
     "output_type": "execute_result"
    }
   ],
   "source": [
    "Price = df[\"Price\"]\n",
    "Price"
   ]
  },
  {
   "cell_type": "markdown",
   "metadata": {
    "id": "0HFJWbLe0ZM0"
   },
   "source": [
    "Each column in a DataFrame is a Series. As a single column is selected, the returned object is a pandas Series. We can verify this by checking the type of the output:"
   ]
  },
  {
   "cell_type": "code",
   "execution_count": 41,
   "metadata": {
    "id": "2BPdi1lL0ZM0",
    "outputId": "60a32535-9237-4cf1-8d8e-c6991dd07d11"
   },
   "outputs": [
    {
     "data": {
      "text/plain": [
       "pandas.core.series.Series"
      ]
     },
     "execution_count": 41,
     "metadata": {},
     "output_type": "execute_result"
    }
   ],
   "source": [
    "type(Price)"
   ]
  },
  {
   "cell_type": "code",
   "execution_count": 42,
   "metadata": {
    "id": "GL84vP-a0ZM1",
    "outputId": "e56879b4-85c3-47a8-a4d2-3aa7c2c7885e"
   },
   "outputs": [
    {
     "data": {
      "text/plain": [
       "(4,)"
      ]
     },
     "execution_count": 42,
     "metadata": {},
     "output_type": "execute_result"
    }
   ],
   "source": [
    "df[\"Price\"].shape"
   ]
  },
  {
   "cell_type": "markdown",
   "metadata": {
    "id": "RyFGTy1G0ZM2"
   },
   "source": [
    "**Extracting Multiple columns from Dataframe**"
   ]
  },
  {
   "cell_type": "markdown",
   "metadata": {
    "id": "KwFJZTtB0ZM2"
   },
   "source": [
    "To select multiple columns, use a list of column names within the selection brackets []."
   ]
  },
  {
   "cell_type": "code",
   "execution_count": 43,
   "metadata": {
    "id": "lRI8RQKB0ZM3",
    "outputId": "9cccbbfc-8d95-4e28-fb76-29d9af59fd6e"
   },
   "outputs": [
    {
     "data": {
      "text/html": [
       "<div>\n",
       "<style scoped>\n",
       "    .dataframe tbody tr th:only-of-type {\n",
       "        vertical-align: middle;\n",
       "    }\n",
       "\n",
       "    .dataframe tbody tr th {\n",
       "        vertical-align: top;\n",
       "    }\n",
       "\n",
       "    .dataframe thead th {\n",
       "        text-align: right;\n",
       "    }\n",
       "</style>\n",
       "<table border=\"1\" class=\"dataframe\">\n",
       "  <thead>\n",
       "    <tr style=\"text-align: right;\">\n",
       "      <th></th>\n",
       "      <th>Price</th>\n",
       "      <th>Quantity</th>\n",
       "    </tr>\n",
       "  </thead>\n",
       "  <tbody>\n",
       "    <tr>\n",
       "      <th>0</th>\n",
       "      <td>500</td>\n",
       "      <td>4</td>\n",
       "    </tr>\n",
       "    <tr>\n",
       "      <th>1</th>\n",
       "      <td>300</td>\n",
       "      <td>4</td>\n",
       "    </tr>\n",
       "    <tr>\n",
       "      <th>2</th>\n",
       "      <td>1000</td>\n",
       "      <td>6</td>\n",
       "    </tr>\n",
       "    <tr>\n",
       "      <th>3</th>\n",
       "      <td>150</td>\n",
       "      <td>2</td>\n",
       "    </tr>\n",
       "  </tbody>\n",
       "</table>\n",
       "</div>"
      ],
      "text/plain": [
       "   Price  Quantity\n",
       "0    500         4\n",
       "1    300         4\n",
       "2   1000         6\n",
       "3    150         2"
      ]
     },
     "execution_count": 43,
     "metadata": {},
     "output_type": "execute_result"
    }
   ],
   "source": [
    "Price_Qty = df[[\"Price\",\"Quantity\"]]\n",
    "Price_Qty"
   ]
  },
  {
   "cell_type": "markdown",
   "metadata": {
    "id": "paoKPZL00ZM4"
   },
   "source": [
    "The returned data type is a pandas DataFrame:"
   ]
  },
  {
   "cell_type": "code",
   "execution_count": 44,
   "metadata": {
    "id": "6JZrUiwL0ZM4",
    "outputId": "e39d3fb6-17cf-4575-e4c9-734c6e46c169"
   },
   "outputs": [
    {
     "data": {
      "text/plain": [
       "pandas.core.frame.DataFrame"
      ]
     },
     "execution_count": 44,
     "metadata": {},
     "output_type": "execute_result"
    }
   ],
   "source": [
    "type(df[[\"Price\",\"Quantity\"]])"
   ]
  },
  {
   "cell_type": "code",
   "execution_count": 45,
   "metadata": {
    "id": "AM1n4Lwo0ZM5",
    "outputId": "9317dae0-d1ef-4770-b253-10c3b5d8a589"
   },
   "outputs": [
    {
     "data": {
      "text/plain": [
       "(4, 2)"
      ]
     },
     "execution_count": 45,
     "metadata": {},
     "output_type": "execute_result"
    }
   ],
   "source": [
    "df[[\"Price\",\"Quantity\"]].shape"
   ]
  },
  {
   "cell_type": "markdown",
   "metadata": {
    "id": "Ki_t9-v10ZM5"
   },
   "source": [
    "#### 4.2.2) Subsetting rows in a dataframe"
   ]
  },
  {
   "cell_type": "markdown",
   "metadata": {
    "id": "sfEVtBqE0ZM6"
   },
   "source": [
    "To select rows based on a conditional expression, use a condition inside the selection brackets []."
   ]
  },
  {
   "cell_type": "code",
   "execution_count": 46,
   "metadata": {
    "id": "PgqRPEMs0ZM6",
    "outputId": "eb3aab49-015c-48ed-981d-587bd2f09ff6"
   },
   "outputs": [
    {
     "data": {
      "text/html": [
       "<div>\n",
       "<style scoped>\n",
       "    .dataframe tbody tr th:only-of-type {\n",
       "        vertical-align: middle;\n",
       "    }\n",
       "\n",
       "    .dataframe tbody tr th {\n",
       "        vertical-align: top;\n",
       "    }\n",
       "\n",
       "    .dataframe thead th {\n",
       "        text-align: right;\n",
       "    }\n",
       "</style>\n",
       "<table border=\"1\" class=\"dataframe\">\n",
       "  <thead>\n",
       "    <tr style=\"text-align: right;\">\n",
       "      <th></th>\n",
       "      <th>OrderID</th>\n",
       "      <th>Product</th>\n",
       "      <th>Price</th>\n",
       "      <th>Quantity</th>\n",
       "    </tr>\n",
       "  </thead>\n",
       "  <tbody>\n",
       "    <tr>\n",
       "      <th>0</th>\n",
       "      <td>10000</td>\n",
       "      <td>Mattresses</td>\n",
       "      <td>500</td>\n",
       "      <td>4</td>\n",
       "    </tr>\n",
       "    <tr>\n",
       "      <th>2</th>\n",
       "      <td>10002</td>\n",
       "      <td>Sofa</td>\n",
       "      <td>1000</td>\n",
       "      <td>6</td>\n",
       "    </tr>\n",
       "  </tbody>\n",
       "</table>\n",
       "</div>"
      ],
      "text/plain": [
       "   OrderID     Product  Price  Quantity\n",
       "0    10000  Mattresses    500         4\n",
       "2    10002        Sofa   1000         6"
      ]
     },
     "execution_count": 46,
     "metadata": {},
     "output_type": "execute_result"
    }
   ],
   "source": [
    "ExpensiveProducts = df[df[\"Price\"] > 400]\n",
    "ExpensiveProducts"
   ]
  },
  {
   "cell_type": "markdown",
   "metadata": {
    "id": "p9x8pgw10ZM7"
   },
   "source": [
    "The condition inside the selection brackets df[\"Price\"] > 400 checks for which rows the Price column has a value larger than 400:"
   ]
  },
  {
   "cell_type": "code",
   "execution_count": 47,
   "metadata": {
    "id": "P_go2BHO0ZM7",
    "outputId": "d4aa3df4-52d4-4080-d790-865b27a79f10"
   },
   "outputs": [
    {
     "data": {
      "text/plain": [
       "0     True\n",
       "1    False\n",
       "2     True\n",
       "3    False\n",
       "Name: Price, dtype: bool"
      ]
     },
     "execution_count": 47,
     "metadata": {},
     "output_type": "execute_result"
    }
   ],
   "source": [
    "df[\"Price\"] > 400"
   ]
  },
  {
   "cell_type": "markdown",
   "metadata": {
    "id": "PVkGQvs30ZM8"
   },
   "source": [
    "The output of the conditional expression (>, but also ==, !=, <, <=,… would work) is actually a pandas Series of boolean values (either True or False) with the same number of rows as the original DataFrame. Such a Series of boolean values can be used to filter the DataFrame by putting it in between the selection brackets []. Only rows for which the value is True will be selected."
   ]
  },
  {
   "cell_type": "markdown",
   "metadata": {
    "id": "ZECJPAZR0ZM9"
   },
   "source": [
    "#### 4.2.2) Subsetting rows and columns from a dataframe"
   ]
  },
  {
   "cell_type": "markdown",
   "metadata": {
    "id": "APLqQfBX0ZM9"
   },
   "source": [
    "**Based on row condition and column names**"
   ]
  },
  {
   "cell_type": "code",
   "execution_count": 48,
   "metadata": {
    "id": "Y7901w_X0ZM-",
    "outputId": "ecdc11b1-4181-4949-8bc6-33381cdce370"
   },
   "outputs": [
    {
     "data": {
      "text/plain": [
       "0    Mattresses\n",
       "2          Sofa\n",
       "Name: Product, dtype: object"
      ]
     },
     "execution_count": 48,
     "metadata": {},
     "output_type": "execute_result"
    }
   ],
   "source": [
    "ExpensiveProduct_Names = df.loc[df[\"Price\"]>400,\"Product\"]\n",
    "ExpensiveProduct_Names"
   ]
  },
  {
   "cell_type": "markdown",
   "metadata": {
    "id": "hMmu-HQ70ZM-"
   },
   "source": [
    "**Based on row and column index ranges**"
   ]
  },
  {
   "cell_type": "code",
   "execution_count": 49,
   "metadata": {
    "id": "Nr33foZz0ZM_",
    "outputId": "fd072317-7419-4fe7-f44e-0ed7d2bd7d32"
   },
   "outputs": [
    {
     "data": {
      "text/html": [
       "<div>\n",
       "<style scoped>\n",
       "    .dataframe tbody tr th:only-of-type {\n",
       "        vertical-align: middle;\n",
       "    }\n",
       "\n",
       "    .dataframe tbody tr th {\n",
       "        vertical-align: top;\n",
       "    }\n",
       "\n",
       "    .dataframe thead th {\n",
       "        text-align: right;\n",
       "    }\n",
       "</style>\n",
       "<table border=\"1\" class=\"dataframe\">\n",
       "  <thead>\n",
       "    <tr style=\"text-align: right;\">\n",
       "      <th></th>\n",
       "      <th>Product</th>\n",
       "      <th>Price</th>\n",
       "    </tr>\n",
       "  </thead>\n",
       "  <tbody>\n",
       "    <tr>\n",
       "      <th>0</th>\n",
       "      <td>Mattresses</td>\n",
       "      <td>500</td>\n",
       "    </tr>\n",
       "    <tr>\n",
       "      <th>1</th>\n",
       "      <td>Bedframes</td>\n",
       "      <td>300</td>\n",
       "    </tr>\n",
       "    <tr>\n",
       "      <th>2</th>\n",
       "      <td>Sofa</td>\n",
       "      <td>1000</td>\n",
       "    </tr>\n",
       "  </tbody>\n",
       "</table>\n",
       "</div>"
      ],
      "text/plain": [
       "      Product  Price\n",
       "0  Mattresses    500\n",
       "1   Bedframes    300\n",
       "2        Sofa   1000"
      ]
     },
     "execution_count": 49,
     "metadata": {},
     "output_type": "execute_result"
    }
   ],
   "source": [
    "ExpensiveProduct_Names = df.iloc[:3,1:3]\n",
    "ExpensiveProduct_Names"
   ]
  },
  {
   "cell_type": "markdown",
   "metadata": {
    "id": "M2K9stcx0ZM_"
   },
   "source": [
    "## Let's learn some Python with Football :)"
   ]
  },
  {
   "cell_type": "code",
   "execution_count": 2,
   "metadata": {
    "id": "K3f4IXnV0ZNA"
   },
   "outputs": [],
   "source": [
    "#Import the pandas library as pd\n",
    "import pandas as pd"
   ]
  },
  {
   "cell_type": "markdown",
   "metadata": {
    "id": "Auo3_Shc0ZNA"
   },
   "source": [
    "## Dataset: FIFA 2018 Statistics"
   ]
  },
  {
   "cell_type": "markdown",
   "metadata": {
    "id": "IRLBXYHd0ZNB"
   },
   "source": [
    "We can use the read_csv function from Pandas to import the dataset. Do try playing around with the tab and shift+tab shortcuts to get function and argument prompts respectively!"
   ]
  },
  {
   "cell_type": "markdown",
   "metadata": {
    "id": "Bqni2V2l0ZNB"
   },
   "source": [
    "Set the variable File to the location of the file on your system. Enclose this location within Double quotes and ensure that it is prefixed by the letter **r**, which indicates that the string refers to a folder location. "
   ]
  },
  {
   "cell_type": "code",
   "execution_count": 10,
   "metadata": {
    "id": "X1uekjMx0ZNC"
   },
   "outputs": [],
   "source": [
    "file = r\"C:\\Users\\mingj\\Desktop\\Analytics and Computational modelling\\FifaStats 20180716.csv\" # enter your file name location here between"
   ]
  },
  {
   "cell_type": "markdown",
   "metadata": {
    "id": "DBl_Pen50ZNC"
   },
   "source": [
    "How do we upload the file onto the Jupyter notebook? "
   ]
  },
  {
   "cell_type": "code",
   "execution_count": 12,
   "metadata": {
    "id": "MT-JAr7M0ZND"
   },
   "outputs": [],
   "source": [
    "fifaStats = pd.read_csv(file)"
   ]
  },
  {
   "cell_type": "markdown",
   "metadata": {
    "id": "jV9LVKyj0ZND"
   },
   "source": [
    "### Shape of You"
   ]
  },
  {
   "cell_type": "markdown",
   "metadata": {
    "id": "N15nPceQ0ZNE"
   },
   "source": [
    "The first thing that we should do when we get any new data to play with is to check out it's dimensions, what it looks like, number of rows, columns, etc. Depending on the context, we can also run preliminary checks on number of zero, null values, etc. "
   ]
  },
  {
   "cell_type": "code",
   "execution_count": 13,
   "metadata": {
    "id": "lriNQWiB0ZNE",
    "outputId": "a4fcbed7-016b-4750-a238-88dd39e207bb"
   },
   "outputs": [
    {
     "data": {
      "text/html": [
       "<div>\n",
       "<style scoped>\n",
       "    .dataframe tbody tr th:only-of-type {\n",
       "        vertical-align: middle;\n",
       "    }\n",
       "\n",
       "    .dataframe tbody tr th {\n",
       "        vertical-align: top;\n",
       "    }\n",
       "\n",
       "    .dataframe thead th {\n",
       "        text-align: right;\n",
       "    }\n",
       "</style>\n",
       "<table border=\"1\" class=\"dataframe\">\n",
       "  <thead>\n",
       "    <tr style=\"text-align: right;\">\n",
       "      <th></th>\n",
       "      <th>Date</th>\n",
       "      <th>Team_Opponent_Capital</th>\n",
       "      <th>Goal Scored</th>\n",
       "      <th>Ball Possession %</th>\n",
       "      <th>Attempts</th>\n",
       "      <th>On-Target</th>\n",
       "      <th>Off-Target</th>\n",
       "      <th>Blocked</th>\n",
       "      <th>Corners</th>\n",
       "      <th>Offsides</th>\n",
       "      <th>...</th>\n",
       "      <th>Yellow Card</th>\n",
       "      <th>Yellow &amp; Red</th>\n",
       "      <th>Red</th>\n",
       "      <th>Man of the Match</th>\n",
       "      <th>1st Goal</th>\n",
       "      <th>Round</th>\n",
       "      <th>PSO</th>\n",
       "      <th>Goals in PSO</th>\n",
       "      <th>Own goals</th>\n",
       "      <th>Own goal Time</th>\n",
       "    </tr>\n",
       "  </thead>\n",
       "  <tbody>\n",
       "    <tr>\n",
       "      <th>0</th>\n",
       "      <td>14/6/2018</td>\n",
       "      <td>Russia__SaudiArabia</td>\n",
       "      <td>5</td>\n",
       "      <td>40</td>\n",
       "      <td>13</td>\n",
       "      <td>7</td>\n",
       "      <td>3</td>\n",
       "      <td>3</td>\n",
       "      <td>6</td>\n",
       "      <td>3</td>\n",
       "      <td>...</td>\n",
       "      <td>0</td>\n",
       "      <td>0</td>\n",
       "      <td>0</td>\n",
       "      <td>Yes</td>\n",
       "      <td>12.0</td>\n",
       "      <td>Group Stage</td>\n",
       "      <td>No</td>\n",
       "      <td>0</td>\n",
       "      <td>NaN</td>\n",
       "      <td>NaN</td>\n",
       "    </tr>\n",
       "    <tr>\n",
       "      <th>1</th>\n",
       "      <td>14/6/2018</td>\n",
       "      <td>SaudiArabia__Russia</td>\n",
       "      <td>0</td>\n",
       "      <td>60</td>\n",
       "      <td>6</td>\n",
       "      <td>0</td>\n",
       "      <td>3</td>\n",
       "      <td>3</td>\n",
       "      <td>2</td>\n",
       "      <td>1</td>\n",
       "      <td>...</td>\n",
       "      <td>0</td>\n",
       "      <td>0</td>\n",
       "      <td>0</td>\n",
       "      <td>No</td>\n",
       "      <td>NaN</td>\n",
       "      <td>Group Stage</td>\n",
       "      <td>No</td>\n",
       "      <td>0</td>\n",
       "      <td>NaN</td>\n",
       "      <td>NaN</td>\n",
       "    </tr>\n",
       "    <tr>\n",
       "      <th>2</th>\n",
       "      <td>15/6/2018</td>\n",
       "      <td>Egypt__Uruguay</td>\n",
       "      <td>0</td>\n",
       "      <td>43</td>\n",
       "      <td>8</td>\n",
       "      <td>3</td>\n",
       "      <td>3</td>\n",
       "      <td>2</td>\n",
       "      <td>0</td>\n",
       "      <td>1</td>\n",
       "      <td>...</td>\n",
       "      <td>2</td>\n",
       "      <td>0</td>\n",
       "      <td>0</td>\n",
       "      <td>No</td>\n",
       "      <td>NaN</td>\n",
       "      <td>Group Stage</td>\n",
       "      <td>No</td>\n",
       "      <td>0</td>\n",
       "      <td>NaN</td>\n",
       "      <td>NaN</td>\n",
       "    </tr>\n",
       "    <tr>\n",
       "      <th>3</th>\n",
       "      <td>15/6/2018</td>\n",
       "      <td>Uruguay__Egypt</td>\n",
       "      <td>1</td>\n",
       "      <td>57</td>\n",
       "      <td>14</td>\n",
       "      <td>4</td>\n",
       "      <td>6</td>\n",
       "      <td>4</td>\n",
       "      <td>5</td>\n",
       "      <td>1</td>\n",
       "      <td>...</td>\n",
       "      <td>0</td>\n",
       "      <td>0</td>\n",
       "      <td>0</td>\n",
       "      <td>Yes</td>\n",
       "      <td>89.0</td>\n",
       "      <td>Group Stage</td>\n",
       "      <td>No</td>\n",
       "      <td>0</td>\n",
       "      <td>NaN</td>\n",
       "      <td>NaN</td>\n",
       "    </tr>\n",
       "    <tr>\n",
       "      <th>4</th>\n",
       "      <td>15/6/2018</td>\n",
       "      <td>Morocco__Iran</td>\n",
       "      <td>0</td>\n",
       "      <td>64</td>\n",
       "      <td>13</td>\n",
       "      <td>3</td>\n",
       "      <td>6</td>\n",
       "      <td>4</td>\n",
       "      <td>5</td>\n",
       "      <td>0</td>\n",
       "      <td>...</td>\n",
       "      <td>1</td>\n",
       "      <td>0</td>\n",
       "      <td>0</td>\n",
       "      <td>No</td>\n",
       "      <td>NaN</td>\n",
       "      <td>Group Stage</td>\n",
       "      <td>No</td>\n",
       "      <td>0</td>\n",
       "      <td>1.0</td>\n",
       "      <td>90.0</td>\n",
       "    </tr>\n",
       "  </tbody>\n",
       "</table>\n",
       "<p>5 rows × 26 columns</p>\n",
       "</div>"
      ],
      "text/plain": [
       "        Date Team_Opponent_Capital  Goal Scored  Ball Possession %  Attempts  \\\n",
       "0  14/6/2018   Russia__SaudiArabia            5                 40        13   \n",
       "1  14/6/2018   SaudiArabia__Russia            0                 60         6   \n",
       "2  15/6/2018        Egypt__Uruguay            0                 43         8   \n",
       "3  15/6/2018        Uruguay__Egypt            1                 57        14   \n",
       "4  15/6/2018         Morocco__Iran            0                 64        13   \n",
       "\n",
       "   On-Target  Off-Target  Blocked  Corners  Offsides  ...  Yellow Card  \\\n",
       "0          7           3        3        6         3  ...            0   \n",
       "1          0           3        3        2         1  ...            0   \n",
       "2          3           3        2        0         1  ...            2   \n",
       "3          4           6        4        5         1  ...            0   \n",
       "4          3           6        4        5         0  ...            1   \n",
       "\n",
       "   Yellow & Red  Red  Man of the Match  1st Goal        Round  PSO  \\\n",
       "0             0    0               Yes      12.0  Group Stage   No   \n",
       "1             0    0                No       NaN  Group Stage   No   \n",
       "2             0    0                No       NaN  Group Stage   No   \n",
       "3             0    0               Yes      89.0  Group Stage   No   \n",
       "4             0    0                No       NaN  Group Stage   No   \n",
       "\n",
       "   Goals in PSO  Own goals Own goal Time  \n",
       "0             0        NaN           NaN  \n",
       "1             0        NaN           NaN  \n",
       "2             0        NaN           NaN  \n",
       "3             0        NaN           NaN  \n",
       "4             0        1.0          90.0  \n",
       "\n",
       "[5 rows x 26 columns]"
      ]
     },
     "execution_count": 13,
     "metadata": {},
     "output_type": "execute_result"
    }
   ],
   "source": [
    "#Lets us take a quick look of the dataframe\n",
    "\n",
    "fifaStats.head()"
   ]
  },
  {
   "cell_type": "markdown",
   "metadata": {
    "id": "ddI1bHad0ZNF"
   },
   "source": [
    "<b>Live Discussion: <i>First thoughts and observations?</i></b>\n",
    "\n",
    "1. Missing metadata - so source for it  \n",
    "2. 2 rows per match\n",
    "2. Country names mashed up together\n",
    "3. Missing space between country names"
   ]
  },
  {
   "cell_type": "code",
   "execution_count": 14,
   "metadata": {
    "id": "9R35O5wW0ZNF",
    "outputId": "73398490-7be4-4757-b8f9-85a2f451ee88"
   },
   "outputs": [
    {
     "data": {
      "text/html": [
       "<div>\n",
       "<style scoped>\n",
       "    .dataframe tbody tr th:only-of-type {\n",
       "        vertical-align: middle;\n",
       "    }\n",
       "\n",
       "    .dataframe tbody tr th {\n",
       "        vertical-align: top;\n",
       "    }\n",
       "\n",
       "    .dataframe thead th {\n",
       "        text-align: right;\n",
       "    }\n",
       "</style>\n",
       "<table border=\"1\" class=\"dataframe\">\n",
       "  <thead>\n",
       "    <tr style=\"text-align: right;\">\n",
       "      <th></th>\n",
       "      <th>Goal Scored</th>\n",
       "      <th>Ball Possession %</th>\n",
       "      <th>Attempts</th>\n",
       "      <th>On-Target</th>\n",
       "      <th>Off-Target</th>\n",
       "      <th>Blocked</th>\n",
       "      <th>Corners</th>\n",
       "      <th>Offsides</th>\n",
       "      <th>Free Kicks</th>\n",
       "      <th>Saves</th>\n",
       "      <th>...</th>\n",
       "      <th>Passes</th>\n",
       "      <th>Distance Covered (Kms)</th>\n",
       "      <th>Fouls Committed</th>\n",
       "      <th>Yellow Card</th>\n",
       "      <th>Yellow &amp; Red</th>\n",
       "      <th>Red</th>\n",
       "      <th>1st Goal</th>\n",
       "      <th>Goals in PSO</th>\n",
       "      <th>Own goals</th>\n",
       "      <th>Own goal Time</th>\n",
       "    </tr>\n",
       "  </thead>\n",
       "  <tbody>\n",
       "    <tr>\n",
       "      <th>count</th>\n",
       "      <td>124.000000</td>\n",
       "      <td>124.000000</td>\n",
       "      <td>124.000000</td>\n",
       "      <td>124.000000</td>\n",
       "      <td>124.000000</td>\n",
       "      <td>124.000000</td>\n",
       "      <td>124.000000</td>\n",
       "      <td>124.000000</td>\n",
       "      <td>124.000000</td>\n",
       "      <td>124.000000</td>\n",
       "      <td>...</td>\n",
       "      <td>124.000000</td>\n",
       "      <td>124.000000</td>\n",
       "      <td>124.000000</td>\n",
       "      <td>124.000000</td>\n",
       "      <td>124.000000</td>\n",
       "      <td>124.000000</td>\n",
       "      <td>91.000000</td>\n",
       "      <td>124.000000</td>\n",
       "      <td>11.0</td>\n",
       "      <td>11.000000</td>\n",
       "    </tr>\n",
       "    <tr>\n",
       "      <th>mean</th>\n",
       "      <td>1.298387</td>\n",
       "      <td>49.991935</td>\n",
       "      <td>12.596774</td>\n",
       "      <td>3.895161</td>\n",
       "      <td>5.290323</td>\n",
       "      <td>3.362903</td>\n",
       "      <td>4.733871</td>\n",
       "      <td>1.362903</td>\n",
       "      <td>15.000000</td>\n",
       "      <td>2.725806</td>\n",
       "      <td>...</td>\n",
       "      <td>461.233871</td>\n",
       "      <td>106.741935</td>\n",
       "      <td>13.637097</td>\n",
       "      <td>1.701613</td>\n",
       "      <td>0.016129</td>\n",
       "      <td>0.016129</td>\n",
       "      <td>40.208791</td>\n",
       "      <td>0.209677</td>\n",
       "      <td>1.0</td>\n",
       "      <td>48.363636</td>\n",
       "    </tr>\n",
       "    <tr>\n",
       "      <th>std</th>\n",
       "      <td>1.140388</td>\n",
       "      <td>10.481494</td>\n",
       "      <td>5.305189</td>\n",
       "      <td>2.258925</td>\n",
       "      <td>2.391632</td>\n",
       "      <td>2.427266</td>\n",
       "      <td>2.469682</td>\n",
       "      <td>1.205237</td>\n",
       "      <td>4.707717</td>\n",
       "      <td>2.065350</td>\n",
       "      <td>...</td>\n",
       "      <td>150.909229</td>\n",
       "      <td>11.899218</td>\n",
       "      <td>4.622910</td>\n",
       "      <td>1.343335</td>\n",
       "      <td>0.126483</td>\n",
       "      <td>0.126483</td>\n",
       "      <td>24.473803</td>\n",
       "      <td>0.819222</td>\n",
       "      <td>0.0</td>\n",
       "      <td>30.067500</td>\n",
       "    </tr>\n",
       "    <tr>\n",
       "      <th>min</th>\n",
       "      <td>0.000000</td>\n",
       "      <td>25.000000</td>\n",
       "      <td>3.000000</td>\n",
       "      <td>0.000000</td>\n",
       "      <td>1.000000</td>\n",
       "      <td>0.000000</td>\n",
       "      <td>0.000000</td>\n",
       "      <td>0.000000</td>\n",
       "      <td>5.000000</td>\n",
       "      <td>0.000000</td>\n",
       "      <td>...</td>\n",
       "      <td>189.000000</td>\n",
       "      <td>80.000000</td>\n",
       "      <td>5.000000</td>\n",
       "      <td>0.000000</td>\n",
       "      <td>0.000000</td>\n",
       "      <td>0.000000</td>\n",
       "      <td>1.000000</td>\n",
       "      <td>0.000000</td>\n",
       "      <td>1.0</td>\n",
       "      <td>12.000000</td>\n",
       "    </tr>\n",
       "    <tr>\n",
       "      <th>25%</th>\n",
       "      <td>0.000000</td>\n",
       "      <td>42.000000</td>\n",
       "      <td>9.000000</td>\n",
       "      <td>2.000000</td>\n",
       "      <td>4.000000</td>\n",
       "      <td>1.750000</td>\n",
       "      <td>3.000000</td>\n",
       "      <td>0.000000</td>\n",
       "      <td>11.000000</td>\n",
       "      <td>1.000000</td>\n",
       "      <td>...</td>\n",
       "      <td>351.000000</td>\n",
       "      <td>101.000000</td>\n",
       "      <td>10.000000</td>\n",
       "      <td>1.000000</td>\n",
       "      <td>0.000000</td>\n",
       "      <td>0.000000</td>\n",
       "      <td>19.000000</td>\n",
       "      <td>0.000000</td>\n",
       "      <td>1.0</td>\n",
       "      <td>27.500000</td>\n",
       "    </tr>\n",
       "    <tr>\n",
       "      <th>50%</th>\n",
       "      <td>1.000000</td>\n",
       "      <td>50.000000</td>\n",
       "      <td>12.000000</td>\n",
       "      <td>3.000000</td>\n",
       "      <td>5.000000</td>\n",
       "      <td>3.000000</td>\n",
       "      <td>5.000000</td>\n",
       "      <td>1.000000</td>\n",
       "      <td>15.000000</td>\n",
       "      <td>2.000000</td>\n",
       "      <td>...</td>\n",
       "      <td>460.000000</td>\n",
       "      <td>104.500000</td>\n",
       "      <td>13.500000</td>\n",
       "      <td>2.000000</td>\n",
       "      <td>0.000000</td>\n",
       "      <td>0.000000</td>\n",
       "      <td>40.000000</td>\n",
       "      <td>0.000000</td>\n",
       "      <td>1.0</td>\n",
       "      <td>37.000000</td>\n",
       "    </tr>\n",
       "    <tr>\n",
       "      <th>75%</th>\n",
       "      <td>2.000000</td>\n",
       "      <td>58.000000</td>\n",
       "      <td>15.000000</td>\n",
       "      <td>5.000000</td>\n",
       "      <td>7.000000</td>\n",
       "      <td>4.000000</td>\n",
       "      <td>6.250000</td>\n",
       "      <td>2.000000</td>\n",
       "      <td>18.000000</td>\n",
       "      <td>4.000000</td>\n",
       "      <td>...</td>\n",
       "      <td>555.250000</td>\n",
       "      <td>109.000000</td>\n",
       "      <td>16.250000</td>\n",
       "      <td>2.000000</td>\n",
       "      <td>0.000000</td>\n",
       "      <td>0.000000</td>\n",
       "      <td>55.500000</td>\n",
       "      <td>0.000000</td>\n",
       "      <td>1.0</td>\n",
       "      <td>77.500000</td>\n",
       "    </tr>\n",
       "    <tr>\n",
       "      <th>max</th>\n",
       "      <td>6.000000</td>\n",
       "      <td>75.000000</td>\n",
       "      <td>26.000000</td>\n",
       "      <td>12.000000</td>\n",
       "      <td>11.000000</td>\n",
       "      <td>10.000000</td>\n",
       "      <td>11.000000</td>\n",
       "      <td>5.000000</td>\n",
       "      <td>26.000000</td>\n",
       "      <td>9.000000</td>\n",
       "      <td>...</td>\n",
       "      <td>1137.000000</td>\n",
       "      <td>148.000000</td>\n",
       "      <td>25.000000</td>\n",
       "      <td>6.000000</td>\n",
       "      <td>1.000000</td>\n",
       "      <td>1.000000</td>\n",
       "      <td>90.000000</td>\n",
       "      <td>4.000000</td>\n",
       "      <td>1.0</td>\n",
       "      <td>90.000000</td>\n",
       "    </tr>\n",
       "  </tbody>\n",
       "</table>\n",
       "<p>8 rows × 21 columns</p>\n",
       "</div>"
      ],
      "text/plain": [
       "       Goal Scored  Ball Possession %    Attempts   On-Target  Off-Target  \\\n",
       "count   124.000000         124.000000  124.000000  124.000000  124.000000   \n",
       "mean      1.298387          49.991935   12.596774    3.895161    5.290323   \n",
       "std       1.140388          10.481494    5.305189    2.258925    2.391632   \n",
       "min       0.000000          25.000000    3.000000    0.000000    1.000000   \n",
       "25%       0.000000          42.000000    9.000000    2.000000    4.000000   \n",
       "50%       1.000000          50.000000   12.000000    3.000000    5.000000   \n",
       "75%       2.000000          58.000000   15.000000    5.000000    7.000000   \n",
       "max       6.000000          75.000000   26.000000   12.000000   11.000000   \n",
       "\n",
       "          Blocked     Corners    Offsides  Free Kicks       Saves  ...  \\\n",
       "count  124.000000  124.000000  124.000000  124.000000  124.000000  ...   \n",
       "mean     3.362903    4.733871    1.362903   15.000000    2.725806  ...   \n",
       "std      2.427266    2.469682    1.205237    4.707717    2.065350  ...   \n",
       "min      0.000000    0.000000    0.000000    5.000000    0.000000  ...   \n",
       "25%      1.750000    3.000000    0.000000   11.000000    1.000000  ...   \n",
       "50%      3.000000    5.000000    1.000000   15.000000    2.000000  ...   \n",
       "75%      4.000000    6.250000    2.000000   18.000000    4.000000  ...   \n",
       "max     10.000000   11.000000    5.000000   26.000000    9.000000  ...   \n",
       "\n",
       "            Passes  Distance Covered (Kms)  Fouls Committed  Yellow Card  \\\n",
       "count   124.000000              124.000000       124.000000   124.000000   \n",
       "mean    461.233871              106.741935        13.637097     1.701613   \n",
       "std     150.909229               11.899218         4.622910     1.343335   \n",
       "min     189.000000               80.000000         5.000000     0.000000   \n",
       "25%     351.000000              101.000000        10.000000     1.000000   \n",
       "50%     460.000000              104.500000        13.500000     2.000000   \n",
       "75%     555.250000              109.000000        16.250000     2.000000   \n",
       "max    1137.000000              148.000000        25.000000     6.000000   \n",
       "\n",
       "       Yellow & Red         Red   1st Goal  Goals in PSO  Own goals  \\\n",
       "count    124.000000  124.000000  91.000000    124.000000       11.0   \n",
       "mean       0.016129    0.016129  40.208791      0.209677        1.0   \n",
       "std        0.126483    0.126483  24.473803      0.819222        0.0   \n",
       "min        0.000000    0.000000   1.000000      0.000000        1.0   \n",
       "25%        0.000000    0.000000  19.000000      0.000000        1.0   \n",
       "50%        0.000000    0.000000  40.000000      0.000000        1.0   \n",
       "75%        0.000000    0.000000  55.500000      0.000000        1.0   \n",
       "max        1.000000    1.000000  90.000000      4.000000        1.0   \n",
       "\n",
       "       Own goal Time  \n",
       "count      11.000000  \n",
       "mean       48.363636  \n",
       "std        30.067500  \n",
       "min        12.000000  \n",
       "25%        27.500000  \n",
       "50%        37.000000  \n",
       "75%        77.500000  \n",
       "max        90.000000  \n",
       "\n",
       "[8 rows x 21 columns]"
      ]
     },
     "execution_count": 14,
     "metadata": {},
     "output_type": "execute_result"
    }
   ],
   "source": [
    "# We use .describe() method to get the summary statistics of all numeric variables/features\n",
    "fifaStats.describe()"
   ]
  },
  {
   "cell_type": "markdown",
   "metadata": {
    "id": "NRHhg5fw0ZNG"
   },
   "source": [
    "<b>Live Discussion:<i> Is the <i>total count of goals above correct?</i> "
   ]
  },
  {
   "cell_type": "code",
   "execution_count": 15,
   "metadata": {
    "id": "_Re2n1xU0ZNK",
    "outputId": "8ff37baf-d3cc-4fb3-9dc1-6f9105352d90"
   },
   "outputs": [
    {
     "name": "stdout",
     "output_type": "stream",
     "text": [
      "The number of rows and columns in this dataset are :  (124, 26)\n"
     ]
    }
   ],
   "source": [
    "print (\"The number of rows and columns in this dataset are : \", fifaStats.shape)"
   ]
  },
  {
   "cell_type": "code",
   "execution_count": 16,
   "metadata": {
    "id": "kB3zcCTW0ZNK",
    "outputId": "f07443c0-8b7c-4bd1-e4c3-7cedd89dce06"
   },
   "outputs": [
    {
     "data": {
      "text/plain": [
       "Index(['Date', 'Team_Opponent_Capital', 'Goal Scored', 'Ball Possession %',\n",
       "       'Attempts', 'On-Target', 'Off-Target', 'Blocked', 'Corners', 'Offsides',\n",
       "       'Free Kicks', 'Saves', 'Pass Accuracy %', 'Passes',\n",
       "       'Distance Covered (Kms)', 'Fouls Committed', 'Yellow Card',\n",
       "       'Yellow & Red', 'Red', 'Man of the Match', '1st Goal', 'Round', 'PSO',\n",
       "       'Goals in PSO', 'Own goals', 'Own goal Time'],\n",
       "      dtype='object')"
      ]
     },
     "execution_count": 16,
     "metadata": {},
     "output_type": "execute_result"
    }
   ],
   "source": [
    "#see all coloumn names\n",
    "fifaStats.columns"
   ]
  },
  {
   "cell_type": "code",
   "execution_count": 17,
   "metadata": {
    "id": "1jw8FCYk0ZNL"
   },
   "outputs": [],
   "source": [
    "listCountries = list(fifaStats['Team_Opponent_Capital'])"
   ]
  },
  {
   "cell_type": "code",
   "execution_count": 18,
   "metadata": {
    "id": "-87fcr_r0ZNM",
    "outputId": "d48b7131-b760-4796-fcf8-7f662eab7462"
   },
   "outputs": [
    {
     "data": {
      "text/plain": [
       "list"
      ]
     },
     "execution_count": 18,
     "metadata": {},
     "output_type": "execute_result"
    }
   ],
   "source": [
    "type(listCountries)"
   ]
  },
  {
   "cell_type": "code",
   "execution_count": 19,
   "metadata": {
    "id": "oSsL7FtD0ZNN",
    "outputId": "c12f5cf4-78f4-4674-a75c-a98e7c6a3496"
   },
   "outputs": [
    {
     "data": {
      "text/plain": [
       "124"
      ]
     },
     "execution_count": 19,
     "metadata": {},
     "output_type": "execute_result"
    }
   ],
   "source": [
    "len(listCountries)"
   ]
  },
  {
   "cell_type": "code",
   "execution_count": 64,
   "metadata": {
    "id": "hABRlu0V0ZNN",
    "outputId": "af2c6964-0983-432c-ce4c-54d0ec6c59b4"
   },
   "outputs": [
    {
     "data": {
      "text/plain": [
       "'England__Crotia'"
      ]
     },
     "execution_count": 64,
     "metadata": {},
     "output_type": "execute_result"
    }
   ],
   "source": [
    "listCountries.pop()"
   ]
  },
  {
   "cell_type": "code",
   "execution_count": 65,
   "metadata": {
    "id": "Dwa1DjwN0ZNO",
    "outputId": "bfab8907-294f-4253-a552-4eb7df0738f8"
   },
   "outputs": [
    {
     "data": {
      "text/plain": [
       "123"
      ]
     },
     "execution_count": 65,
     "metadata": {},
     "output_type": "execute_result"
    }
   ],
   "source": [
    "len(listCountries)"
   ]
  },
  {
   "cell_type": "markdown",
   "metadata": {
    "id": "BGyeeZFt0ZNP"
   },
   "source": [
    "### Thoughts? \n",
    "\n",
    "#### When would this be useful? \n",
    "\n",
    "1. When we need to move through a sequence/queue, dealing with one element after the other. \n",
    "2. When we want to dynamically change the structure while working with it, without having to do repeated re-assignments. \n",
    "\n",
    "#### If the items are ordered, then could we have duplicates in there?\n",
    "\n",
    "Yes! \n",
    "\n",
    "Examples: \n",
    "\n",
    "winningList = ['Russia', 'Uruguay', ......'Germany', 'France'.... 'Russia', 'Croatia', .. 'France']\n",
    "\n",
    "titleWordList = ['NEVER', 'SAY', 'NEVER']\n",
    "\n",
    "#### Real life applications\n",
    "\n",
    "Many! Think of bigrams, trigram, n-grams.."
   ]
  },
  {
   "cell_type": "code",
   "execution_count": 20,
   "metadata": {
    "id": "9UfkYLMk0ZNQ"
   },
   "outputs": [],
   "source": [
    "teamOpponentDF = fifaStats['Team_Opponent_Capital'].str.split(\"__\", 1, expand = True)"
   ]
  },
  {
   "cell_type": "code",
   "execution_count": 21,
   "metadata": {
    "id": "0B9Y6WUr0ZNR",
    "outputId": "9fbe0123-74df-41f8-a445-fb1e80d80249"
   },
   "outputs": [
    {
     "data": {
      "text/html": [
       "<div>\n",
       "<style scoped>\n",
       "    .dataframe tbody tr th:only-of-type {\n",
       "        vertical-align: middle;\n",
       "    }\n",
       "\n",
       "    .dataframe tbody tr th {\n",
       "        vertical-align: top;\n",
       "    }\n",
       "\n",
       "    .dataframe thead th {\n",
       "        text-align: right;\n",
       "    }\n",
       "</style>\n",
       "<table border=\"1\" class=\"dataframe\">\n",
       "  <thead>\n",
       "    <tr style=\"text-align: right;\">\n",
       "      <th></th>\n",
       "      <th>0</th>\n",
       "      <th>1</th>\n",
       "    </tr>\n",
       "  </thead>\n",
       "  <tbody>\n",
       "    <tr>\n",
       "      <th>0</th>\n",
       "      <td>Russia</td>\n",
       "      <td>SaudiArabia</td>\n",
       "    </tr>\n",
       "    <tr>\n",
       "      <th>1</th>\n",
       "      <td>SaudiArabia</td>\n",
       "      <td>Russia</td>\n",
       "    </tr>\n",
       "    <tr>\n",
       "      <th>2</th>\n",
       "      <td>Egypt</td>\n",
       "      <td>Uruguay</td>\n",
       "    </tr>\n",
       "    <tr>\n",
       "      <th>3</th>\n",
       "      <td>Uruguay</td>\n",
       "      <td>Egypt</td>\n",
       "    </tr>\n",
       "    <tr>\n",
       "      <th>4</th>\n",
       "      <td>Morocco</td>\n",
       "      <td>Iran</td>\n",
       "    </tr>\n",
       "    <tr>\n",
       "      <th>...</th>\n",
       "      <td>...</td>\n",
       "      <td>...</td>\n",
       "    </tr>\n",
       "    <tr>\n",
       "      <th>119</th>\n",
       "      <td>Crotia</td>\n",
       "      <td>Russia</td>\n",
       "    </tr>\n",
       "    <tr>\n",
       "      <th>120</th>\n",
       "      <td>France</td>\n",
       "      <td>Belgium</td>\n",
       "    </tr>\n",
       "    <tr>\n",
       "      <th>121</th>\n",
       "      <td>Belgium</td>\n",
       "      <td>France</td>\n",
       "    </tr>\n",
       "    <tr>\n",
       "      <th>122</th>\n",
       "      <td>Crotia</td>\n",
       "      <td>England</td>\n",
       "    </tr>\n",
       "    <tr>\n",
       "      <th>123</th>\n",
       "      <td>England</td>\n",
       "      <td>Crotia</td>\n",
       "    </tr>\n",
       "  </tbody>\n",
       "</table>\n",
       "<p>124 rows × 2 columns</p>\n",
       "</div>"
      ],
      "text/plain": [
       "               0            1\n",
       "0         Russia  SaudiArabia\n",
       "1    SaudiArabia       Russia\n",
       "2          Egypt      Uruguay\n",
       "3        Uruguay        Egypt\n",
       "4        Morocco         Iran\n",
       "..           ...          ...\n",
       "119       Crotia       Russia\n",
       "120       France      Belgium\n",
       "121      Belgium       France\n",
       "122       Crotia      England\n",
       "123      England       Crotia\n",
       "\n",
       "[124 rows x 2 columns]"
      ]
     },
     "execution_count": 21,
     "metadata": {},
     "output_type": "execute_result"
    }
   ],
   "source": [
    "teamOpponentDF"
   ]
  },
  {
   "cell_type": "code",
   "execution_count": 22,
   "metadata": {
    "id": "dAUwMSdR0ZNS",
    "outputId": "0398b026-e014-4900-c773-2021ea91c82d"
   },
   "outputs": [
    {
     "data": {
      "text/plain": [
       "['Russia',\n",
       " 'SaudiArabia',\n",
       " 'Egypt',\n",
       " 'Uruguay',\n",
       " 'Morocco',\n",
       " 'Iran',\n",
       " 'Portugal',\n",
       " 'Spain',\n",
       " 'France',\n",
       " 'Australia',\n",
       " 'Argentina',\n",
       " 'Iceland',\n",
       " 'Peru',\n",
       " 'Denmark',\n",
       " 'Crotia',\n",
       " 'Nigeria',\n",
       " 'CostaRica',\n",
       " 'Serbia',\n",
       " 'Germany',\n",
       " 'Mexico',\n",
       " 'Brazil',\n",
       " 'Switzerland',\n",
       " 'Sweden',\n",
       " 'KoreaRepublic',\n",
       " 'Belgium',\n",
       " 'Panama',\n",
       " 'Tunisia',\n",
       " 'England',\n",
       " 'Colombia',\n",
       " 'Japan',\n",
       " 'Poland',\n",
       " 'Senegal',\n",
       " 'Russia',\n",
       " 'Egypt',\n",
       " 'Portugal',\n",
       " 'Morocco',\n",
       " 'Uruguay',\n",
       " 'SaudiArabia',\n",
       " 'Iran',\n",
       " 'Spain',\n",
       " 'Denmark',\n",
       " 'Australia',\n",
       " 'France',\n",
       " 'Peru',\n",
       " 'Argentina',\n",
       " 'Crotia',\n",
       " 'Brazil',\n",
       " 'CostaRica',\n",
       " 'Nigeria',\n",
       " 'Iceland',\n",
       " 'Serbia',\n",
       " 'Switzerland',\n",
       " 'Belgium',\n",
       " 'Tunisia',\n",
       " 'KoreaRepublic',\n",
       " 'Mexico',\n",
       " 'Germany',\n",
       " 'Sweden',\n",
       " 'England',\n",
       " 'Panama',\n",
       " 'Japan',\n",
       " 'Senegal',\n",
       " 'Poland',\n",
       " 'Colombia',\n",
       " 'Uruguay',\n",
       " 'Russia',\n",
       " 'SaudiArabia',\n",
       " 'Egypt',\n",
       " 'Spain',\n",
       " 'Morocco',\n",
       " 'Iran',\n",
       " 'Portugal',\n",
       " 'Denmark',\n",
       " 'France',\n",
       " 'Australia',\n",
       " 'Peru',\n",
       " 'Nigeria',\n",
       " 'Argentina',\n",
       " 'Iceland',\n",
       " 'Crotia',\n",
       " 'KoreaRepublic',\n",
       " 'Germany',\n",
       " 'Mexico',\n",
       " 'Sweden',\n",
       " 'Serbia',\n",
       " 'Brazil',\n",
       " 'Switzerland',\n",
       " 'CostaRica',\n",
       " 'Japan',\n",
       " 'Poland',\n",
       " 'Senegal',\n",
       " 'Colombia',\n",
       " 'Panama',\n",
       " 'Tunisia',\n",
       " 'England',\n",
       " 'Belgium',\n",
       " 'France',\n",
       " 'Argentina',\n",
       " 'Uruguay',\n",
       " 'Portugal',\n",
       " 'Spain',\n",
       " 'Russia',\n",
       " 'Crotia',\n",
       " 'Denamrk',\n",
       " 'Brazil',\n",
       " 'Mexico',\n",
       " 'Belgium',\n",
       " 'Japan',\n",
       " 'Sweden',\n",
       " 'Switzerland',\n",
       " 'Colombia',\n",
       " 'England',\n",
       " 'Uruguay',\n",
       " 'France',\n",
       " 'Brazil',\n",
       " 'Belgium',\n",
       " 'Sweden',\n",
       " 'England',\n",
       " 'Russia',\n",
       " 'Crotia',\n",
       " 'France',\n",
       " 'Belgium',\n",
       " 'Crotia',\n",
       " 'England']"
      ]
     },
     "execution_count": 22,
     "metadata": {},
     "output_type": "execute_result"
    }
   ],
   "source": [
    "teamList = list(teamOpponentDF[0])\n",
    "teamList"
   ]
  },
  {
   "cell_type": "markdown",
   "metadata": {
    "id": "PxPNHfKY0ZNS"
   },
   "source": [
    "### Sets\n",
    "\n",
    "Maybe we don't want a sequential list of teams - maybe we just want a set of all teams that ever played? "
   ]
  },
  {
   "cell_type": "code",
   "execution_count": 69,
   "metadata": {
    "id": "fiOmzNso0ZNT",
    "outputId": "6cd1f6a5-b07a-4004-ac72-eb43fb2af18e"
   },
   "outputs": [
    {
     "data": {
      "text/plain": [
       "{'Argentina',\n",
       " 'Australia',\n",
       " 'Belgium',\n",
       " 'Brazil',\n",
       " 'Colombia',\n",
       " 'CostaRica',\n",
       " 'Crotia',\n",
       " 'Denamrk',\n",
       " 'Denmark',\n",
       " 'Egypt',\n",
       " 'England',\n",
       " 'France',\n",
       " 'Germany',\n",
       " 'Iceland',\n",
       " 'Iran',\n",
       " 'Japan',\n",
       " 'KoreaRepublic',\n",
       " 'Mexico',\n",
       " 'Morocco',\n",
       " 'Nigeria',\n",
       " 'Panama',\n",
       " 'Peru',\n",
       " 'Poland',\n",
       " 'Portugal',\n",
       " 'Russia',\n",
       " 'SaudiArabia',\n",
       " 'Senegal',\n",
       " 'Serbia',\n",
       " 'Spain',\n",
       " 'Sweden',\n",
       " 'Switzerland',\n",
       " 'Tunisia',\n",
       " 'Uruguay'}"
      ]
     },
     "execution_count": 69,
     "metadata": {},
     "output_type": "execute_result"
    }
   ],
   "source": [
    "teamSet = set(teamList)\n",
    "teamSet"
   ]
  },
  {
   "cell_type": "code",
   "execution_count": 70,
   "metadata": {
    "id": "-hmUZgnm0ZNU",
    "outputId": "254d3d9d-d522-4ed9-f469-8413dbade5e9"
   },
   "outputs": [
    {
     "data": {
      "text/plain": [
       "33"
      ]
     },
     "execution_count": 70,
     "metadata": {},
     "output_type": "execute_result"
    }
   ],
   "source": [
    "len(teamSet)"
   ]
  },
  {
   "cell_type": "code",
   "execution_count": 71,
   "metadata": {
    "id": "FM9oDmge0ZNU",
    "outputId": "2ab9768f-6e0f-4091-bf0d-33cedfc543e0"
   },
   "outputs": [
    {
     "data": {
      "text/plain": [
       "'Spain'"
      ]
     },
     "execution_count": 71,
     "metadata": {},
     "output_type": "execute_result"
    }
   ],
   "source": [
    "teamSet.pop() #run this multiple times!!!"
   ]
  },
  {
   "cell_type": "code",
   "execution_count": 72,
   "metadata": {
    "id": "p6F6WRSJ0ZNV",
    "outputId": "6188770d-0333-4dc3-bb76-de3a30acb95e"
   },
   "outputs": [
    {
     "data": {
      "text/plain": [
       "32"
      ]
     },
     "execution_count": 72,
     "metadata": {},
     "output_type": "execute_result"
    }
   ],
   "source": [
    "len(teamSet)"
   ]
  },
  {
   "cell_type": "markdown",
   "metadata": {
    "id": "5fmSzM_D0ZNW"
   },
   "source": [
    "Think: \"Are there problems that may need us to pick members of a set at random? And with no repetitions?\""
   ]
  },
  {
   "cell_type": "markdown",
   "metadata": {
    "id": "RXSQSCKx0ZNW"
   },
   "source": [
    "### Strings"
   ]
  },
  {
   "cell_type": "markdown",
   "metadata": {
    "id": "gtRUqZEB0ZNX"
   },
   "source": [
    "Let's look at the Team_Opponent_Capital column. Depending on the requirement and nature of analysis, we could benefit from keeping it as-is, as a concatenation, or we might need to split it into the consequent countries. "
   ]
  },
  {
   "cell_type": "code",
   "execution_count": 73,
   "metadata": {
    "id": "fP3-Oq9w0ZNX"
   },
   "outputs": [],
   "source": [
    "countryString = fifaStats['Team_Opponent_Capital'][0]"
   ]
  },
  {
   "cell_type": "code",
   "execution_count": 88,
   "metadata": {},
   "outputs": [
    {
     "data": {
      "text/html": [
       "<div>\n",
       "<style scoped>\n",
       "    .dataframe tbody tr th:only-of-type {\n",
       "        vertical-align: middle;\n",
       "    }\n",
       "\n",
       "    .dataframe tbody tr th {\n",
       "        vertical-align: top;\n",
       "    }\n",
       "\n",
       "    .dataframe thead th {\n",
       "        text-align: right;\n",
       "    }\n",
       "</style>\n",
       "<table border=\"1\" class=\"dataframe\">\n",
       "  <thead>\n",
       "    <tr style=\"text-align: right;\">\n",
       "      <th></th>\n",
       "      <th>Date</th>\n",
       "      <th>Team_Opponent_Capital</th>\n",
       "      <th>Goal Scored</th>\n",
       "      <th>Ball Possession %</th>\n",
       "      <th>Attempts</th>\n",
       "      <th>On-Target</th>\n",
       "      <th>Off-Target</th>\n",
       "      <th>Blocked</th>\n",
       "      <th>Corners</th>\n",
       "      <th>Offsides</th>\n",
       "      <th>...</th>\n",
       "      <th>Red</th>\n",
       "      <th>Man of the Match</th>\n",
       "      <th>1st Goal</th>\n",
       "      <th>Round</th>\n",
       "      <th>PSO</th>\n",
       "      <th>Goals in PSO</th>\n",
       "      <th>Own goals</th>\n",
       "      <th>Own goal Time</th>\n",
       "      <th>Team</th>\n",
       "      <th>Opponent</th>\n",
       "    </tr>\n",
       "  </thead>\n",
       "  <tbody>\n",
       "    <tr>\n",
       "      <th>0</th>\n",
       "      <td>14/6/2018</td>\n",
       "      <td>Russia__SaudiArabia</td>\n",
       "      <td>5</td>\n",
       "      <td>40</td>\n",
       "      <td>13</td>\n",
       "      <td>7</td>\n",
       "      <td>3</td>\n",
       "      <td>3</td>\n",
       "      <td>6</td>\n",
       "      <td>3</td>\n",
       "      <td>...</td>\n",
       "      <td>0</td>\n",
       "      <td>Yes</td>\n",
       "      <td>12.0</td>\n",
       "      <td>Group Stage</td>\n",
       "      <td>No</td>\n",
       "      <td>0</td>\n",
       "      <td>NaN</td>\n",
       "      <td>NaN</td>\n",
       "      <td>Russia</td>\n",
       "      <td>SaudiArabia</td>\n",
       "    </tr>\n",
       "    <tr>\n",
       "      <th>1</th>\n",
       "      <td>14/6/2018</td>\n",
       "      <td>SaudiArabia__Russia</td>\n",
       "      <td>0</td>\n",
       "      <td>60</td>\n",
       "      <td>6</td>\n",
       "      <td>0</td>\n",
       "      <td>3</td>\n",
       "      <td>3</td>\n",
       "      <td>2</td>\n",
       "      <td>1</td>\n",
       "      <td>...</td>\n",
       "      <td>0</td>\n",
       "      <td>No</td>\n",
       "      <td>NaN</td>\n",
       "      <td>Group Stage</td>\n",
       "      <td>No</td>\n",
       "      <td>0</td>\n",
       "      <td>NaN</td>\n",
       "      <td>NaN</td>\n",
       "      <td>SaudiArabia</td>\n",
       "      <td>Russia</td>\n",
       "    </tr>\n",
       "  </tbody>\n",
       "</table>\n",
       "<p>2 rows × 28 columns</p>\n",
       "</div>"
      ],
      "text/plain": [
       "        Date Team_Opponent_Capital  Goal Scored  Ball Possession %  Attempts  \\\n",
       "0  14/6/2018   Russia__SaudiArabia            5                 40        13   \n",
       "1  14/6/2018   SaudiArabia__Russia            0                 60         6   \n",
       "\n",
       "   On-Target  Off-Target  Blocked  Corners  Offsides  ...  Red  \\\n",
       "0          7           3        3        6         3  ...    0   \n",
       "1          0           3        3        2         1  ...    0   \n",
       "\n",
       "   Man of the Match  1st Goal        Round  PSO  Goals in PSO  Own goals  \\\n",
       "0               Yes      12.0  Group Stage   No             0        NaN   \n",
       "1                No       NaN  Group Stage   No             0        NaN   \n",
       "\n",
       "   Own goal Time         Team     Opponent  \n",
       "0            NaN       Russia  SaudiArabia  \n",
       "1            NaN  SaudiArabia       Russia  \n",
       "\n",
       "[2 rows x 28 columns]"
      ]
     },
     "execution_count": 88,
     "metadata": {},
     "output_type": "execute_result"
    }
   ],
   "source": [
    "fifaStats.head(2)"
   ]
  },
  {
   "cell_type": "code",
   "execution_count": 87,
   "metadata": {},
   "outputs": [
    {
     "data": {
      "text/plain": [
       "'Russia__SaudiArabia'"
      ]
     },
     "execution_count": 87,
     "metadata": {},
     "output_type": "execute_result"
    }
   ],
   "source": [
    "countryString"
   ]
  },
  {
   "cell_type": "code",
   "execution_count": 74,
   "metadata": {
    "id": "8VrZUsRq0ZNY",
    "outputId": "04781cda-5cf5-4bbf-9976-7f3c122744d3"
   },
   "outputs": [
    {
     "data": {
      "text/plain": [
       "['Russia', 'SaudiArabia']"
      ]
     },
     "execution_count": 74,
     "metadata": {},
     "output_type": "execute_result"
    }
   ],
   "source": [
    "countryString.split(sep = \"__\")"
   ]
  },
  {
   "cell_type": "code",
   "execution_count": 75,
   "metadata": {
    "id": "FqtT-5VL0ZNY",
    "outputId": "d75fdf2c-c106-46df-bfa1-0b3d87d701a7"
   },
   "outputs": [
    {
     "name": "stdout",
     "output_type": "stream",
     "text": [
      "Team:  Russia , Opponent:  SaudiArabia\n"
     ]
    }
   ],
   "source": [
    "team, opponent = countryString.split(sep = \"__\")\n",
    "print (\"Team: \", team, \", Opponent: \", opponent)"
   ]
  },
  {
   "cell_type": "markdown",
   "metadata": {
    "id": "37z0WQEp0ZNZ"
   },
   "source": [
    "Note the assignment above. We can do multiple assignments in one line with Python"
   ]
  },
  {
   "cell_type": "code",
   "execution_count": 76,
   "metadata": {
    "id": "kaj-k0_-0ZNZ",
    "outputId": "84daa862-0f0a-410a-97fb-e8632bb1781c"
   },
   "outputs": [
    {
     "data": {
      "text/plain": [
       "5"
      ]
     },
     "execution_count": 76,
     "metadata": {},
     "output_type": "execute_result"
    }
   ],
   "source": [
    "opponent.find('A')"
   ]
  },
  {
   "cell_type": "markdown",
   "metadata": {
    "id": "Tuq_8nnH0ZNa"
   },
   "source": [
    "As a more general solution, we can build code that will do it for any country"
   ]
  },
  {
   "cell_type": "code",
   "execution_count": 77,
   "metadata": {
    "id": "8UWctV7u0ZNb",
    "outputId": "90ad3917-c36c-48bb-eff2-d8038b76f414"
   },
   "outputs": [
    {
     "name": "stdout",
     "output_type": "stream",
     "text": [
      "5\n"
     ]
    }
   ],
   "source": [
    "i = 0\n",
    "for c in opponent: \n",
    "    if (c.isupper() and i != 0):\n",
    "        break \n",
    "    i+=1\n",
    "print (i)"
   ]
  },
  {
   "cell_type": "markdown",
   "metadata": {
    "id": "0kHTH49c0ZNb"
   },
   "source": [
    "And finally, we can define a function to allow reuse"
   ]
  },
  {
   "cell_type": "code",
   "execution_count": 78,
   "metadata": {
    "id": "py0fae4A0ZNc"
   },
   "outputs": [],
   "source": [
    "def capital_index(opponent):\n",
    "    i = 0\n",
    "    for element in opponent:\n",
    "        if (element.isupper() and i!=0):\n",
    "            return i \n",
    "        i+=1  "
   ]
  },
  {
   "cell_type": "code",
   "execution_count": 79,
   "metadata": {
    "id": "1gz7U76j0ZNc",
    "outputId": "34db9bcf-4742-4329-d924-e530e7d73dd6"
   },
   "outputs": [
    {
     "data": {
      "text/plain": [
       "('Saudi', 'Arabia')"
      ]
     },
     "execution_count": 79,
     "metadata": {},
     "output_type": "execute_result"
    }
   ],
   "source": [
    "cap_index = capital_index(opponent)\n",
    "opponent[0:cap_index], opponent[cap_index:]"
   ]
  },
  {
   "cell_type": "code",
   "execution_count": 80,
   "metadata": {
    "id": "JI7CESDs0ZNd",
    "outputId": "196471df-1108-4d4f-efdc-3b2096b5a591"
   },
   "outputs": [
    {
     "name": "stdout",
     "output_type": "stream",
     "text": [
      "Saudi Arabia\n"
     ]
    }
   ],
   "source": [
    "opponentClean = opponent[0:cap_index] + \" \" + opponent[cap_index:]\n",
    "print (opponentClean)"
   ]
  },
  {
   "cell_type": "code",
   "execution_count": 81,
   "metadata": {
    "id": "Qxy3avO10ZNe"
   },
   "outputs": [],
   "source": [
    "strTest= \"012345\""
   ]
  },
  {
   "cell_type": "code",
   "execution_count": 82,
   "metadata": {
    "id": "N4jf-0Bd0ZNe",
    "outputId": "10ee1135-dfc3-464b-a0b8-18c9b54d5ec5"
   },
   "outputs": [
    {
     "data": {
      "text/plain": [
       "'45'"
      ]
     },
     "execution_count": 82,
     "metadata": {},
     "output_type": "execute_result"
    }
   ],
   "source": [
    "strTest[4:]"
   ]
  },
  {
   "cell_type": "code",
   "execution_count": 83,
   "metadata": {
    "id": "PAjrgckE0ZNe",
    "outputId": "356e39f5-bac6-48a7-da51-025e7e252213"
   },
   "outputs": [
    {
     "data": {
      "text/plain": [
       "6"
      ]
     },
     "execution_count": 83,
     "metadata": {},
     "output_type": "execute_result"
    }
   ],
   "source": [
    "len(strTest)"
   ]
  },
  {
   "cell_type": "markdown",
   "metadata": {
    "id": "o-74-MX-0ZNl"
   },
   "source": [
    "### Vector, Matrix, Array"
   ]
  },
  {
   "cell_type": "markdown",
   "metadata": {
    "id": "ENgbIVLF0ZNl"
   },
   "source": [
    "The vector object is not a displayable object but is a powerful aid to 3D computations. Its properties are similar to vectors used in science and engineering. It can be used together with numpy arrays . (numpy is a module added to Python to provide high-speed computational capability through optimized array processing."
   ]
  },
  {
   "cell_type": "markdown",
   "metadata": {
    "id": "_hzv9ycd0ZNl"
   },
   "source": [
    "<i> Suggested: Deep dive into numpy :) </i>"
   ]
  },
  {
   "cell_type": "markdown",
   "metadata": {
    "id": "tK2Cz_ON0ZNm"
   },
   "source": [
    "### Playing with Data"
   ]
  },
  {
   "cell_type": "markdown",
   "metadata": {
    "id": "nVKDU7fq0ZNm"
   },
   "source": [
    "Let's see which teams played how many games: "
   ]
  },
  {
   "cell_type": "code",
   "execution_count": 89,
   "metadata": {},
   "outputs": [
    {
     "data": {
      "text/html": [
       "<div>\n",
       "<style scoped>\n",
       "    .dataframe tbody tr th:only-of-type {\n",
       "        vertical-align: middle;\n",
       "    }\n",
       "\n",
       "    .dataframe tbody tr th {\n",
       "        vertical-align: top;\n",
       "    }\n",
       "\n",
       "    .dataframe thead th {\n",
       "        text-align: right;\n",
       "    }\n",
       "</style>\n",
       "<table border=\"1\" class=\"dataframe\">\n",
       "  <thead>\n",
       "    <tr style=\"text-align: right;\">\n",
       "      <th></th>\n",
       "      <th>0</th>\n",
       "      <th>1</th>\n",
       "    </tr>\n",
       "  </thead>\n",
       "  <tbody>\n",
       "    <tr>\n",
       "      <th>0</th>\n",
       "      <td>Russia</td>\n",
       "      <td>SaudiArabia</td>\n",
       "    </tr>\n",
       "    <tr>\n",
       "      <th>1</th>\n",
       "      <td>SaudiArabia</td>\n",
       "      <td>Russia</td>\n",
       "    </tr>\n",
       "    <tr>\n",
       "      <th>2</th>\n",
       "      <td>Egypt</td>\n",
       "      <td>Uruguay</td>\n",
       "    </tr>\n",
       "    <tr>\n",
       "      <th>3</th>\n",
       "      <td>Uruguay</td>\n",
       "      <td>Egypt</td>\n",
       "    </tr>\n",
       "    <tr>\n",
       "      <th>4</th>\n",
       "      <td>Morocco</td>\n",
       "      <td>Iran</td>\n",
       "    </tr>\n",
       "  </tbody>\n",
       "</table>\n",
       "</div>"
      ],
      "text/plain": [
       "             0            1\n",
       "0       Russia  SaudiArabia\n",
       "1  SaudiArabia       Russia\n",
       "2        Egypt      Uruguay\n",
       "3      Uruguay        Egypt\n",
       "4      Morocco         Iran"
      ]
     },
     "execution_count": 89,
     "metadata": {},
     "output_type": "execute_result"
    }
   ],
   "source": [
    "teamOpponentDF.head() "
   ]
  },
  {
   "cell_type": "code",
   "execution_count": 92,
   "metadata": {},
   "outputs": [
    {
     "data": {
      "text/html": [
       "<div>\n",
       "<style scoped>\n",
       "    .dataframe tbody tr th:only-of-type {\n",
       "        vertical-align: middle;\n",
       "    }\n",
       "\n",
       "    .dataframe tbody tr th {\n",
       "        vertical-align: top;\n",
       "    }\n",
       "\n",
       "    .dataframe thead th {\n",
       "        text-align: right;\n",
       "    }\n",
       "</style>\n",
       "<table border=\"1\" class=\"dataframe\">\n",
       "  <thead>\n",
       "    <tr style=\"text-align: right;\">\n",
       "      <th></th>\n",
       "      <th>Date</th>\n",
       "      <th>Team_Opponent_Capital</th>\n",
       "      <th>Goal Scored</th>\n",
       "      <th>Ball Possession %</th>\n",
       "      <th>Attempts</th>\n",
       "      <th>On-Target</th>\n",
       "      <th>Off-Target</th>\n",
       "      <th>Blocked</th>\n",
       "      <th>Corners</th>\n",
       "      <th>Offsides</th>\n",
       "      <th>...</th>\n",
       "      <th>Red</th>\n",
       "      <th>Man of the Match</th>\n",
       "      <th>1st Goal</th>\n",
       "      <th>Round</th>\n",
       "      <th>PSO</th>\n",
       "      <th>Goals in PSO</th>\n",
       "      <th>Own goals</th>\n",
       "      <th>Own goal Time</th>\n",
       "      <th>Team</th>\n",
       "      <th>Opponent</th>\n",
       "    </tr>\n",
       "  </thead>\n",
       "  <tbody>\n",
       "    <tr>\n",
       "      <th>0</th>\n",
       "      <td>14/6/2018</td>\n",
       "      <td>Russia__SaudiArabia</td>\n",
       "      <td>5</td>\n",
       "      <td>40</td>\n",
       "      <td>13</td>\n",
       "      <td>7</td>\n",
       "      <td>3</td>\n",
       "      <td>3</td>\n",
       "      <td>6</td>\n",
       "      <td>3</td>\n",
       "      <td>...</td>\n",
       "      <td>0</td>\n",
       "      <td>Yes</td>\n",
       "      <td>12.0</td>\n",
       "      <td>Group Stage</td>\n",
       "      <td>No</td>\n",
       "      <td>0</td>\n",
       "      <td>NaN</td>\n",
       "      <td>NaN</td>\n",
       "      <td>Russia</td>\n",
       "      <td>SaudiArabia</td>\n",
       "    </tr>\n",
       "    <tr>\n",
       "      <th>1</th>\n",
       "      <td>14/6/2018</td>\n",
       "      <td>SaudiArabia__Russia</td>\n",
       "      <td>0</td>\n",
       "      <td>60</td>\n",
       "      <td>6</td>\n",
       "      <td>0</td>\n",
       "      <td>3</td>\n",
       "      <td>3</td>\n",
       "      <td>2</td>\n",
       "      <td>1</td>\n",
       "      <td>...</td>\n",
       "      <td>0</td>\n",
       "      <td>No</td>\n",
       "      <td>NaN</td>\n",
       "      <td>Group Stage</td>\n",
       "      <td>No</td>\n",
       "      <td>0</td>\n",
       "      <td>NaN</td>\n",
       "      <td>NaN</td>\n",
       "      <td>SaudiArabia</td>\n",
       "      <td>Russia</td>\n",
       "    </tr>\n",
       "    <tr>\n",
       "      <th>2</th>\n",
       "      <td>15/6/2018</td>\n",
       "      <td>Egypt__Uruguay</td>\n",
       "      <td>0</td>\n",
       "      <td>43</td>\n",
       "      <td>8</td>\n",
       "      <td>3</td>\n",
       "      <td>3</td>\n",
       "      <td>2</td>\n",
       "      <td>0</td>\n",
       "      <td>1</td>\n",
       "      <td>...</td>\n",
       "      <td>0</td>\n",
       "      <td>No</td>\n",
       "      <td>NaN</td>\n",
       "      <td>Group Stage</td>\n",
       "      <td>No</td>\n",
       "      <td>0</td>\n",
       "      <td>NaN</td>\n",
       "      <td>NaN</td>\n",
       "      <td>Egypt</td>\n",
       "      <td>Uruguay</td>\n",
       "    </tr>\n",
       "  </tbody>\n",
       "</table>\n",
       "<p>3 rows × 28 columns</p>\n",
       "</div>"
      ],
      "text/plain": [
       "        Date Team_Opponent_Capital  Goal Scored  Ball Possession %  Attempts  \\\n",
       "0  14/6/2018   Russia__SaudiArabia            5                 40        13   \n",
       "1  14/6/2018   SaudiArabia__Russia            0                 60         6   \n",
       "2  15/6/2018        Egypt__Uruguay            0                 43         8   \n",
       "\n",
       "   On-Target  Off-Target  Blocked  Corners  Offsides  ...  Red  \\\n",
       "0          7           3        3        6         3  ...    0   \n",
       "1          0           3        3        2         1  ...    0   \n",
       "2          3           3        2        0         1  ...    0   \n",
       "\n",
       "   Man of the Match  1st Goal        Round  PSO  Goals in PSO  Own goals  \\\n",
       "0               Yes      12.0  Group Stage   No             0        NaN   \n",
       "1                No       NaN  Group Stage   No             0        NaN   \n",
       "2                No       NaN  Group Stage   No             0        NaN   \n",
       "\n",
       "   Own goal Time         Team     Opponent  \n",
       "0            NaN       Russia  SaudiArabia  \n",
       "1            NaN  SaudiArabia       Russia  \n",
       "2            NaN        Egypt      Uruguay  \n",
       "\n",
       "[3 rows x 28 columns]"
      ]
     },
     "execution_count": 92,
     "metadata": {},
     "output_type": "execute_result"
    }
   ],
   "source": [
    "fifaStats.head(3)"
   ]
  },
  {
   "cell_type": "code",
   "execution_count": 84,
   "metadata": {
    "id": "POAtALd_0ZNm"
   },
   "outputs": [],
   "source": [
    "fifaStats['Team'] = teamOpponentDF[0]\n",
    "fifaStats['Opponent'] = teamOpponentDF[1]"
   ]
  },
  {
   "cell_type": "code",
   "execution_count": 93,
   "metadata": {},
   "outputs": [
    {
     "data": {
      "text/html": [
       "<div>\n",
       "<style scoped>\n",
       "    .dataframe tbody tr th:only-of-type {\n",
       "        vertical-align: middle;\n",
       "    }\n",
       "\n",
       "    .dataframe tbody tr th {\n",
       "        vertical-align: top;\n",
       "    }\n",
       "\n",
       "    .dataframe thead th {\n",
       "        text-align: right;\n",
       "    }\n",
       "</style>\n",
       "<table border=\"1\" class=\"dataframe\">\n",
       "  <thead>\n",
       "    <tr style=\"text-align: right;\">\n",
       "      <th></th>\n",
       "      <th>Date</th>\n",
       "      <th>Team_Opponent_Capital</th>\n",
       "      <th>Goal Scored</th>\n",
       "      <th>Ball Possession %</th>\n",
       "      <th>Attempts</th>\n",
       "      <th>On-Target</th>\n",
       "      <th>Off-Target</th>\n",
       "      <th>Blocked</th>\n",
       "      <th>Corners</th>\n",
       "      <th>Offsides</th>\n",
       "      <th>...</th>\n",
       "      <th>Red</th>\n",
       "      <th>Man of the Match</th>\n",
       "      <th>1st Goal</th>\n",
       "      <th>Round</th>\n",
       "      <th>PSO</th>\n",
       "      <th>Goals in PSO</th>\n",
       "      <th>Own goals</th>\n",
       "      <th>Own goal Time</th>\n",
       "      <th>Team</th>\n",
       "      <th>Opponent</th>\n",
       "    </tr>\n",
       "  </thead>\n",
       "  <tbody>\n",
       "    <tr>\n",
       "      <th>0</th>\n",
       "      <td>14/6/2018</td>\n",
       "      <td>Russia__SaudiArabia</td>\n",
       "      <td>5</td>\n",
       "      <td>40</td>\n",
       "      <td>13</td>\n",
       "      <td>7</td>\n",
       "      <td>3</td>\n",
       "      <td>3</td>\n",
       "      <td>6</td>\n",
       "      <td>3</td>\n",
       "      <td>...</td>\n",
       "      <td>0</td>\n",
       "      <td>Yes</td>\n",
       "      <td>12.0</td>\n",
       "      <td>Group Stage</td>\n",
       "      <td>No</td>\n",
       "      <td>0</td>\n",
       "      <td>NaN</td>\n",
       "      <td>NaN</td>\n",
       "      <td>Russia</td>\n",
       "      <td>SaudiArabia</td>\n",
       "    </tr>\n",
       "    <tr>\n",
       "      <th>1</th>\n",
       "      <td>14/6/2018</td>\n",
       "      <td>SaudiArabia__Russia</td>\n",
       "      <td>0</td>\n",
       "      <td>60</td>\n",
       "      <td>6</td>\n",
       "      <td>0</td>\n",
       "      <td>3</td>\n",
       "      <td>3</td>\n",
       "      <td>2</td>\n",
       "      <td>1</td>\n",
       "      <td>...</td>\n",
       "      <td>0</td>\n",
       "      <td>No</td>\n",
       "      <td>NaN</td>\n",
       "      <td>Group Stage</td>\n",
       "      <td>No</td>\n",
       "      <td>0</td>\n",
       "      <td>NaN</td>\n",
       "      <td>NaN</td>\n",
       "      <td>SaudiArabia</td>\n",
       "      <td>Russia</td>\n",
       "    </tr>\n",
       "    <tr>\n",
       "      <th>2</th>\n",
       "      <td>15/6/2018</td>\n",
       "      <td>Egypt__Uruguay</td>\n",
       "      <td>0</td>\n",
       "      <td>43</td>\n",
       "      <td>8</td>\n",
       "      <td>3</td>\n",
       "      <td>3</td>\n",
       "      <td>2</td>\n",
       "      <td>0</td>\n",
       "      <td>1</td>\n",
       "      <td>...</td>\n",
       "      <td>0</td>\n",
       "      <td>No</td>\n",
       "      <td>NaN</td>\n",
       "      <td>Group Stage</td>\n",
       "      <td>No</td>\n",
       "      <td>0</td>\n",
       "      <td>NaN</td>\n",
       "      <td>NaN</td>\n",
       "      <td>Egypt</td>\n",
       "      <td>Uruguay</td>\n",
       "    </tr>\n",
       "  </tbody>\n",
       "</table>\n",
       "<p>3 rows × 28 columns</p>\n",
       "</div>"
      ],
      "text/plain": [
       "        Date Team_Opponent_Capital  Goal Scored  Ball Possession %  Attempts  \\\n",
       "0  14/6/2018   Russia__SaudiArabia            5                 40        13   \n",
       "1  14/6/2018   SaudiArabia__Russia            0                 60         6   \n",
       "2  15/6/2018        Egypt__Uruguay            0                 43         8   \n",
       "\n",
       "   On-Target  Off-Target  Blocked  Corners  Offsides  ...  Red  \\\n",
       "0          7           3        3        6         3  ...    0   \n",
       "1          0           3        3        2         1  ...    0   \n",
       "2          3           3        2        0         1  ...    0   \n",
       "\n",
       "   Man of the Match  1st Goal        Round  PSO  Goals in PSO  Own goals  \\\n",
       "0               Yes      12.0  Group Stage   No             0        NaN   \n",
       "1                No       NaN  Group Stage   No             0        NaN   \n",
       "2                No       NaN  Group Stage   No             0        NaN   \n",
       "\n",
       "   Own goal Time         Team     Opponent  \n",
       "0            NaN       Russia  SaudiArabia  \n",
       "1            NaN  SaudiArabia       Russia  \n",
       "2            NaN        Egypt      Uruguay  \n",
       "\n",
       "[3 rows x 28 columns]"
      ]
     },
     "execution_count": 93,
     "metadata": {},
     "output_type": "execute_result"
    }
   ],
   "source": [
    "fifaStats.head(3)"
   ]
  },
  {
   "cell_type": "code",
   "execution_count": 85,
   "metadata": {
    "id": "ECbAd_GG0ZNm",
    "outputId": "0bb22653-a6c8-461e-dc1b-569d801d5892"
   },
   "outputs": [
    {
     "data": {
      "text/plain": [
       "Belgium          6\n",
       "Crotia           6\n",
       "England          6\n",
       "France           6\n",
       "Russia           5\n",
       "Brazil           5\n",
       "Uruguay          5\n",
       "Sweden           5\n",
       "Switzerland      4\n",
       "Argentina        4\n",
       "Colombia         4\n",
       "Spain            4\n",
       "Portugal         4\n",
       "Japan            4\n",
       "Mexico           4\n",
       "Tunisia          3\n",
       "Panama           3\n",
       "KoreaRepublic    3\n",
       "Poland           3\n",
       "Senegal          3\n",
       "CostaRica        3\n",
       "Germany          3\n",
       "Serbia           3\n",
       "SaudiArabia      3\n",
       "Nigeria          3\n",
       "Denmark          3\n",
       "Peru             3\n",
       "Iceland          3\n",
       "Australia        3\n",
       "Iran             3\n",
       "Morocco          3\n",
       "Egypt            3\n",
       "Denamrk          1\n",
       "Name: Team, dtype: int64"
      ]
     },
     "execution_count": 85,
     "metadata": {},
     "output_type": "execute_result"
    }
   ],
   "source": [
    "fifaStats['Team'].value_counts()\n",
    "#Hint: This will also tell you when this dataset was extracted!"
   ]
  },
  {
   "cell_type": "markdown",
   "metadata": {
    "id": "-79-BsFv0ZNn"
   },
   "source": [
    "Now, let us try to run a preliminary check on the number of records which have zero goals in the fifaStats dataset."
   ]
  },
  {
   "cell_type": "code",
   "execution_count": 96,
   "metadata": {},
   "outputs": [
    {
     "data": {
      "text/html": [
       "<div>\n",
       "<style scoped>\n",
       "    .dataframe tbody tr th:only-of-type {\n",
       "        vertical-align: middle;\n",
       "    }\n",
       "\n",
       "    .dataframe tbody tr th {\n",
       "        vertical-align: top;\n",
       "    }\n",
       "\n",
       "    .dataframe thead th {\n",
       "        text-align: right;\n",
       "    }\n",
       "</style>\n",
       "<table border=\"1\" class=\"dataframe\">\n",
       "  <thead>\n",
       "    <tr style=\"text-align: right;\">\n",
       "      <th></th>\n",
       "      <th>Date</th>\n",
       "      <th>Team_Opponent_Capital</th>\n",
       "      <th>Goal Scored</th>\n",
       "      <th>Ball Possession %</th>\n",
       "      <th>Attempts</th>\n",
       "      <th>On-Target</th>\n",
       "      <th>Off-Target</th>\n",
       "      <th>Blocked</th>\n",
       "      <th>Corners</th>\n",
       "      <th>Offsides</th>\n",
       "      <th>...</th>\n",
       "      <th>Red</th>\n",
       "      <th>Man of the Match</th>\n",
       "      <th>1st Goal</th>\n",
       "      <th>Round</th>\n",
       "      <th>PSO</th>\n",
       "      <th>Goals in PSO</th>\n",
       "      <th>Own goals</th>\n",
       "      <th>Own goal Time</th>\n",
       "      <th>Team</th>\n",
       "      <th>Opponent</th>\n",
       "    </tr>\n",
       "  </thead>\n",
       "  <tbody>\n",
       "    <tr>\n",
       "      <th>1</th>\n",
       "      <td>14/6/2018</td>\n",
       "      <td>SaudiArabia__Russia</td>\n",
       "      <td>0</td>\n",
       "      <td>60</td>\n",
       "      <td>6</td>\n",
       "      <td>0</td>\n",
       "      <td>3</td>\n",
       "      <td>3</td>\n",
       "      <td>2</td>\n",
       "      <td>1</td>\n",
       "      <td>...</td>\n",
       "      <td>0</td>\n",
       "      <td>No</td>\n",
       "      <td>NaN</td>\n",
       "      <td>Group Stage</td>\n",
       "      <td>No</td>\n",
       "      <td>0</td>\n",
       "      <td>NaN</td>\n",
       "      <td>NaN</td>\n",
       "      <td>SaudiArabia</td>\n",
       "      <td>Russia</td>\n",
       "    </tr>\n",
       "    <tr>\n",
       "      <th>2</th>\n",
       "      <td>15/6/2018</td>\n",
       "      <td>Egypt__Uruguay</td>\n",
       "      <td>0</td>\n",
       "      <td>43</td>\n",
       "      <td>8</td>\n",
       "      <td>3</td>\n",
       "      <td>3</td>\n",
       "      <td>2</td>\n",
       "      <td>0</td>\n",
       "      <td>1</td>\n",
       "      <td>...</td>\n",
       "      <td>0</td>\n",
       "      <td>No</td>\n",
       "      <td>NaN</td>\n",
       "      <td>Group Stage</td>\n",
       "      <td>No</td>\n",
       "      <td>0</td>\n",
       "      <td>NaN</td>\n",
       "      <td>NaN</td>\n",
       "      <td>Egypt</td>\n",
       "      <td>Uruguay</td>\n",
       "    </tr>\n",
       "    <tr>\n",
       "      <th>4</th>\n",
       "      <td>15/6/2018</td>\n",
       "      <td>Morocco__Iran</td>\n",
       "      <td>0</td>\n",
       "      <td>64</td>\n",
       "      <td>13</td>\n",
       "      <td>3</td>\n",
       "      <td>6</td>\n",
       "      <td>4</td>\n",
       "      <td>5</td>\n",
       "      <td>0</td>\n",
       "      <td>...</td>\n",
       "      <td>0</td>\n",
       "      <td>No</td>\n",
       "      <td>NaN</td>\n",
       "      <td>Group Stage</td>\n",
       "      <td>No</td>\n",
       "      <td>0</td>\n",
       "      <td>1.0</td>\n",
       "      <td>90.0</td>\n",
       "      <td>Morocco</td>\n",
       "      <td>Iran</td>\n",
       "    </tr>\n",
       "    <tr>\n",
       "      <th>12</th>\n",
       "      <td>16/6/2018</td>\n",
       "      <td>Peru__Denmark</td>\n",
       "      <td>0</td>\n",
       "      <td>52</td>\n",
       "      <td>18</td>\n",
       "      <td>6</td>\n",
       "      <td>7</td>\n",
       "      <td>5</td>\n",
       "      <td>3</td>\n",
       "      <td>5</td>\n",
       "      <td>...</td>\n",
       "      <td>0</td>\n",
       "      <td>No</td>\n",
       "      <td>NaN</td>\n",
       "      <td>Group Stage</td>\n",
       "      <td>No</td>\n",
       "      <td>0</td>\n",
       "      <td>NaN</td>\n",
       "      <td>NaN</td>\n",
       "      <td>Peru</td>\n",
       "      <td>Denmark</td>\n",
       "    </tr>\n",
       "    <tr>\n",
       "      <th>15</th>\n",
       "      <td>17/6/2018</td>\n",
       "      <td>Nigeria__Crotia</td>\n",
       "      <td>0</td>\n",
       "      <td>46</td>\n",
       "      <td>14</td>\n",
       "      <td>2</td>\n",
       "      <td>5</td>\n",
       "      <td>7</td>\n",
       "      <td>5</td>\n",
       "      <td>1</td>\n",
       "      <td>...</td>\n",
       "      <td>0</td>\n",
       "      <td>No</td>\n",
       "      <td>NaN</td>\n",
       "      <td>Group Stage</td>\n",
       "      <td>No</td>\n",
       "      <td>0</td>\n",
       "      <td>1.0</td>\n",
       "      <td>32.0</td>\n",
       "      <td>Nigeria</td>\n",
       "      <td>Crotia</td>\n",
       "    </tr>\n",
       "    <tr>\n",
       "      <th>16</th>\n",
       "      <td>17/6/2018</td>\n",
       "      <td>CostaRica__Serbia</td>\n",
       "      <td>0</td>\n",
       "      <td>50</td>\n",
       "      <td>10</td>\n",
       "      <td>3</td>\n",
       "      <td>3</td>\n",
       "      <td>4</td>\n",
       "      <td>5</td>\n",
       "      <td>1</td>\n",
       "      <td>...</td>\n",
       "      <td>0</td>\n",
       "      <td>No</td>\n",
       "      <td>NaN</td>\n",
       "      <td>Group Stage</td>\n",
       "      <td>No</td>\n",
       "      <td>0</td>\n",
       "      <td>NaN</td>\n",
       "      <td>NaN</td>\n",
       "      <td>CostaRica</td>\n",
       "      <td>Serbia</td>\n",
       "    </tr>\n",
       "    <tr>\n",
       "      <th>18</th>\n",
       "      <td>17/6/2018</td>\n",
       "      <td>Germany__Mexico</td>\n",
       "      <td>0</td>\n",
       "      <td>60</td>\n",
       "      <td>25</td>\n",
       "      <td>9</td>\n",
       "      <td>9</td>\n",
       "      <td>7</td>\n",
       "      <td>8</td>\n",
       "      <td>1</td>\n",
       "      <td>...</td>\n",
       "      <td>0</td>\n",
       "      <td>Yes</td>\n",
       "      <td>NaN</td>\n",
       "      <td>Group Stage</td>\n",
       "      <td>No</td>\n",
       "      <td>0</td>\n",
       "      <td>NaN</td>\n",
       "      <td>NaN</td>\n",
       "      <td>Germany</td>\n",
       "      <td>Mexico</td>\n",
       "    </tr>\n",
       "    <tr>\n",
       "      <th>23</th>\n",
       "      <td>18/6/2018</td>\n",
       "      <td>KoreaRepublic__Sweden</td>\n",
       "      <td>0</td>\n",
       "      <td>48</td>\n",
       "      <td>5</td>\n",
       "      <td>0</td>\n",
       "      <td>2</td>\n",
       "      <td>3</td>\n",
       "      <td>5</td>\n",
       "      <td>0</td>\n",
       "      <td>...</td>\n",
       "      <td>0</td>\n",
       "      <td>No</td>\n",
       "      <td>NaN</td>\n",
       "      <td>Group Stage</td>\n",
       "      <td>No</td>\n",
       "      <td>0</td>\n",
       "      <td>NaN</td>\n",
       "      <td>NaN</td>\n",
       "      <td>KoreaRepublic</td>\n",
       "      <td>Sweden</td>\n",
       "    </tr>\n",
       "    <tr>\n",
       "      <th>25</th>\n",
       "      <td>18/6/2018</td>\n",
       "      <td>Panama__Belgium</td>\n",
       "      <td>0</td>\n",
       "      <td>39</td>\n",
       "      <td>6</td>\n",
       "      <td>2</td>\n",
       "      <td>4</td>\n",
       "      <td>0</td>\n",
       "      <td>3</td>\n",
       "      <td>3</td>\n",
       "      <td>...</td>\n",
       "      <td>0</td>\n",
       "      <td>No</td>\n",
       "      <td>NaN</td>\n",
       "      <td>Group Stage</td>\n",
       "      <td>No</td>\n",
       "      <td>0</td>\n",
       "      <td>NaN</td>\n",
       "      <td>NaN</td>\n",
       "      <td>Panama</td>\n",
       "      <td>Belgium</td>\n",
       "    </tr>\n",
       "    <tr>\n",
       "      <th>35</th>\n",
       "      <td>20/6/2018</td>\n",
       "      <td>Morocco__Portugal</td>\n",
       "      <td>0</td>\n",
       "      <td>53</td>\n",
       "      <td>16</td>\n",
       "      <td>4</td>\n",
       "      <td>10</td>\n",
       "      <td>2</td>\n",
       "      <td>7</td>\n",
       "      <td>1</td>\n",
       "      <td>...</td>\n",
       "      <td>0</td>\n",
       "      <td>No</td>\n",
       "      <td>NaN</td>\n",
       "      <td>Group Stage</td>\n",
       "      <td>No</td>\n",
       "      <td>0</td>\n",
       "      <td>NaN</td>\n",
       "      <td>NaN</td>\n",
       "      <td>Morocco</td>\n",
       "      <td>Portugal</td>\n",
       "    </tr>\n",
       "    <tr>\n",
       "      <th>37</th>\n",
       "      <td>20/6/2018</td>\n",
       "      <td>SaudiArabia__Uruguay</td>\n",
       "      <td>0</td>\n",
       "      <td>53</td>\n",
       "      <td>8</td>\n",
       "      <td>3</td>\n",
       "      <td>3</td>\n",
       "      <td>2</td>\n",
       "      <td>4</td>\n",
       "      <td>2</td>\n",
       "      <td>...</td>\n",
       "      <td>0</td>\n",
       "      <td>No</td>\n",
       "      <td>NaN</td>\n",
       "      <td>Group Stage</td>\n",
       "      <td>No</td>\n",
       "      <td>0</td>\n",
       "      <td>NaN</td>\n",
       "      <td>NaN</td>\n",
       "      <td>SaudiArabia</td>\n",
       "      <td>Uruguay</td>\n",
       "    </tr>\n",
       "    <tr>\n",
       "      <th>38</th>\n",
       "      <td>20/6/2018</td>\n",
       "      <td>Iran__Spain</td>\n",
       "      <td>0</td>\n",
       "      <td>30</td>\n",
       "      <td>5</td>\n",
       "      <td>0</td>\n",
       "      <td>5</td>\n",
       "      <td>0</td>\n",
       "      <td>2</td>\n",
       "      <td>2</td>\n",
       "      <td>...</td>\n",
       "      <td>0</td>\n",
       "      <td>No</td>\n",
       "      <td>NaN</td>\n",
       "      <td>Group Stage</td>\n",
       "      <td>No</td>\n",
       "      <td>0</td>\n",
       "      <td>NaN</td>\n",
       "      <td>NaN</td>\n",
       "      <td>Iran</td>\n",
       "      <td>Spain</td>\n",
       "    </tr>\n",
       "    <tr>\n",
       "      <th>43</th>\n",
       "      <td>21/6/2018</td>\n",
       "      <td>Peru__France</td>\n",
       "      <td>0</td>\n",
       "      <td>56</td>\n",
       "      <td>10</td>\n",
       "      <td>2</td>\n",
       "      <td>6</td>\n",
       "      <td>2</td>\n",
       "      <td>3</td>\n",
       "      <td>1</td>\n",
       "      <td>...</td>\n",
       "      <td>0</td>\n",
       "      <td>No</td>\n",
       "      <td>NaN</td>\n",
       "      <td>Group Stage</td>\n",
       "      <td>No</td>\n",
       "      <td>0</td>\n",
       "      <td>NaN</td>\n",
       "      <td>NaN</td>\n",
       "      <td>Peru</td>\n",
       "      <td>France</td>\n",
       "    </tr>\n",
       "    <tr>\n",
       "      <th>44</th>\n",
       "      <td>21/6/2018</td>\n",
       "      <td>Argentina__Crotia</td>\n",
       "      <td>0</td>\n",
       "      <td>58</td>\n",
       "      <td>10</td>\n",
       "      <td>3</td>\n",
       "      <td>3</td>\n",
       "      <td>4</td>\n",
       "      <td>5</td>\n",
       "      <td>3</td>\n",
       "      <td>...</td>\n",
       "      <td>0</td>\n",
       "      <td>No</td>\n",
       "      <td>NaN</td>\n",
       "      <td>Group Stage</td>\n",
       "      <td>No</td>\n",
       "      <td>0</td>\n",
       "      <td>NaN</td>\n",
       "      <td>NaN</td>\n",
       "      <td>Argentina</td>\n",
       "      <td>Crotia</td>\n",
       "    </tr>\n",
       "    <tr>\n",
       "      <th>47</th>\n",
       "      <td>22/6/2018</td>\n",
       "      <td>CostaRica__Brazil</td>\n",
       "      <td>0</td>\n",
       "      <td>34</td>\n",
       "      <td>4</td>\n",
       "      <td>0</td>\n",
       "      <td>4</td>\n",
       "      <td>0</td>\n",
       "      <td>1</td>\n",
       "      <td>3</td>\n",
       "      <td>...</td>\n",
       "      <td>0</td>\n",
       "      <td>No</td>\n",
       "      <td>NaN</td>\n",
       "      <td>Group Stage</td>\n",
       "      <td>No</td>\n",
       "      <td>0</td>\n",
       "      <td>NaN</td>\n",
       "      <td>NaN</td>\n",
       "      <td>CostaRica</td>\n",
       "      <td>Brazil</td>\n",
       "    </tr>\n",
       "    <tr>\n",
       "      <th>49</th>\n",
       "      <td>22/6/2018</td>\n",
       "      <td>Iceland__Nigeria</td>\n",
       "      <td>0</td>\n",
       "      <td>42</td>\n",
       "      <td>10</td>\n",
       "      <td>3</td>\n",
       "      <td>6</td>\n",
       "      <td>1</td>\n",
       "      <td>5</td>\n",
       "      <td>0</td>\n",
       "      <td>...</td>\n",
       "      <td>0</td>\n",
       "      <td>No</td>\n",
       "      <td>NaN</td>\n",
       "      <td>Group Stage</td>\n",
       "      <td>No</td>\n",
       "      <td>0</td>\n",
       "      <td>NaN</td>\n",
       "      <td>NaN</td>\n",
       "      <td>Iceland</td>\n",
       "      <td>Nigeria</td>\n",
       "    </tr>\n",
       "    <tr>\n",
       "      <th>62</th>\n",
       "      <td>24/6/2018</td>\n",
       "      <td>Poland__Colombia</td>\n",
       "      <td>0</td>\n",
       "      <td>45</td>\n",
       "      <td>9</td>\n",
       "      <td>2</td>\n",
       "      <td>3</td>\n",
       "      <td>4</td>\n",
       "      <td>7</td>\n",
       "      <td>1</td>\n",
       "      <td>...</td>\n",
       "      <td>0</td>\n",
       "      <td>No</td>\n",
       "      <td>NaN</td>\n",
       "      <td>Group Stage</td>\n",
       "      <td>No</td>\n",
       "      <td>0</td>\n",
       "      <td>NaN</td>\n",
       "      <td>NaN</td>\n",
       "      <td>Poland</td>\n",
       "      <td>Colombia</td>\n",
       "    </tr>\n",
       "    <tr>\n",
       "      <th>65</th>\n",
       "      <td>25/6/2018</td>\n",
       "      <td>Russia__Uruguay</td>\n",
       "      <td>0</td>\n",
       "      <td>44</td>\n",
       "      <td>3</td>\n",
       "      <td>1</td>\n",
       "      <td>1</td>\n",
       "      <td>1</td>\n",
       "      <td>2</td>\n",
       "      <td>2</td>\n",
       "      <td>...</td>\n",
       "      <td>0</td>\n",
       "      <td>No</td>\n",
       "      <td>NaN</td>\n",
       "      <td>Group Stage</td>\n",
       "      <td>No</td>\n",
       "      <td>0</td>\n",
       "      <td>1.0</td>\n",
       "      <td>23.0</td>\n",
       "      <td>Russia</td>\n",
       "      <td>Uruguay</td>\n",
       "    </tr>\n",
       "    <tr>\n",
       "      <th>72</th>\n",
       "      <td>26/6/2018</td>\n",
       "      <td>Denmark__France</td>\n",
       "      <td>0</td>\n",
       "      <td>38</td>\n",
       "      <td>5</td>\n",
       "      <td>1</td>\n",
       "      <td>2</td>\n",
       "      <td>2</td>\n",
       "      <td>4</td>\n",
       "      <td>1</td>\n",
       "      <td>...</td>\n",
       "      <td>0</td>\n",
       "      <td>No</td>\n",
       "      <td>NaN</td>\n",
       "      <td>Group Stage</td>\n",
       "      <td>No</td>\n",
       "      <td>0</td>\n",
       "      <td>NaN</td>\n",
       "      <td>NaN</td>\n",
       "      <td>Denmark</td>\n",
       "      <td>France</td>\n",
       "    </tr>\n",
       "    <tr>\n",
       "      <th>73</th>\n",
       "      <td>26/6/2018</td>\n",
       "      <td>France__Denmark</td>\n",
       "      <td>0</td>\n",
       "      <td>62</td>\n",
       "      <td>11</td>\n",
       "      <td>4</td>\n",
       "      <td>6</td>\n",
       "      <td>1</td>\n",
       "      <td>2</td>\n",
       "      <td>1</td>\n",
       "      <td>...</td>\n",
       "      <td>0</td>\n",
       "      <td>Yes</td>\n",
       "      <td>NaN</td>\n",
       "      <td>Group Stage</td>\n",
       "      <td>No</td>\n",
       "      <td>0</td>\n",
       "      <td>NaN</td>\n",
       "      <td>NaN</td>\n",
       "      <td>France</td>\n",
       "      <td>Denmark</td>\n",
       "    </tr>\n",
       "    <tr>\n",
       "      <th>74</th>\n",
       "      <td>26/6/2018</td>\n",
       "      <td>Australia__Peru</td>\n",
       "      <td>0</td>\n",
       "      <td>53</td>\n",
       "      <td>14</td>\n",
       "      <td>2</td>\n",
       "      <td>7</td>\n",
       "      <td>5</td>\n",
       "      <td>8</td>\n",
       "      <td>3</td>\n",
       "      <td>...</td>\n",
       "      <td>0</td>\n",
       "      <td>No</td>\n",
       "      <td>NaN</td>\n",
       "      <td>Group Stage</td>\n",
       "      <td>No</td>\n",
       "      <td>0</td>\n",
       "      <td>NaN</td>\n",
       "      <td>NaN</td>\n",
       "      <td>Australia</td>\n",
       "      <td>Peru</td>\n",
       "    </tr>\n",
       "    <tr>\n",
       "      <th>81</th>\n",
       "      <td>27/6/2018</td>\n",
       "      <td>Germany__KoreaRepublic</td>\n",
       "      <td>0</td>\n",
       "      <td>70</td>\n",
       "      <td>26</td>\n",
       "      <td>6</td>\n",
       "      <td>11</td>\n",
       "      <td>9</td>\n",
       "      <td>9</td>\n",
       "      <td>1</td>\n",
       "      <td>...</td>\n",
       "      <td>0</td>\n",
       "      <td>No</td>\n",
       "      <td>NaN</td>\n",
       "      <td>Group Stage</td>\n",
       "      <td>No</td>\n",
       "      <td>0</td>\n",
       "      <td>NaN</td>\n",
       "      <td>NaN</td>\n",
       "      <td>Germany</td>\n",
       "      <td>KoreaRepublic</td>\n",
       "    </tr>\n",
       "    <tr>\n",
       "      <th>82</th>\n",
       "      <td>27/6/2018</td>\n",
       "      <td>Mexico__Sweden</td>\n",
       "      <td>0</td>\n",
       "      <td>65</td>\n",
       "      <td>19</td>\n",
       "      <td>3</td>\n",
       "      <td>8</td>\n",
       "      <td>8</td>\n",
       "      <td>7</td>\n",
       "      <td>2</td>\n",
       "      <td>...</td>\n",
       "      <td>0</td>\n",
       "      <td>No</td>\n",
       "      <td>NaN</td>\n",
       "      <td>Group Stage</td>\n",
       "      <td>No</td>\n",
       "      <td>0</td>\n",
       "      <td>1.0</td>\n",
       "      <td>74.0</td>\n",
       "      <td>Mexico</td>\n",
       "      <td>Sweden</td>\n",
       "    </tr>\n",
       "    <tr>\n",
       "      <th>84</th>\n",
       "      <td>27/6/2018</td>\n",
       "      <td>Serbia__Brazil</td>\n",
       "      <td>0</td>\n",
       "      <td>44</td>\n",
       "      <td>10</td>\n",
       "      <td>1</td>\n",
       "      <td>5</td>\n",
       "      <td>4</td>\n",
       "      <td>5</td>\n",
       "      <td>2</td>\n",
       "      <td>...</td>\n",
       "      <td>0</td>\n",
       "      <td>No</td>\n",
       "      <td>NaN</td>\n",
       "      <td>Group Stage</td>\n",
       "      <td>No</td>\n",
       "      <td>0</td>\n",
       "      <td>NaN</td>\n",
       "      <td>NaN</td>\n",
       "      <td>Serbia</td>\n",
       "      <td>Brazil</td>\n",
       "    </tr>\n",
       "    <tr>\n",
       "      <th>88</th>\n",
       "      <td>28/6/2018</td>\n",
       "      <td>Japan__Poland</td>\n",
       "      <td>0</td>\n",
       "      <td>54</td>\n",
       "      <td>10</td>\n",
       "      <td>3</td>\n",
       "      <td>4</td>\n",
       "      <td>3</td>\n",
       "      <td>5</td>\n",
       "      <td>1</td>\n",
       "      <td>...</td>\n",
       "      <td>0</td>\n",
       "      <td>No</td>\n",
       "      <td>NaN</td>\n",
       "      <td>Group Stage</td>\n",
       "      <td>No</td>\n",
       "      <td>0</td>\n",
       "      <td>NaN</td>\n",
       "      <td>NaN</td>\n",
       "      <td>Japan</td>\n",
       "      <td>Poland</td>\n",
       "    </tr>\n",
       "    <tr>\n",
       "      <th>90</th>\n",
       "      <td>28/6/2018</td>\n",
       "      <td>Senegal__Colombia</td>\n",
       "      <td>0</td>\n",
       "      <td>43</td>\n",
       "      <td>8</td>\n",
       "      <td>3</td>\n",
       "      <td>4</td>\n",
       "      <td>1</td>\n",
       "      <td>1</td>\n",
       "      <td>3</td>\n",
       "      <td>...</td>\n",
       "      <td>0</td>\n",
       "      <td>No</td>\n",
       "      <td>NaN</td>\n",
       "      <td>Group Stage</td>\n",
       "      <td>No</td>\n",
       "      <td>0</td>\n",
       "      <td>NaN</td>\n",
       "      <td>NaN</td>\n",
       "      <td>Senegal</td>\n",
       "      <td>Colombia</td>\n",
       "    </tr>\n",
       "    <tr>\n",
       "      <th>94</th>\n",
       "      <td>28/6/2018</td>\n",
       "      <td>England__Belgium</td>\n",
       "      <td>0</td>\n",
       "      <td>48</td>\n",
       "      <td>13</td>\n",
       "      <td>1</td>\n",
       "      <td>7</td>\n",
       "      <td>5</td>\n",
       "      <td>7</td>\n",
       "      <td>3</td>\n",
       "      <td>...</td>\n",
       "      <td>0</td>\n",
       "      <td>No</td>\n",
       "      <td>NaN</td>\n",
       "      <td>Group Stage</td>\n",
       "      <td>No</td>\n",
       "      <td>0</td>\n",
       "      <td>NaN</td>\n",
       "      <td>NaN</td>\n",
       "      <td>England</td>\n",
       "      <td>Belgium</td>\n",
       "    </tr>\n",
       "    <tr>\n",
       "      <th>105</th>\n",
       "      <td>2/7/2018</td>\n",
       "      <td>Mexico__Brazil</td>\n",
       "      <td>0</td>\n",
       "      <td>53</td>\n",
       "      <td>13</td>\n",
       "      <td>1</td>\n",
       "      <td>4</td>\n",
       "      <td>8</td>\n",
       "      <td>7</td>\n",
       "      <td>2</td>\n",
       "      <td>...</td>\n",
       "      <td>0</td>\n",
       "      <td>No</td>\n",
       "      <td>NaN</td>\n",
       "      <td>Round of 16</td>\n",
       "      <td>No</td>\n",
       "      <td>0</td>\n",
       "      <td>NaN</td>\n",
       "      <td>NaN</td>\n",
       "      <td>Mexico</td>\n",
       "      <td>Brazil</td>\n",
       "    </tr>\n",
       "    <tr>\n",
       "      <th>109</th>\n",
       "      <td>3/7/2018</td>\n",
       "      <td>Switzerland__Sweden</td>\n",
       "      <td>0</td>\n",
       "      <td>63</td>\n",
       "      <td>18</td>\n",
       "      <td>4</td>\n",
       "      <td>5</td>\n",
       "      <td>9</td>\n",
       "      <td>11</td>\n",
       "      <td>0</td>\n",
       "      <td>...</td>\n",
       "      <td>1</td>\n",
       "      <td>No</td>\n",
       "      <td>NaN</td>\n",
       "      <td>Round of 16</td>\n",
       "      <td>No</td>\n",
       "      <td>0</td>\n",
       "      <td>NaN</td>\n",
       "      <td>NaN</td>\n",
       "      <td>Switzerland</td>\n",
       "      <td>Sweden</td>\n",
       "    </tr>\n",
       "    <tr>\n",
       "      <th>112</th>\n",
       "      <td>6/7/2018</td>\n",
       "      <td>Uruguay__France</td>\n",
       "      <td>0</td>\n",
       "      <td>42</td>\n",
       "      <td>11</td>\n",
       "      <td>4</td>\n",
       "      <td>6</td>\n",
       "      <td>1</td>\n",
       "      <td>4</td>\n",
       "      <td>0</td>\n",
       "      <td>...</td>\n",
       "      <td>0</td>\n",
       "      <td>No</td>\n",
       "      <td>NaN</td>\n",
       "      <td>Quarter Finals</td>\n",
       "      <td>No</td>\n",
       "      <td>0</td>\n",
       "      <td>NaN</td>\n",
       "      <td>NaN</td>\n",
       "      <td>Uruguay</td>\n",
       "      <td>France</td>\n",
       "    </tr>\n",
       "    <tr>\n",
       "      <th>116</th>\n",
       "      <td>7/7/2018</td>\n",
       "      <td>Sweden__England</td>\n",
       "      <td>0</td>\n",
       "      <td>43</td>\n",
       "      <td>7</td>\n",
       "      <td>3</td>\n",
       "      <td>3</td>\n",
       "      <td>1</td>\n",
       "      <td>1</td>\n",
       "      <td>2</td>\n",
       "      <td>...</td>\n",
       "      <td>0</td>\n",
       "      <td>No</td>\n",
       "      <td>NaN</td>\n",
       "      <td>Quarter Finals</td>\n",
       "      <td>No</td>\n",
       "      <td>0</td>\n",
       "      <td>NaN</td>\n",
       "      <td>NaN</td>\n",
       "      <td>Sweden</td>\n",
       "      <td>England</td>\n",
       "    </tr>\n",
       "    <tr>\n",
       "      <th>121</th>\n",
       "      <td>10/7/2018</td>\n",
       "      <td>Belgium__France</td>\n",
       "      <td>0</td>\n",
       "      <td>60</td>\n",
       "      <td>9</td>\n",
       "      <td>3</td>\n",
       "      <td>5</td>\n",
       "      <td>1</td>\n",
       "      <td>5</td>\n",
       "      <td>1</td>\n",
       "      <td>...</td>\n",
       "      <td>0</td>\n",
       "      <td>No</td>\n",
       "      <td>NaN</td>\n",
       "      <td>Semi- Finals</td>\n",
       "      <td>No</td>\n",
       "      <td>0</td>\n",
       "      <td>NaN</td>\n",
       "      <td>NaN</td>\n",
       "      <td>Belgium</td>\n",
       "      <td>France</td>\n",
       "    </tr>\n",
       "  </tbody>\n",
       "</table>\n",
       "<p>32 rows × 28 columns</p>\n",
       "</div>"
      ],
      "text/plain": [
       "          Date   Team_Opponent_Capital  Goal Scored  Ball Possession %  \\\n",
       "1    14/6/2018     SaudiArabia__Russia            0                 60   \n",
       "2    15/6/2018          Egypt__Uruguay            0                 43   \n",
       "4    15/6/2018           Morocco__Iran            0                 64   \n",
       "12   16/6/2018           Peru__Denmark            0                 52   \n",
       "15   17/6/2018         Nigeria__Crotia            0                 46   \n",
       "16   17/6/2018       CostaRica__Serbia            0                 50   \n",
       "18   17/6/2018         Germany__Mexico            0                 60   \n",
       "23   18/6/2018   KoreaRepublic__Sweden            0                 48   \n",
       "25   18/6/2018         Panama__Belgium            0                 39   \n",
       "35   20/6/2018       Morocco__Portugal            0                 53   \n",
       "37   20/6/2018    SaudiArabia__Uruguay            0                 53   \n",
       "38   20/6/2018             Iran__Spain            0                 30   \n",
       "43   21/6/2018            Peru__France            0                 56   \n",
       "44   21/6/2018       Argentina__Crotia            0                 58   \n",
       "47   22/6/2018       CostaRica__Brazil            0                 34   \n",
       "49   22/6/2018        Iceland__Nigeria            0                 42   \n",
       "62   24/6/2018        Poland__Colombia            0                 45   \n",
       "65   25/6/2018         Russia__Uruguay            0                 44   \n",
       "72   26/6/2018         Denmark__France            0                 38   \n",
       "73   26/6/2018         France__Denmark            0                 62   \n",
       "74   26/6/2018         Australia__Peru            0                 53   \n",
       "81   27/6/2018  Germany__KoreaRepublic            0                 70   \n",
       "82   27/6/2018          Mexico__Sweden            0                 65   \n",
       "84   27/6/2018          Serbia__Brazil            0                 44   \n",
       "88   28/6/2018           Japan__Poland            0                 54   \n",
       "90   28/6/2018       Senegal__Colombia            0                 43   \n",
       "94   28/6/2018        England__Belgium            0                 48   \n",
       "105   2/7/2018          Mexico__Brazil            0                 53   \n",
       "109   3/7/2018     Switzerland__Sweden            0                 63   \n",
       "112   6/7/2018         Uruguay__France            0                 42   \n",
       "116   7/7/2018         Sweden__England            0                 43   \n",
       "121  10/7/2018         Belgium__France            0                 60   \n",
       "\n",
       "     Attempts  On-Target  Off-Target  Blocked  Corners  Offsides  ...  Red  \\\n",
       "1           6          0           3        3        2         1  ...    0   \n",
       "2           8          3           3        2        0         1  ...    0   \n",
       "4          13          3           6        4        5         0  ...    0   \n",
       "12         18          6           7        5        3         5  ...    0   \n",
       "15         14          2           5        7        5         1  ...    0   \n",
       "16         10          3           3        4        5         1  ...    0   \n",
       "18         25          9           9        7        8         1  ...    0   \n",
       "23          5          0           2        3        5         0  ...    0   \n",
       "25          6          2           4        0        3         3  ...    0   \n",
       "35         16          4          10        2        7         1  ...    0   \n",
       "37          8          3           3        2        4         2  ...    0   \n",
       "38          5          0           5        0        2         2  ...    0   \n",
       "43         10          2           6        2        3         1  ...    0   \n",
       "44         10          3           3        4        5         3  ...    0   \n",
       "47          4          0           4        0        1         3  ...    0   \n",
       "49         10          3           6        1        5         0  ...    0   \n",
       "62          9          2           3        4        7         1  ...    0   \n",
       "65          3          1           1        1        2         2  ...    0   \n",
       "72          5          1           2        2        4         1  ...    0   \n",
       "73         11          4           6        1        2         1  ...    0   \n",
       "74         14          2           7        5        8         3  ...    0   \n",
       "81         26          6          11        9        9         1  ...    0   \n",
       "82         19          3           8        8        7         2  ...    0   \n",
       "84         10          1           5        4        5         2  ...    0   \n",
       "88         10          3           4        3        5         1  ...    0   \n",
       "90          8          3           4        1        1         3  ...    0   \n",
       "94         13          1           7        5        7         3  ...    0   \n",
       "105        13          1           4        8        7         2  ...    0   \n",
       "109        18          4           5        9       11         0  ...    1   \n",
       "112        11          4           6        1        4         0  ...    0   \n",
       "116         7          3           3        1        1         2  ...    0   \n",
       "121         9          3           5        1        5         1  ...    0   \n",
       "\n",
       "     Man of the Match  1st Goal           Round  PSO  Goals in PSO  Own goals  \\\n",
       "1                  No       NaN     Group Stage   No             0        NaN   \n",
       "2                  No       NaN     Group Stage   No             0        NaN   \n",
       "4                  No       NaN     Group Stage   No             0        1.0   \n",
       "12                 No       NaN     Group Stage   No             0        NaN   \n",
       "15                 No       NaN     Group Stage   No             0        1.0   \n",
       "16                 No       NaN     Group Stage   No             0        NaN   \n",
       "18                Yes       NaN     Group Stage   No             0        NaN   \n",
       "23                 No       NaN     Group Stage   No             0        NaN   \n",
       "25                 No       NaN     Group Stage   No             0        NaN   \n",
       "35                 No       NaN     Group Stage   No             0        NaN   \n",
       "37                 No       NaN     Group Stage   No             0        NaN   \n",
       "38                 No       NaN     Group Stage   No             0        NaN   \n",
       "43                 No       NaN     Group Stage   No             0        NaN   \n",
       "44                 No       NaN     Group Stage   No             0        NaN   \n",
       "47                 No       NaN     Group Stage   No             0        NaN   \n",
       "49                 No       NaN     Group Stage   No             0        NaN   \n",
       "62                 No       NaN     Group Stage   No             0        NaN   \n",
       "65                 No       NaN     Group Stage   No             0        1.0   \n",
       "72                 No       NaN     Group Stage   No             0        NaN   \n",
       "73                Yes       NaN     Group Stage   No             0        NaN   \n",
       "74                 No       NaN     Group Stage   No             0        NaN   \n",
       "81                 No       NaN     Group Stage   No             0        NaN   \n",
       "82                 No       NaN     Group Stage   No             0        1.0   \n",
       "84                 No       NaN     Group Stage   No             0        NaN   \n",
       "88                 No       NaN     Group Stage   No             0        NaN   \n",
       "90                 No       NaN     Group Stage   No             0        NaN   \n",
       "94                 No       NaN     Group Stage   No             0        NaN   \n",
       "105                No       NaN     Round of 16   No             0        NaN   \n",
       "109                No       NaN     Round of 16   No             0        NaN   \n",
       "112                No       NaN  Quarter Finals   No             0        NaN   \n",
       "116                No       NaN  Quarter Finals   No             0        NaN   \n",
       "121                No       NaN    Semi- Finals   No             0        NaN   \n",
       "\n",
       "     Own goal Time           Team       Opponent  \n",
       "1              NaN    SaudiArabia         Russia  \n",
       "2              NaN          Egypt        Uruguay  \n",
       "4             90.0        Morocco           Iran  \n",
       "12             NaN           Peru        Denmark  \n",
       "15            32.0        Nigeria         Crotia  \n",
       "16             NaN      CostaRica         Serbia  \n",
       "18             NaN        Germany         Mexico  \n",
       "23             NaN  KoreaRepublic         Sweden  \n",
       "25             NaN         Panama        Belgium  \n",
       "35             NaN        Morocco       Portugal  \n",
       "37             NaN    SaudiArabia        Uruguay  \n",
       "38             NaN           Iran          Spain  \n",
       "43             NaN           Peru         France  \n",
       "44             NaN      Argentina         Crotia  \n",
       "47             NaN      CostaRica         Brazil  \n",
       "49             NaN        Iceland        Nigeria  \n",
       "62             NaN         Poland       Colombia  \n",
       "65            23.0         Russia        Uruguay  \n",
       "72             NaN        Denmark         France  \n",
       "73             NaN         France        Denmark  \n",
       "74             NaN      Australia           Peru  \n",
       "81             NaN        Germany  KoreaRepublic  \n",
       "82            74.0         Mexico         Sweden  \n",
       "84             NaN         Serbia         Brazil  \n",
       "88             NaN          Japan         Poland  \n",
       "90             NaN        Senegal       Colombia  \n",
       "94             NaN        England        Belgium  \n",
       "105            NaN         Mexico         Brazil  \n",
       "109            NaN    Switzerland         Sweden  \n",
       "112            NaN        Uruguay         France  \n",
       "116            NaN         Sweden        England  \n",
       "121            NaN        Belgium         France  \n",
       "\n",
       "[32 rows x 28 columns]"
      ]
     },
     "execution_count": 96,
     "metadata": {},
     "output_type": "execute_result"
    }
   ],
   "source": [
    "fifaStats[fifaStats['Goal Scored'] == 0]"
   ]
  },
  {
   "cell_type": "code",
   "execution_count": 97,
   "metadata": {
    "id": "ZYT8YaML0ZNn",
    "outputId": "78011270-d4cf-4694-ae5a-49e9374a3c91"
   },
   "outputs": [
    {
     "data": {
      "text/plain": [
       "124"
      ]
     },
     "execution_count": 97,
     "metadata": {},
     "output_type": "execute_result"
    }
   ],
   "source": [
    "len(fifaStats['Goal Scored'] == 0)"
   ]
  },
  {
   "cell_type": "markdown",
   "metadata": {
    "id": "6QaRRCiq0ZNo"
   },
   "source": [
    "<b>Remember!!!!</b>: Variable Names are CASE SENSITIVE! "
   ]
  },
  {
   "cell_type": "code",
   "execution_count": 98,
   "metadata": {
    "id": "iL59N0zN0ZNo",
    "outputId": "58977719-6568-4d0b-c792-a734bf9e512b"
   },
   "outputs": [
    {
     "data": {
      "text/plain": [
       "32"
      ]
     },
     "execution_count": 98,
     "metadata": {},
     "output_type": "execute_result"
    }
   ],
   "source": [
    "len(fifaStats[fifaStats['Goal Scored'] == 0])"
   ]
  },
  {
   "cell_type": "markdown",
   "metadata": {
    "id": "8Rq3hR-n0ZNp"
   },
   "source": [
    "In this part, we can also show the dropping or adding of a column. Maybe drop the yellow + red column from the dataset, and have participants add it in here"
   ]
  },
  {
   "cell_type": "markdown",
   "metadata": {
    "id": "zLnAqkIT0ZNq"
   },
   "source": [
    "#### Melting and reshaping data\n",
    "\n",
    "There are many different ways to reshape a pandas dataframe from wide to long form. But the melt() method is the most flexible method used for melting and reshaping data. Let us understand more on how it is done."
   ]
  },
  {
   "cell_type": "code",
   "execution_count": 23,
   "metadata": {
    "id": "DtHGWNtN0ZNr"
   },
   "outputs": [],
   "source": [
    "fileName = r\"C:\\Users\\mingj\\Desktop\\Analytics and Computational modelling\\GoalStats 20180716.xlsx\" #Enter your filename here"
   ]
  },
  {
   "cell_type": "code",
   "execution_count": 24,
   "metadata": {
    "id": "VkMFiAiH0ZNr",
    "outputId": "31278fff-cfd1-4ea6-cc9e-d7eab31385b1"
   },
   "outputs": [
    {
     "data": {
      "text/html": [
       "<div>\n",
       "<style scoped>\n",
       "    .dataframe tbody tr th:only-of-type {\n",
       "        vertical-align: middle;\n",
       "    }\n",
       "\n",
       "    .dataframe tbody tr th {\n",
       "        vertical-align: top;\n",
       "    }\n",
       "\n",
       "    .dataframe thead th {\n",
       "        text-align: right;\n",
       "    }\n",
       "</style>\n",
       "<table border=\"1\" class=\"dataframe\">\n",
       "  <thead>\n",
       "    <tr style=\"text-align: right;\">\n",
       "      <th></th>\n",
       "      <th>Team</th>\n",
       "      <th>2018-06-14 00:00:00</th>\n",
       "      <th>2018-06-15 00:00:00</th>\n",
       "      <th>2018-06-16 00:00:00</th>\n",
       "      <th>2018-06-17 00:00:00</th>\n",
       "      <th>2018-06-18 00:00:00</th>\n",
       "      <th>2018-06-19 00:00:00</th>\n",
       "      <th>2018-06-20 00:00:00</th>\n",
       "      <th>2018-06-21 00:00:00</th>\n",
       "      <th>2018-06-22 00:00:00</th>\n",
       "      <th>...</th>\n",
       "      <th>2018-07-02 00:00:00</th>\n",
       "      <th>2018-07-03 00:00:00</th>\n",
       "      <th>2018-07-06 00:00:00</th>\n",
       "      <th>2018-07-07 00:00:00</th>\n",
       "      <th>2018-07-10 00:00:00</th>\n",
       "      <th>2018-07-11 00:00:00</th>\n",
       "      <th>TOTAL</th>\n",
       "      <th>Tweet 1</th>\n",
       "      <th>Tweet 2</th>\n",
       "      <th>Tweet 3</th>\n",
       "    </tr>\n",
       "  </thead>\n",
       "  <tbody>\n",
       "    <tr>\n",
       "      <th>0</th>\n",
       "      <td>Russia</td>\n",
       "      <td>5</td>\n",
       "      <td>0</td>\n",
       "      <td>0</td>\n",
       "      <td>0</td>\n",
       "      <td>0</td>\n",
       "      <td>3</td>\n",
       "      <td>0</td>\n",
       "      <td>0</td>\n",
       "      <td>0</td>\n",
       "      <td>...</td>\n",
       "      <td>0</td>\n",
       "      <td>0</td>\n",
       "      <td>0</td>\n",
       "      <td>2</td>\n",
       "      <td>0</td>\n",
       "      <td>0</td>\n",
       "      <td>11</td>\n",
       "      <td>NaN</td>\n",
       "      <td>NaN</td>\n",
       "      <td>NaN</td>\n",
       "    </tr>\n",
       "    <tr>\n",
       "      <th>1</th>\n",
       "      <td>Saudi Arabia</td>\n",
       "      <td>0</td>\n",
       "      <td>0</td>\n",
       "      <td>0</td>\n",
       "      <td>0</td>\n",
       "      <td>0</td>\n",
       "      <td>0</td>\n",
       "      <td>0</td>\n",
       "      <td>0</td>\n",
       "      <td>0</td>\n",
       "      <td>...</td>\n",
       "      <td>0</td>\n",
       "      <td>0</td>\n",
       "      <td>0</td>\n",
       "      <td>0</td>\n",
       "      <td>0</td>\n",
       "      <td>0</td>\n",
       "      <td>2</td>\n",
       "      <td>NaN</td>\n",
       "      <td>NaN</td>\n",
       "      <td>NaN</td>\n",
       "    </tr>\n",
       "    <tr>\n",
       "      <th>2</th>\n",
       "      <td>Egypt</td>\n",
       "      <td>0</td>\n",
       "      <td>0</td>\n",
       "      <td>0</td>\n",
       "      <td>0</td>\n",
       "      <td>0</td>\n",
       "      <td>1</td>\n",
       "      <td>0</td>\n",
       "      <td>0</td>\n",
       "      <td>0</td>\n",
       "      <td>...</td>\n",
       "      <td>0</td>\n",
       "      <td>0</td>\n",
       "      <td>0</td>\n",
       "      <td>0</td>\n",
       "      <td>0</td>\n",
       "      <td>0</td>\n",
       "      <td>2</td>\n",
       "      <td>NaN</td>\n",
       "      <td>NaN</td>\n",
       "      <td>NaN</td>\n",
       "    </tr>\n",
       "    <tr>\n",
       "      <th>3</th>\n",
       "      <td>Uruguay</td>\n",
       "      <td>0</td>\n",
       "      <td>1</td>\n",
       "      <td>0</td>\n",
       "      <td>0</td>\n",
       "      <td>0</td>\n",
       "      <td>0</td>\n",
       "      <td>1</td>\n",
       "      <td>0</td>\n",
       "      <td>0</td>\n",
       "      <td>...</td>\n",
       "      <td>0</td>\n",
       "      <td>0</td>\n",
       "      <td>0</td>\n",
       "      <td>0</td>\n",
       "      <td>0</td>\n",
       "      <td>0</td>\n",
       "      <td>7</td>\n",
       "      <td>NaN</td>\n",
       "      <td>NaN</td>\n",
       "      <td>NaN</td>\n",
       "    </tr>\n",
       "    <tr>\n",
       "      <th>4</th>\n",
       "      <td>Morocco</td>\n",
       "      <td>0</td>\n",
       "      <td>0</td>\n",
       "      <td>0</td>\n",
       "      <td>0</td>\n",
       "      <td>0</td>\n",
       "      <td>0</td>\n",
       "      <td>0</td>\n",
       "      <td>0</td>\n",
       "      <td>0</td>\n",
       "      <td>...</td>\n",
       "      <td>0</td>\n",
       "      <td>0</td>\n",
       "      <td>0</td>\n",
       "      <td>0</td>\n",
       "      <td>0</td>\n",
       "      <td>0</td>\n",
       "      <td>2</td>\n",
       "      <td>NaN</td>\n",
       "      <td>NaN</td>\n",
       "      <td>NaN</td>\n",
       "    </tr>\n",
       "  </tbody>\n",
       "</table>\n",
       "<p>5 rows × 28 columns</p>\n",
       "</div>"
      ],
      "text/plain": [
       "           Team  2018-06-14 00:00:00  2018-06-15 00:00:00  \\\n",
       "0        Russia                    5                    0   \n",
       "1  Saudi Arabia                    0                    0   \n",
       "2         Egypt                    0                    0   \n",
       "3       Uruguay                    0                    1   \n",
       "4       Morocco                    0                    0   \n",
       "\n",
       "   2018-06-16 00:00:00  2018-06-17 00:00:00  2018-06-18 00:00:00  \\\n",
       "0                    0                    0                    0   \n",
       "1                    0                    0                    0   \n",
       "2                    0                    0                    0   \n",
       "3                    0                    0                    0   \n",
       "4                    0                    0                    0   \n",
       "\n",
       "   2018-06-19 00:00:00  2018-06-20 00:00:00  2018-06-21 00:00:00  \\\n",
       "0                    3                    0                    0   \n",
       "1                    0                    0                    0   \n",
       "2                    1                    0                    0   \n",
       "3                    0                    1                    0   \n",
       "4                    0                    0                    0   \n",
       "\n",
       "   2018-06-22 00:00:00  ...  2018-07-02 00:00:00  2018-07-03 00:00:00  \\\n",
       "0                    0  ...                    0                    0   \n",
       "1                    0  ...                    0                    0   \n",
       "2                    0  ...                    0                    0   \n",
       "3                    0  ...                    0                    0   \n",
       "4                    0  ...                    0                    0   \n",
       "\n",
       "   2018-07-06 00:00:00  2018-07-07 00:00:00  2018-07-10 00:00:00  \\\n",
       "0                    0                    2                    0   \n",
       "1                    0                    0                    0   \n",
       "2                    0                    0                    0   \n",
       "3                    0                    0                    0   \n",
       "4                    0                    0                    0   \n",
       "\n",
       "   2018-07-11 00:00:00  TOTAL  Tweet 1  Tweet 2  Tweet 3  \n",
       "0                    0     11      NaN      NaN      NaN  \n",
       "1                    0      2      NaN      NaN      NaN  \n",
       "2                    0      2      NaN      NaN      NaN  \n",
       "3                    0      7      NaN      NaN      NaN  \n",
       "4                    0      2      NaN      NaN      NaN  \n",
       "\n",
       "[5 rows x 28 columns]"
      ]
     },
     "execution_count": 24,
     "metadata": {},
     "output_type": "execute_result"
    }
   ],
   "source": [
    "goalStats = pd.read_excel(fileName, sheet_name = 'Goals by date')\n",
    "goalStats.head()"
   ]
  },
  {
   "cell_type": "code",
   "execution_count": 25,
   "metadata": {
    "id": "_p-seNE30ZNs",
    "outputId": "aa68155a-869a-42ab-f5ad-b3d20316fbc9"
   },
   "outputs": [
    {
     "data": {
      "text/html": [
       "<div>\n",
       "<style scoped>\n",
       "    .dataframe tbody tr th:only-of-type {\n",
       "        vertical-align: middle;\n",
       "    }\n",
       "\n",
       "    .dataframe tbody tr th {\n",
       "        vertical-align: top;\n",
       "    }\n",
       "\n",
       "    .dataframe thead th {\n",
       "        text-align: right;\n",
       "    }\n",
       "</style>\n",
       "<table border=\"1\" class=\"dataframe\">\n",
       "  <thead>\n",
       "    <tr style=\"text-align: right;\">\n",
       "      <th></th>\n",
       "      <th>Team</th>\n",
       "      <th>Date</th>\n",
       "      <th>Goals</th>\n",
       "    </tr>\n",
       "  </thead>\n",
       "  <tbody>\n",
       "    <tr>\n",
       "      <th>0</th>\n",
       "      <td>Russia</td>\n",
       "      <td>2018-06-14 00:00:00</td>\n",
       "      <td>5.0</td>\n",
       "    </tr>\n",
       "    <tr>\n",
       "      <th>1</th>\n",
       "      <td>Saudi Arabia</td>\n",
       "      <td>2018-06-14 00:00:00</td>\n",
       "      <td>0.0</td>\n",
       "    </tr>\n",
       "    <tr>\n",
       "      <th>2</th>\n",
       "      <td>Egypt</td>\n",
       "      <td>2018-06-14 00:00:00</td>\n",
       "      <td>0.0</td>\n",
       "    </tr>\n",
       "    <tr>\n",
       "      <th>3</th>\n",
       "      <td>Uruguay</td>\n",
       "      <td>2018-06-14 00:00:00</td>\n",
       "      <td>0.0</td>\n",
       "    </tr>\n",
       "    <tr>\n",
       "      <th>4</th>\n",
       "      <td>Morocco</td>\n",
       "      <td>2018-06-14 00:00:00</td>\n",
       "      <td>0.0</td>\n",
       "    </tr>\n",
       "  </tbody>\n",
       "</table>\n",
       "</div>"
      ],
      "text/plain": [
       "           Team                 Date  Goals\n",
       "0        Russia  2018-06-14 00:00:00    5.0\n",
       "1  Saudi Arabia  2018-06-14 00:00:00    0.0\n",
       "2         Egypt  2018-06-14 00:00:00    0.0\n",
       "3       Uruguay  2018-06-14 00:00:00    0.0\n",
       "4       Morocco  2018-06-14 00:00:00    0.0"
      ]
     },
     "execution_count": 25,
     "metadata": {},
     "output_type": "execute_result"
    }
   ],
   "source": [
    "goalStatsLong = pd.melt(goalStats, id_vars = 'Team', var_name = 'Date', value_name = 'Goals')\n",
    "goalStatsLong.head()"
   ]
  },
  {
   "cell_type": "code",
   "execution_count": 26,
   "metadata": {
    "id": "GTFoxBU70ZNs",
    "outputId": "2b293e87-9a60-42c6-f67b-cfc2c2c1a05d"
   },
   "outputs": [
    {
     "data": {
      "text/html": [
       "<div>\n",
       "<style scoped>\n",
       "    .dataframe tbody tr th:only-of-type {\n",
       "        vertical-align: middle;\n",
       "    }\n",
       "\n",
       "    .dataframe tbody tr th {\n",
       "        vertical-align: top;\n",
       "    }\n",
       "\n",
       "    .dataframe thead th {\n",
       "        text-align: right;\n",
       "    }\n",
       "</style>\n",
       "<table border=\"1\" class=\"dataframe\">\n",
       "  <thead>\n",
       "    <tr style=\"text-align: right;\">\n",
       "      <th>Date</th>\n",
       "      <th>2018-06-14 00:00:00</th>\n",
       "      <th>2018-06-15 00:00:00</th>\n",
       "      <th>2018-06-16 00:00:00</th>\n",
       "      <th>2018-06-17 00:00:00</th>\n",
       "      <th>2018-06-18 00:00:00</th>\n",
       "      <th>2018-06-19 00:00:00</th>\n",
       "      <th>2018-06-20 00:00:00</th>\n",
       "      <th>2018-06-21 00:00:00</th>\n",
       "      <th>2018-06-22 00:00:00</th>\n",
       "      <th>2018-06-23 00:00:00</th>\n",
       "      <th>...</th>\n",
       "      <th>2018-07-02 00:00:00</th>\n",
       "      <th>2018-07-03 00:00:00</th>\n",
       "      <th>2018-07-06 00:00:00</th>\n",
       "      <th>2018-07-07 00:00:00</th>\n",
       "      <th>2018-07-10 00:00:00</th>\n",
       "      <th>2018-07-11 00:00:00</th>\n",
       "      <th>TOTAL</th>\n",
       "      <th>Tweet 1</th>\n",
       "      <th>Tweet 2</th>\n",
       "      <th>Tweet 3</th>\n",
       "    </tr>\n",
       "    <tr>\n",
       "      <th>Team</th>\n",
       "      <th></th>\n",
       "      <th></th>\n",
       "      <th></th>\n",
       "      <th></th>\n",
       "      <th></th>\n",
       "      <th></th>\n",
       "      <th></th>\n",
       "      <th></th>\n",
       "      <th></th>\n",
       "      <th></th>\n",
       "      <th></th>\n",
       "      <th></th>\n",
       "      <th></th>\n",
       "      <th></th>\n",
       "      <th></th>\n",
       "      <th></th>\n",
       "      <th></th>\n",
       "      <th></th>\n",
       "      <th></th>\n",
       "      <th></th>\n",
       "      <th></th>\n",
       "    </tr>\n",
       "  </thead>\n",
       "  <tbody>\n",
       "    <tr>\n",
       "      <th>Argentina</th>\n",
       "      <td>0.0</td>\n",
       "      <td>0.0</td>\n",
       "      <td>1.0</td>\n",
       "      <td>0.0</td>\n",
       "      <td>0.0</td>\n",
       "      <td>0.0</td>\n",
       "      <td>0.0</td>\n",
       "      <td>0.0</td>\n",
       "      <td>0.0</td>\n",
       "      <td>0.0</td>\n",
       "      <td>...</td>\n",
       "      <td>0.0</td>\n",
       "      <td>0.0</td>\n",
       "      <td>0.0</td>\n",
       "      <td>0.0</td>\n",
       "      <td>0.0</td>\n",
       "      <td>0.0</td>\n",
       "      <td>6.0</td>\n",
       "      <td>NaN</td>\n",
       "      <td>NaN</td>\n",
       "      <td>NaN</td>\n",
       "    </tr>\n",
       "    <tr>\n",
       "      <th>Australia</th>\n",
       "      <td>0.0</td>\n",
       "      <td>0.0</td>\n",
       "      <td>1.0</td>\n",
       "      <td>0.0</td>\n",
       "      <td>0.0</td>\n",
       "      <td>0.0</td>\n",
       "      <td>0.0</td>\n",
       "      <td>1.0</td>\n",
       "      <td>0.0</td>\n",
       "      <td>0.0</td>\n",
       "      <td>...</td>\n",
       "      <td>0.0</td>\n",
       "      <td>0.0</td>\n",
       "      <td>0.0</td>\n",
       "      <td>0.0</td>\n",
       "      <td>0.0</td>\n",
       "      <td>0.0</td>\n",
       "      <td>2.0</td>\n",
       "      <td>NaN</td>\n",
       "      <td>NaN</td>\n",
       "      <td>NaN</td>\n",
       "    </tr>\n",
       "    <tr>\n",
       "      <th>Belgium</th>\n",
       "      <td>0.0</td>\n",
       "      <td>0.0</td>\n",
       "      <td>0.0</td>\n",
       "      <td>0.0</td>\n",
       "      <td>3.0</td>\n",
       "      <td>0.0</td>\n",
       "      <td>0.0</td>\n",
       "      <td>0.0</td>\n",
       "      <td>0.0</td>\n",
       "      <td>5.0</td>\n",
       "      <td>...</td>\n",
       "      <td>3.0</td>\n",
       "      <td>0.0</td>\n",
       "      <td>2.0</td>\n",
       "      <td>0.0</td>\n",
       "      <td>0.0</td>\n",
       "      <td>0.0</td>\n",
       "      <td>14.0</td>\n",
       "      <td>NaN</td>\n",
       "      <td>NaN</td>\n",
       "      <td>NaN</td>\n",
       "    </tr>\n",
       "    <tr>\n",
       "      <th>Brazil</th>\n",
       "      <td>0.0</td>\n",
       "      <td>0.0</td>\n",
       "      <td>0.0</td>\n",
       "      <td>1.0</td>\n",
       "      <td>0.0</td>\n",
       "      <td>0.0</td>\n",
       "      <td>0.0</td>\n",
       "      <td>0.0</td>\n",
       "      <td>2.0</td>\n",
       "      <td>0.0</td>\n",
       "      <td>...</td>\n",
       "      <td>2.0</td>\n",
       "      <td>0.0</td>\n",
       "      <td>1.0</td>\n",
       "      <td>0.0</td>\n",
       "      <td>0.0</td>\n",
       "      <td>0.0</td>\n",
       "      <td>8.0</td>\n",
       "      <td>NaN</td>\n",
       "      <td>NaN</td>\n",
       "      <td>NaN</td>\n",
       "    </tr>\n",
       "    <tr>\n",
       "      <th>Colombia</th>\n",
       "      <td>0.0</td>\n",
       "      <td>0.0</td>\n",
       "      <td>0.0</td>\n",
       "      <td>0.0</td>\n",
       "      <td>0.0</td>\n",
       "      <td>1.0</td>\n",
       "      <td>0.0</td>\n",
       "      <td>0.0</td>\n",
       "      <td>0.0</td>\n",
       "      <td>0.0</td>\n",
       "      <td>...</td>\n",
       "      <td>0.0</td>\n",
       "      <td>1.0</td>\n",
       "      <td>0.0</td>\n",
       "      <td>0.0</td>\n",
       "      <td>0.0</td>\n",
       "      <td>0.0</td>\n",
       "      <td>6.0</td>\n",
       "      <td>NaN</td>\n",
       "      <td>NaN</td>\n",
       "      <td>NaN</td>\n",
       "    </tr>\n",
       "  </tbody>\n",
       "</table>\n",
       "<p>5 rows × 27 columns</p>\n",
       "</div>"
      ],
      "text/plain": [
       "Date       2018-06-14 00:00:00  2018-06-15 00:00:00  2018-06-16 00:00:00  \\\n",
       "Team                                                                       \n",
       "Argentina                  0.0                  0.0                  1.0   \n",
       "Australia                  0.0                  0.0                  1.0   \n",
       "Belgium                    0.0                  0.0                  0.0   \n",
       "Brazil                     0.0                  0.0                  0.0   \n",
       "Colombia                   0.0                  0.0                  0.0   \n",
       "\n",
       "Date       2018-06-17 00:00:00  2018-06-18 00:00:00  2018-06-19 00:00:00  \\\n",
       "Team                                                                       \n",
       "Argentina                  0.0                  0.0                  0.0   \n",
       "Australia                  0.0                  0.0                  0.0   \n",
       "Belgium                    0.0                  3.0                  0.0   \n",
       "Brazil                     1.0                  0.0                  0.0   \n",
       "Colombia                   0.0                  0.0                  1.0   \n",
       "\n",
       "Date       2018-06-20 00:00:00  2018-06-21 00:00:00  2018-06-22 00:00:00  \\\n",
       "Team                                                                       \n",
       "Argentina                  0.0                  0.0                  0.0   \n",
       "Australia                  0.0                  1.0                  0.0   \n",
       "Belgium                    0.0                  0.0                  0.0   \n",
       "Brazil                     0.0                  0.0                  2.0   \n",
       "Colombia                   0.0                  0.0                  0.0   \n",
       "\n",
       "Date       2018-06-23 00:00:00  ...  2018-07-02 00:00:00  2018-07-03 00:00:00  \\\n",
       "Team                            ...                                             \n",
       "Argentina                  0.0  ...                  0.0                  0.0   \n",
       "Australia                  0.0  ...                  0.0                  0.0   \n",
       "Belgium                    5.0  ...                  3.0                  0.0   \n",
       "Brazil                     0.0  ...                  2.0                  0.0   \n",
       "Colombia                   0.0  ...                  0.0                  1.0   \n",
       "\n",
       "Date       2018-07-06 00:00:00  2018-07-07 00:00:00  2018-07-10 00:00:00  \\\n",
       "Team                                                                       \n",
       "Argentina                  0.0                  0.0                  0.0   \n",
       "Australia                  0.0                  0.0                  0.0   \n",
       "Belgium                    2.0                  0.0                  0.0   \n",
       "Brazil                     1.0                  0.0                  0.0   \n",
       "Colombia                   0.0                  0.0                  0.0   \n",
       "\n",
       "Date       2018-07-11 00:00:00  TOTAL  Tweet 1  Tweet 2  Tweet 3  \n",
       "Team                                                              \n",
       "Argentina                  0.0    6.0      NaN      NaN      NaN  \n",
       "Australia                  0.0    2.0      NaN      NaN      NaN  \n",
       "Belgium                    0.0   14.0      NaN      NaN      NaN  \n",
       "Brazil                     0.0    8.0      NaN      NaN      NaN  \n",
       "Colombia                   0.0    6.0      NaN      NaN      NaN  \n",
       "\n",
       "[5 rows x 27 columns]"
      ]
     },
     "execution_count": 26,
     "metadata": {},
     "output_type": "execute_result"
    }
   ],
   "source": [
    "goalStatsWide = goalStatsLong.pivot(index= 'Team', columns = 'Date', values = 'Goals')\n",
    "goalStatsWide.head()"
   ]
  },
  {
   "cell_type": "code",
   "execution_count": 27,
   "metadata": {
    "id": "5EBQmL4_0ZNs",
    "outputId": "a1aff0dd-731f-40b8-9855-5f5b1b86761a"
   },
   "outputs": [
    {
     "data": {
      "text/html": [
       "<div>\n",
       "<style scoped>\n",
       "    .dataframe tbody tr th:only-of-type {\n",
       "        vertical-align: middle;\n",
       "    }\n",
       "\n",
       "    .dataframe tbody tr th {\n",
       "        vertical-align: top;\n",
       "    }\n",
       "\n",
       "    .dataframe thead th {\n",
       "        text-align: right;\n",
       "    }\n",
       "</style>\n",
       "<table border=\"1\" class=\"dataframe\">\n",
       "  <thead>\n",
       "    <tr style=\"text-align: right;\">\n",
       "      <th>Team</th>\n",
       "      <th>Argentina</th>\n",
       "      <th>Australia</th>\n",
       "      <th>Belgium</th>\n",
       "      <th>Brazil</th>\n",
       "      <th>Colombia</th>\n",
       "      <th>Costa Rica</th>\n",
       "      <th>Crotia</th>\n",
       "      <th>Denamrk</th>\n",
       "      <th>Denmark</th>\n",
       "      <th>Egypt</th>\n",
       "      <th>...</th>\n",
       "      <th>Portugal</th>\n",
       "      <th>Russia</th>\n",
       "      <th>Saudi Arabia</th>\n",
       "      <th>Senegal</th>\n",
       "      <th>Serbia</th>\n",
       "      <th>Spain</th>\n",
       "      <th>Sweden</th>\n",
       "      <th>Switzerland</th>\n",
       "      <th>Tunisia</th>\n",
       "      <th>Uruguay</th>\n",
       "    </tr>\n",
       "    <tr>\n",
       "      <th>Date</th>\n",
       "      <th></th>\n",
       "      <th></th>\n",
       "      <th></th>\n",
       "      <th></th>\n",
       "      <th></th>\n",
       "      <th></th>\n",
       "      <th></th>\n",
       "      <th></th>\n",
       "      <th></th>\n",
       "      <th></th>\n",
       "      <th></th>\n",
       "      <th></th>\n",
       "      <th></th>\n",
       "      <th></th>\n",
       "      <th></th>\n",
       "      <th></th>\n",
       "      <th></th>\n",
       "      <th></th>\n",
       "      <th></th>\n",
       "      <th></th>\n",
       "      <th></th>\n",
       "    </tr>\n",
       "  </thead>\n",
       "  <tbody>\n",
       "    <tr>\n",
       "      <th>2018-06-14 00:00:00</th>\n",
       "      <td>0.0</td>\n",
       "      <td>0.0</td>\n",
       "      <td>0.0</td>\n",
       "      <td>0.0</td>\n",
       "      <td>0.0</td>\n",
       "      <td>0.0</td>\n",
       "      <td>0.0</td>\n",
       "      <td>0.0</td>\n",
       "      <td>0.0</td>\n",
       "      <td>0.0</td>\n",
       "      <td>...</td>\n",
       "      <td>0.0</td>\n",
       "      <td>5.0</td>\n",
       "      <td>0.0</td>\n",
       "      <td>0.0</td>\n",
       "      <td>0.0</td>\n",
       "      <td>0.0</td>\n",
       "      <td>0.0</td>\n",
       "      <td>0.0</td>\n",
       "      <td>0.0</td>\n",
       "      <td>0.0</td>\n",
       "    </tr>\n",
       "    <tr>\n",
       "      <th>2018-06-15 00:00:00</th>\n",
       "      <td>0.0</td>\n",
       "      <td>0.0</td>\n",
       "      <td>0.0</td>\n",
       "      <td>0.0</td>\n",
       "      <td>0.0</td>\n",
       "      <td>0.0</td>\n",
       "      <td>0.0</td>\n",
       "      <td>0.0</td>\n",
       "      <td>0.0</td>\n",
       "      <td>0.0</td>\n",
       "      <td>...</td>\n",
       "      <td>3.0</td>\n",
       "      <td>0.0</td>\n",
       "      <td>0.0</td>\n",
       "      <td>0.0</td>\n",
       "      <td>0.0</td>\n",
       "      <td>3.0</td>\n",
       "      <td>0.0</td>\n",
       "      <td>0.0</td>\n",
       "      <td>0.0</td>\n",
       "      <td>1.0</td>\n",
       "    </tr>\n",
       "    <tr>\n",
       "      <th>2018-06-16 00:00:00</th>\n",
       "      <td>1.0</td>\n",
       "      <td>1.0</td>\n",
       "      <td>0.0</td>\n",
       "      <td>0.0</td>\n",
       "      <td>0.0</td>\n",
       "      <td>0.0</td>\n",
       "      <td>0.0</td>\n",
       "      <td>0.0</td>\n",
       "      <td>1.0</td>\n",
       "      <td>0.0</td>\n",
       "      <td>...</td>\n",
       "      <td>0.0</td>\n",
       "      <td>0.0</td>\n",
       "      <td>0.0</td>\n",
       "      <td>0.0</td>\n",
       "      <td>0.0</td>\n",
       "      <td>0.0</td>\n",
       "      <td>0.0</td>\n",
       "      <td>0.0</td>\n",
       "      <td>0.0</td>\n",
       "      <td>0.0</td>\n",
       "    </tr>\n",
       "    <tr>\n",
       "      <th>2018-06-17 00:00:00</th>\n",
       "      <td>0.0</td>\n",
       "      <td>0.0</td>\n",
       "      <td>0.0</td>\n",
       "      <td>1.0</td>\n",
       "      <td>0.0</td>\n",
       "      <td>0.0</td>\n",
       "      <td>2.0</td>\n",
       "      <td>0.0</td>\n",
       "      <td>0.0</td>\n",
       "      <td>0.0</td>\n",
       "      <td>...</td>\n",
       "      <td>0.0</td>\n",
       "      <td>0.0</td>\n",
       "      <td>0.0</td>\n",
       "      <td>0.0</td>\n",
       "      <td>1.0</td>\n",
       "      <td>0.0</td>\n",
       "      <td>0.0</td>\n",
       "      <td>1.0</td>\n",
       "      <td>0.0</td>\n",
       "      <td>0.0</td>\n",
       "    </tr>\n",
       "    <tr>\n",
       "      <th>2018-06-18 00:00:00</th>\n",
       "      <td>0.0</td>\n",
       "      <td>0.0</td>\n",
       "      <td>3.0</td>\n",
       "      <td>0.0</td>\n",
       "      <td>0.0</td>\n",
       "      <td>0.0</td>\n",
       "      <td>0.0</td>\n",
       "      <td>0.0</td>\n",
       "      <td>0.0</td>\n",
       "      <td>0.0</td>\n",
       "      <td>...</td>\n",
       "      <td>0.0</td>\n",
       "      <td>0.0</td>\n",
       "      <td>0.0</td>\n",
       "      <td>0.0</td>\n",
       "      <td>0.0</td>\n",
       "      <td>0.0</td>\n",
       "      <td>1.0</td>\n",
       "      <td>0.0</td>\n",
       "      <td>1.0</td>\n",
       "      <td>0.0</td>\n",
       "    </tr>\n",
       "  </tbody>\n",
       "</table>\n",
       "<p>5 rows × 33 columns</p>\n",
       "</div>"
      ],
      "text/plain": [
       "Team                 Argentina  Australia  Belgium  Brazil  Colombia  \\\n",
       "Date                                                                   \n",
       "2018-06-14 00:00:00        0.0        0.0      0.0     0.0       0.0   \n",
       "2018-06-15 00:00:00        0.0        0.0      0.0     0.0       0.0   \n",
       "2018-06-16 00:00:00        1.0        1.0      0.0     0.0       0.0   \n",
       "2018-06-17 00:00:00        0.0        0.0      0.0     1.0       0.0   \n",
       "2018-06-18 00:00:00        0.0        0.0      3.0     0.0       0.0   \n",
       "\n",
       "Team                 Costa Rica  Crotia  Denamrk  Denmark  Egypt  ...  \\\n",
       "Date                                                              ...   \n",
       "2018-06-14 00:00:00         0.0     0.0      0.0      0.0    0.0  ...   \n",
       "2018-06-15 00:00:00         0.0     0.0      0.0      0.0    0.0  ...   \n",
       "2018-06-16 00:00:00         0.0     0.0      0.0      1.0    0.0  ...   \n",
       "2018-06-17 00:00:00         0.0     2.0      0.0      0.0    0.0  ...   \n",
       "2018-06-18 00:00:00         0.0     0.0      0.0      0.0    0.0  ...   \n",
       "\n",
       "Team                 Portugal  Russia  Saudi Arabia  Senegal  Serbia  Spain  \\\n",
       "Date                                                                          \n",
       "2018-06-14 00:00:00       0.0     5.0           0.0      0.0     0.0    0.0   \n",
       "2018-06-15 00:00:00       3.0     0.0           0.0      0.0     0.0    3.0   \n",
       "2018-06-16 00:00:00       0.0     0.0           0.0      0.0     0.0    0.0   \n",
       "2018-06-17 00:00:00       0.0     0.0           0.0      0.0     1.0    0.0   \n",
       "2018-06-18 00:00:00       0.0     0.0           0.0      0.0     0.0    0.0   \n",
       "\n",
       "Team                 Sweden  Switzerland  Tunisia  Uruguay  \n",
       "Date                                                        \n",
       "2018-06-14 00:00:00     0.0          0.0      0.0      0.0  \n",
       "2018-06-15 00:00:00     0.0          0.0      0.0      1.0  \n",
       "2018-06-16 00:00:00     0.0          0.0      0.0      0.0  \n",
       "2018-06-17 00:00:00     0.0          1.0      0.0      0.0  \n",
       "2018-06-18 00:00:00     1.0          0.0      1.0      0.0  \n",
       "\n",
       "[5 rows x 33 columns]"
      ]
     },
     "execution_count": 27,
     "metadata": {},
     "output_type": "execute_result"
    }
   ],
   "source": [
    "goalStatsWideDate = goalStatsLong.pivot(index= 'Date', columns = 'Team', values = 'Goals')\n",
    "goalStatsWideDate.head()"
   ]
  },
  {
   "cell_type": "markdown",
   "metadata": {
    "id": "7jouVsR80ZNt"
   },
   "source": [
    "### Plot goals over time"
   ]
  },
  {
   "cell_type": "code",
   "execution_count": 28,
   "metadata": {
    "id": "mi0ummz_0ZNt"
   },
   "outputs": [],
   "source": [
    "from matplotlib import pyplot"
   ]
  },
  {
   "cell_type": "code",
   "execution_count": 32,
   "metadata": {
    "id": "HxEgDY-y0ZNu"
   },
   "outputs": [],
   "source": [
    "goalStatsWideDateCroatia = goalStatsWideDate[['Crotia']]"
   ]
  },
  {
   "cell_type": "code",
   "execution_count": 31,
   "metadata": {
    "id": "DBqFgLxa0ZNu",
    "outputId": "9eb33489-50d6-49f7-e13d-5063fbd61e0b"
   },
   "outputs": [
    {
     "data": {
      "text/html": [
       "<div>\n",
       "<style scoped>\n",
       "    .dataframe tbody tr th:only-of-type {\n",
       "        vertical-align: middle;\n",
       "    }\n",
       "\n",
       "    .dataframe tbody tr th {\n",
       "        vertical-align: top;\n",
       "    }\n",
       "\n",
       "    .dataframe thead th {\n",
       "        text-align: right;\n",
       "    }\n",
       "</style>\n",
       "<table border=\"1\" class=\"dataframe\">\n",
       "  <thead>\n",
       "    <tr style=\"text-align: right;\">\n",
       "      <th>Team</th>\n",
       "      <th>Crotia</th>\n",
       "    </tr>\n",
       "    <tr>\n",
       "      <th>Date</th>\n",
       "      <th></th>\n",
       "    </tr>\n",
       "  </thead>\n",
       "  <tbody>\n",
       "    <tr>\n",
       "      <th>2018-06-14 00:00:00</th>\n",
       "      <td>0.0</td>\n",
       "    </tr>\n",
       "    <tr>\n",
       "      <th>2018-06-15 00:00:00</th>\n",
       "      <td>0.0</td>\n",
       "    </tr>\n",
       "    <tr>\n",
       "      <th>2018-06-16 00:00:00</th>\n",
       "      <td>0.0</td>\n",
       "    </tr>\n",
       "    <tr>\n",
       "      <th>2018-06-17 00:00:00</th>\n",
       "      <td>2.0</td>\n",
       "    </tr>\n",
       "    <tr>\n",
       "      <th>2018-06-18 00:00:00</th>\n",
       "      <td>0.0</td>\n",
       "    </tr>\n",
       "  </tbody>\n",
       "</table>\n",
       "</div>"
      ],
      "text/plain": [
       "Team                 Crotia\n",
       "Date                       \n",
       "2018-06-14 00:00:00     0.0\n",
       "2018-06-15 00:00:00     0.0\n",
       "2018-06-16 00:00:00     0.0\n",
       "2018-06-17 00:00:00     2.0\n",
       "2018-06-18 00:00:00     0.0"
      ]
     },
     "execution_count": 31,
     "metadata": {},
     "output_type": "execute_result"
    }
   ],
   "source": [
    "goalStatsWideDateCroatia.head()"
   ]
  },
  {
   "cell_type": "code",
   "execution_count": 33,
   "metadata": {
    "id": "AgKz0LBC0ZNw",
    "outputId": "d9fbce07-dd31-49f1-aa80-cf511c06291e"
   },
   "outputs": [
    {
     "data": {
      "text/plain": [
       "<AxesSubplot:xlabel='Date'>"
      ]
     },
     "execution_count": 33,
     "metadata": {},
     "output_type": "execute_result"
    },
    {
     "data": {
      "image/png": "[encoded data removed]",
      "text/plain": [
       "<Figure size 720x360 with 1 Axes>"
      ]
     },
     "metadata": {
      "needs_background": "light"
     },
     "output_type": "display_data"
    }
   ],
   "source": [
    "goalStatsWideDateCroatia.plot(figsize=(10,5))"
   ]
  },
  {
   "cell_type": "markdown",
   "metadata": {
    "id": "NtdHSBom0ZNw"
   },
   "source": [
    "<b><i>Whoa! When did Croatia score 12 goals in a game?!!! </b></i>"
   ]
  },
  {
   "cell_type": "code",
   "execution_count": 34,
   "metadata": {
    "id": "uNwpxaPK0ZNx",
    "outputId": "edf5705f-b3e9-45cf-850e-094344b6eb87"
   },
   "outputs": [
    {
     "data": {
      "text/html": [
       "<div>\n",
       "<style scoped>\n",
       "    .dataframe tbody tr th:only-of-type {\n",
       "        vertical-align: middle;\n",
       "    }\n",
       "\n",
       "    .dataframe tbody tr th {\n",
       "        vertical-align: top;\n",
       "    }\n",
       "\n",
       "    .dataframe thead th {\n",
       "        text-align: right;\n",
       "    }\n",
       "</style>\n",
       "<table border=\"1\" class=\"dataframe\">\n",
       "  <thead>\n",
       "    <tr style=\"text-align: right;\">\n",
       "      <th>Team</th>\n",
       "      <th>Crotia</th>\n",
       "    </tr>\n",
       "    <tr>\n",
       "      <th>Date</th>\n",
       "      <th></th>\n",
       "    </tr>\n",
       "  </thead>\n",
       "  <tbody>\n",
       "    <tr>\n",
       "      <th>TOTAL</th>\n",
       "      <td>12.0</td>\n",
       "    </tr>\n",
       "  </tbody>\n",
       "</table>\n",
       "</div>"
      ],
      "text/plain": [
       "Team   Crotia\n",
       "Date         \n",
       "TOTAL    12.0"
      ]
     },
     "execution_count": 34,
     "metadata": {},
     "output_type": "execute_result"
    }
   ],
   "source": [
    "goalStatsWideDateCroatia[goalStatsWideDateCroatia['Crotia'] == 12]"
   ]
  },
  {
   "cell_type": "code",
   "execution_count": 35,
   "metadata": {
    "id": "WGy6Qzme0ZNx"
   },
   "outputs": [],
   "source": [
    "croatiaClean = goalStatsWideDateCroatia[goalStatsWideDateCroatia['Crotia'] != 12]"
   ]
  },
  {
   "cell_type": "code",
   "execution_count": 36,
   "metadata": {
    "id": "z_ibog9u0ZNy",
    "outputId": "aa8e6afc-c9aa-4daa-cab1-ab3ad5942797"
   },
   "outputs": [
    {
     "data": {
      "text/plain": [
       "<AxesSubplot:xlabel='Date'>"
      ]
     },
     "execution_count": 36,
     "metadata": {},
     "output_type": "execute_result"
    },
    {
     "data": {
      "image/png": "[encoded data removed]",
      "text/plain": [
       "<Figure size 720x360 with 1 Axes>"
      ]
     },
     "metadata": {
      "needs_background": "light"
     },
     "output_type": "display_data"
    }
   ],
   "source": [
    "croatiaClean.plot(figsize=(10,5))"
   ]
  }
 ],
 "metadata": {
  "colab": {
   "name": "Day 1- Introduction to Python.ipynb",
   "provenance": []
  },
  "kernelspec": {
   "display_name": "Python 3 (ipykernel)",
   "language": "python",
   "name": "python3"
  },
  "language_info": {
   "codemirror_mode": {
    "name": "ipython",
    "version": 3
   },
   "file_extension": ".py",
   "mimetype": "text/x-python",
   "name": "python",
   "nbconvert_exporter": "python",
   "pygments_lexer": "ipython3",
   "version": "3.8.11"
  }
 },
 "nbformat": 4,
 "nbformat_minor": 1
}
